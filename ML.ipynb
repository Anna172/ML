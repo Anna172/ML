{
  "nbformat": 4,
  "nbformat_minor": 0,
  "metadata": {
    "colab": {
      "name": "ML.ipynb",
      "provenance": [],
      "authorship_tag": "ABX9TyN3TPmvdOTGEf9yji3GqpGk",
      "include_colab_link": true
    },
    "kernelspec": {
      "name": "python3",
      "display_name": "Python 3"
    }
  },
  "cells": [
    {
      "cell_type": "markdown",
      "metadata": {
        "id": "view-in-github",
        "colab_type": "text"
      },
      "source": [
        "<a href=\"https://colab.research.google.com/github/Anna172/ML/blob/master/ML.ipynb\" target=\"_parent\"><img src=\"https://colab.research.google.com/assets/colab-badge.svg\" alt=\"Open In Colab\"/></a>"
      ]
    },
    {
      "cell_type": "code",
      "metadata": {
        "id": "05OE5W2OnsmL",
        "colab_type": "code",
        "colab": {}
      },
      "source": [
        "import numpy as np\n",
        "import pandas as pd\n",
        "from sklearn.model_selection import train_test_split\n",
        "import tqdm"
      ],
      "execution_count": 1,
      "outputs": []
    },
    {
      "cell_type": "markdown",
      "metadata": {
        "id": "INXjUUjHpcSR",
        "colab_type": "text"
      },
      "source": [
        "\n",
        "**Данные**\n",
        "\n",
        "Будем работать с датасетом от онлайн-кинотеатра Okko REKKO CHALLENGE.\n",
        "\n",
        "Имеющиеся данные содержат несколько файлов. Рассмотрим всё, что у нас есть.\n",
        "\n",
        "catalogue.json содержит анонимизированную метаинформацию о доступных в сервисе фильмах и сериалах:"
      ]
    },
    {
      "cell_type": "code",
      "metadata": {
        "id": "I6wyGzZGn2Db",
        "colab_type": "code",
        "colab": {
          "base_uri": "https://localhost:8080/",
          "height": 315
        },
        "outputId": "ef7cf637-83a8-4fe0-b1f6-66a95c488d8d"
      },
      "source": [
        "catalogue = pd.read_json('data/catalogue.json').T"
      ],
      "execution_count": 2,
      "outputs": [
        {
          "output_type": "error",
          "ename": "ValueError",
          "evalue": "ignored",
          "traceback": [
            "\u001b[0;31m---------------------------------------------------------------------------\u001b[0m",
            "\u001b[0;31mValueError\u001b[0m                                Traceback (most recent call last)",
            "\u001b[0;32m<ipython-input-2-5322f808d356>\u001b[0m in \u001b[0;36m<module>\u001b[0;34m()\u001b[0m\n\u001b[0;32m----> 1\u001b[0;31m \u001b[0mcatalogue\u001b[0m \u001b[0;34m=\u001b[0m \u001b[0mpd\u001b[0m\u001b[0;34m.\u001b[0m\u001b[0mread_json\u001b[0m\u001b[0;34m(\u001b[0m\u001b[0;34m'data/catalogue.json'\u001b[0m\u001b[0;34m)\u001b[0m\u001b[0;34m.\u001b[0m\u001b[0mT\u001b[0m\u001b[0;34m\u001b[0m\u001b[0;34m\u001b[0m\u001b[0m\n\u001b[0m",
            "\u001b[0;32m/usr/local/lib/python3.6/dist-packages/pandas/util/_decorators.py\u001b[0m in \u001b[0;36mwrapper\u001b[0;34m(*args, **kwargs)\u001b[0m\n\u001b[1;32m    212\u001b[0m                 \u001b[0;32melse\u001b[0m\u001b[0;34m:\u001b[0m\u001b[0;34m\u001b[0m\u001b[0;34m\u001b[0m\u001b[0m\n\u001b[1;32m    213\u001b[0m                     \u001b[0mkwargs\u001b[0m\u001b[0;34m[\u001b[0m\u001b[0mnew_arg_name\u001b[0m\u001b[0;34m]\u001b[0m \u001b[0;34m=\u001b[0m \u001b[0mnew_arg_value\u001b[0m\u001b[0;34m\u001b[0m\u001b[0;34m\u001b[0m\u001b[0m\n\u001b[0;32m--> 214\u001b[0;31m             \u001b[0;32mreturn\u001b[0m \u001b[0mfunc\u001b[0m\u001b[0;34m(\u001b[0m\u001b[0;34m*\u001b[0m\u001b[0margs\u001b[0m\u001b[0;34m,\u001b[0m \u001b[0;34m**\u001b[0m\u001b[0mkwargs\u001b[0m\u001b[0;34m)\u001b[0m\u001b[0;34m\u001b[0m\u001b[0;34m\u001b[0m\u001b[0m\n\u001b[0m\u001b[1;32m    215\u001b[0m \u001b[0;34m\u001b[0m\u001b[0m\n\u001b[1;32m    216\u001b[0m         \u001b[0;32mreturn\u001b[0m \u001b[0mcast\u001b[0m\u001b[0;34m(\u001b[0m\u001b[0mF\u001b[0m\u001b[0;34m,\u001b[0m \u001b[0mwrapper\u001b[0m\u001b[0;34m)\u001b[0m\u001b[0;34m\u001b[0m\u001b[0;34m\u001b[0m\u001b[0m\n",
            "\u001b[0;32m/usr/local/lib/python3.6/dist-packages/pandas/io/json/_json.py\u001b[0m in \u001b[0;36mread_json\u001b[0;34m(path_or_buf, orient, typ, dtype, convert_axes, convert_dates, keep_default_dates, numpy, precise_float, date_unit, encoding, lines, chunksize, compression)\u001b[0m\n\u001b[1;32m    606\u001b[0m         \u001b[0;32mreturn\u001b[0m \u001b[0mjson_reader\u001b[0m\u001b[0;34m\u001b[0m\u001b[0;34m\u001b[0m\u001b[0m\n\u001b[1;32m    607\u001b[0m \u001b[0;34m\u001b[0m\u001b[0m\n\u001b[0;32m--> 608\u001b[0;31m     \u001b[0mresult\u001b[0m \u001b[0;34m=\u001b[0m \u001b[0mjson_reader\u001b[0m\u001b[0;34m.\u001b[0m\u001b[0mread\u001b[0m\u001b[0;34m(\u001b[0m\u001b[0;34m)\u001b[0m\u001b[0;34m\u001b[0m\u001b[0;34m\u001b[0m\u001b[0m\n\u001b[0m\u001b[1;32m    609\u001b[0m     \u001b[0;32mif\u001b[0m \u001b[0mshould_close\u001b[0m\u001b[0;34m:\u001b[0m\u001b[0;34m\u001b[0m\u001b[0;34m\u001b[0m\u001b[0m\n\u001b[1;32m    610\u001b[0m         \u001b[0mfilepath_or_buffer\u001b[0m\u001b[0;34m.\u001b[0m\u001b[0mclose\u001b[0m\u001b[0;34m(\u001b[0m\u001b[0;34m)\u001b[0m\u001b[0;34m\u001b[0m\u001b[0;34m\u001b[0m\u001b[0m\n",
            "\u001b[0;32m/usr/local/lib/python3.6/dist-packages/pandas/io/json/_json.py\u001b[0m in \u001b[0;36mread\u001b[0;34m(self)\u001b[0m\n\u001b[1;32m    729\u001b[0m             \u001b[0mobj\u001b[0m \u001b[0;34m=\u001b[0m \u001b[0mself\u001b[0m\u001b[0;34m.\u001b[0m\u001b[0m_get_object_parser\u001b[0m\u001b[0;34m(\u001b[0m\u001b[0mself\u001b[0m\u001b[0;34m.\u001b[0m\u001b[0m_combine_lines\u001b[0m\u001b[0;34m(\u001b[0m\u001b[0mdata\u001b[0m\u001b[0;34m.\u001b[0m\u001b[0msplit\u001b[0m\u001b[0;34m(\u001b[0m\u001b[0;34m\"\\n\"\u001b[0m\u001b[0;34m)\u001b[0m\u001b[0;34m)\u001b[0m\u001b[0;34m)\u001b[0m\u001b[0;34m\u001b[0m\u001b[0;34m\u001b[0m\u001b[0m\n\u001b[1;32m    730\u001b[0m         \u001b[0;32melse\u001b[0m\u001b[0;34m:\u001b[0m\u001b[0;34m\u001b[0m\u001b[0;34m\u001b[0m\u001b[0m\n\u001b[0;32m--> 731\u001b[0;31m             \u001b[0mobj\u001b[0m \u001b[0;34m=\u001b[0m \u001b[0mself\u001b[0m\u001b[0;34m.\u001b[0m\u001b[0m_get_object_parser\u001b[0m\u001b[0;34m(\u001b[0m\u001b[0mself\u001b[0m\u001b[0;34m.\u001b[0m\u001b[0mdata\u001b[0m\u001b[0;34m)\u001b[0m\u001b[0;34m\u001b[0m\u001b[0;34m\u001b[0m\u001b[0m\n\u001b[0m\u001b[1;32m    732\u001b[0m         \u001b[0mself\u001b[0m\u001b[0;34m.\u001b[0m\u001b[0mclose\u001b[0m\u001b[0;34m(\u001b[0m\u001b[0;34m)\u001b[0m\u001b[0;34m\u001b[0m\u001b[0;34m\u001b[0m\u001b[0m\n\u001b[1;32m    733\u001b[0m         \u001b[0;32mreturn\u001b[0m \u001b[0mobj\u001b[0m\u001b[0;34m\u001b[0m\u001b[0;34m\u001b[0m\u001b[0m\n",
            "\u001b[0;32m/usr/local/lib/python3.6/dist-packages/pandas/io/json/_json.py\u001b[0m in \u001b[0;36m_get_object_parser\u001b[0;34m(self, json)\u001b[0m\n\u001b[1;32m    751\u001b[0m         \u001b[0mobj\u001b[0m \u001b[0;34m=\u001b[0m \u001b[0;32mNone\u001b[0m\u001b[0;34m\u001b[0m\u001b[0;34m\u001b[0m\u001b[0m\n\u001b[1;32m    752\u001b[0m         \u001b[0;32mif\u001b[0m \u001b[0mtyp\u001b[0m \u001b[0;34m==\u001b[0m \u001b[0;34m\"frame\"\u001b[0m\u001b[0;34m:\u001b[0m\u001b[0;34m\u001b[0m\u001b[0;34m\u001b[0m\u001b[0m\n\u001b[0;32m--> 753\u001b[0;31m             \u001b[0mobj\u001b[0m \u001b[0;34m=\u001b[0m \u001b[0mFrameParser\u001b[0m\u001b[0;34m(\u001b[0m\u001b[0mjson\u001b[0m\u001b[0;34m,\u001b[0m \u001b[0;34m**\u001b[0m\u001b[0mkwargs\u001b[0m\u001b[0;34m)\u001b[0m\u001b[0;34m.\u001b[0m\u001b[0mparse\u001b[0m\u001b[0;34m(\u001b[0m\u001b[0;34m)\u001b[0m\u001b[0;34m\u001b[0m\u001b[0;34m\u001b[0m\u001b[0m\n\u001b[0m\u001b[1;32m    754\u001b[0m \u001b[0;34m\u001b[0m\u001b[0m\n\u001b[1;32m    755\u001b[0m         \u001b[0;32mif\u001b[0m \u001b[0mtyp\u001b[0m \u001b[0;34m==\u001b[0m \u001b[0;34m\"series\"\u001b[0m \u001b[0;32mor\u001b[0m \u001b[0mobj\u001b[0m \u001b[0;32mis\u001b[0m \u001b[0;32mNone\u001b[0m\u001b[0;34m:\u001b[0m\u001b[0;34m\u001b[0m\u001b[0;34m\u001b[0m\u001b[0m\n",
            "\u001b[0;32m/usr/local/lib/python3.6/dist-packages/pandas/io/json/_json.py\u001b[0m in \u001b[0;36mparse\u001b[0;34m(self)\u001b[0m\n\u001b[1;32m    855\u001b[0m \u001b[0;34m\u001b[0m\u001b[0m\n\u001b[1;32m    856\u001b[0m         \u001b[0;32melse\u001b[0m\u001b[0;34m:\u001b[0m\u001b[0;34m\u001b[0m\u001b[0;34m\u001b[0m\u001b[0m\n\u001b[0;32m--> 857\u001b[0;31m             \u001b[0mself\u001b[0m\u001b[0;34m.\u001b[0m\u001b[0m_parse_no_numpy\u001b[0m\u001b[0;34m(\u001b[0m\u001b[0;34m)\u001b[0m\u001b[0;34m\u001b[0m\u001b[0;34m\u001b[0m\u001b[0m\n\u001b[0m\u001b[1;32m    858\u001b[0m \u001b[0;34m\u001b[0m\u001b[0m\n\u001b[1;32m    859\u001b[0m         \u001b[0;32mif\u001b[0m \u001b[0mself\u001b[0m\u001b[0;34m.\u001b[0m\u001b[0mobj\u001b[0m \u001b[0;32mis\u001b[0m \u001b[0;32mNone\u001b[0m\u001b[0;34m:\u001b[0m\u001b[0;34m\u001b[0m\u001b[0;34m\u001b[0m\u001b[0m\n",
            "\u001b[0;32m/usr/local/lib/python3.6/dist-packages/pandas/io/json/_json.py\u001b[0m in \u001b[0;36m_parse_no_numpy\u001b[0;34m(self)\u001b[0m\n\u001b[1;32m   1087\u001b[0m         \u001b[0;32mif\u001b[0m \u001b[0morient\u001b[0m \u001b[0;34m==\u001b[0m \u001b[0;34m\"columns\"\u001b[0m\u001b[0;34m:\u001b[0m\u001b[0;34m\u001b[0m\u001b[0;34m\u001b[0m\u001b[0m\n\u001b[1;32m   1088\u001b[0m             self.obj = DataFrame(\n\u001b[0;32m-> 1089\u001b[0;31m                 \u001b[0mloads\u001b[0m\u001b[0;34m(\u001b[0m\u001b[0mjson\u001b[0m\u001b[0;34m,\u001b[0m \u001b[0mprecise_float\u001b[0m\u001b[0;34m=\u001b[0m\u001b[0mself\u001b[0m\u001b[0;34m.\u001b[0m\u001b[0mprecise_float\u001b[0m\u001b[0;34m)\u001b[0m\u001b[0;34m,\u001b[0m \u001b[0mdtype\u001b[0m\u001b[0;34m=\u001b[0m\u001b[0;32mNone\u001b[0m\u001b[0;34m\u001b[0m\u001b[0;34m\u001b[0m\u001b[0m\n\u001b[0m\u001b[1;32m   1090\u001b[0m             )\n\u001b[1;32m   1091\u001b[0m         \u001b[0;32melif\u001b[0m \u001b[0morient\u001b[0m \u001b[0;34m==\u001b[0m \u001b[0;34m\"split\"\u001b[0m\u001b[0;34m:\u001b[0m\u001b[0;34m\u001b[0m\u001b[0;34m\u001b[0m\u001b[0m\n",
            "\u001b[0;31mValueError\u001b[0m: Expected object or value"
          ]
        }
      ]
    },
    {
      "cell_type": "code",
      "metadata": {
        "id": "hhTA2wd6p7df",
        "colab_type": "code",
        "colab": {}
      },
      "source": [
        "catalogue['element_uid'] = catalogue.index"
      ],
      "execution_count": null,
      "outputs": []
    },
    {
      "cell_type": "code",
      "metadata": {
        "id": "f-DbeC8VqAGf",
        "colab_type": "code",
        "colab": {}
      },
      "source": [
        "catalogue.head()"
      ],
      "execution_count": null,
      "outputs": []
    },
    {
      "cell_type": "markdown",
      "metadata": {
        "id": "XLW9yUExqbgl",
        "colab_type": "text"
      },
      "source": [
        "\n",
        "\n",
        "*   attributes — мешок атрибутов;\n",
        "*   availability — доступность (может содержать значения purchase, rent и subscription);\n",
        "*   duration — длительность фильма (для сериалов и многосерийных фильмов — длительность серии) в минутах, округлённая до десятков;\n",
        "*   feature_1..5 — пять анонимизированных вещественных и порядковых признаков;\n",
        "*   type — принимает значения movie, multipart_movie или series.\n",
        "\n",
        "transactions.csv — список всех транзакций за определённый период времени:"
      ]
    },
    {
      "cell_type": "code",
      "metadata": {
        "id": "fUGEhT4kqXoN",
        "colab_type": "code",
        "colab": {}
      },
      "source": [
        "transactions = pd.read_csv('data/transactions.csv',\n",
        "    dtype={\n",
        "        'element_uid': np.uint16,\n",
        "        'user_uid': np.uint32,\n",
        "        'consumption_mode': 'category',\n",
        "        'ts': np.float64,\n",
        "        'watched_time': np.uint64,\n",
        "        'device_type': np.uint8,\n",
        "        'device_manufacturer': np.uint8\n",
        "    }\n",
        ")"
      ],
      "execution_count": null,
      "outputs": []
    },
    {
      "cell_type": "code",
      "metadata": {
        "id": "7DFlmbhBq5K0",
        "colab_type": "code",
        "colab": {}
      },
      "source": [
        "transactions.head()"
      ],
      "execution_count": null,
      "outputs": []
    },
    {
      "cell_type": "code",
      "metadata": {
        "id": "WtrmM3vdq_Et",
        "colab_type": "code",
        "colab": {}
      },
      "source": [
        "transactions.shape\n"
      ],
      "execution_count": null,
      "outputs": []
    },
    {
      "cell_type": "markdown",
      "metadata": {
        "id": "cMXJwEwJrAH8",
        "colab_type": "text"
      },
      "source": [
        "*   element_uid — идентификатор элемента (фильма);\n",
        "*   user_uid — идентификатор пользователя;\n",
        "*   consumption_mode — тип потребления (P — покупка, R — аренда, S — просмотр по подписке);\n",
        "*   ts — время совершения транзакции или начала просмотра в случае просмотра по подписке;\n",
        "*   watched_time — число просмотренных по транзакции секунд;\n",
        "*   device_type — анонимизированный тип устройства, с которого была совершена транзакция или начат просмотр;\n",
        "*   device_manufacturer — анонимизированный производитель устройства, с которого была совершена транзакция или начат просмотр.\n",
        "\n",
        "ratings.csv содержит информацию о поставленных пользователями оценках:"
      ]
    },
    {
      "cell_type": "code",
      "metadata": {
        "id": "6__Pvvb5rYLd",
        "colab_type": "code",
        "colab": {}
      },
      "source": [
        "ratings = pd.read_csv('data/ratings.csv')"
      ],
      "execution_count": null,
      "outputs": []
    },
    {
      "cell_type": "code",
      "metadata": {
        "id": "qS0funnyrbe1",
        "colab_type": "code",
        "colab": {}
      },
      "source": [
        "ratings.head()"
      ],
      "execution_count": null,
      "outputs": []
    },
    {
      "cell_type": "code",
      "metadata": {
        "id": "z5VocrJVreV5",
        "colab_type": "code",
        "colab": {}
      },
      "source": [
        "ratings.shape"
      ],
      "execution_count": null,
      "outputs": []
    },
    {
      "cell_type": "markdown",
      "metadata": {
        "id": "k5GRkhe-rmeI",
        "colab_type": "text"
      },
      "source": [
        "*   rating — поставленный пользователем рейтинг (от 0 до 10).\n",
        "\n",
        "Далее будем обучать модель на долю времени просмотра фильма. Для этого к матрице transactions добавим информацию о длительности фильма."
      ]
    },
    {
      "cell_type": "code",
      "metadata": {
        "id": "eO0fc1kgrhjP",
        "colab_type": "code",
        "colab": {}
      },
      "source": [
        "transactions = transactions.merge(catalogue, how='left', on='element_uid')"
      ],
      "execution_count": null,
      "outputs": []
    },
    {
      "cell_type": "markdown",
      "metadata": {
        "id": "ky2iAtvmry1l",
        "colab_type": "text"
      },
      "source": [
        "\n",
        "В колонке transactions['duration'] могут быть нули, так как значения округляются до ближайшей десятки. Поэтому добавим 10 ко всем значениям. И умножим все значения transactions['duration'] на 60, чтобы перевести в секунды."
      ]
    },
    {
      "cell_type": "code",
      "metadata": {
        "id": "EMFoqTIlr1Zw",
        "colab_type": "code",
        "colab": {}
      },
      "source": [
        "transactions.loc[:, 'duration'] += 10\n",
        "transactions['duration']  = transactions['duration']*60\n"
      ],
      "execution_count": null,
      "outputs": []
    },
    {
      "cell_type": "markdown",
      "metadata": {
        "id": "6Wr0lLDAr30f",
        "colab_type": "text"
      },
      "source": [
        "\n",
        "Для простоты вычислений далее будем использовать не всех пользователей."
      ]
    },
    {
      "cell_type": "code",
      "metadata": {
        "id": "0hiOGfAFr_A1",
        "colab_type": "code",
        "colab": {}
      },
      "source": [
        "transactions_small = transactions.loc[transactions.user_uid < transactions.user_uid.quantile(.01)]"
      ],
      "execution_count": null,
      "outputs": []
    },
    {
      "cell_type": "code",
      "metadata": {
        "id": "7twsptvvsBs7",
        "colab_type": "code",
        "colab": {}
      },
      "source": [
        "transactions.element_uid.nunique()"
      ],
      "execution_count": null,
      "outputs": []
    },
    {
      "cell_type": "markdown",
      "metadata": {
        "id": "jGAGZdcFsD4P",
        "colab_type": "text"
      },
      "source": [
        "Чтобы оценивать качество предсказаний построенных алгоритмов, разобьем данные на обучающую и тестовую выборки. Для этого вычислим 75-й перцентиль признака ts и разделим данные transactions_small во времени, так, чтобы в обучающую выборку попало 75% данных, а в тестовую — остальные 25%."
      ]
    },
    {
      "cell_type": "code",
      "metadata": {
        "id": "zzvxeOZvsGiF",
        "colab_type": "code",
        "colab": {}
      },
      "source": [
        "transactions_test = transactions_small.loc[transactions_small.ts > transactions_small.ts.quantile(.75)].reset_index()\n",
        "transactions_train = transactions_small.loc[transactions_small.ts < transactions_small.ts.quantile(.75)].reset_index()"
      ],
      "execution_count": null,
      "outputs": []
    },
    {
      "cell_type": "code",
      "metadata": {
        "id": "hZtGHPqrsJT7",
        "colab_type": "code",
        "colab": {}
      },
      "source": [
        "transactions_train.shape"
      ],
      "execution_count": null,
      "outputs": []
    },
    {
      "cell_type": "code",
      "metadata": {
        "id": "zQiokEwpsLMa",
        "colab_type": "code",
        "colab": {}
      },
      "source": [
        "transactions_train.user_uid.nunique()"
      ],
      "execution_count": null,
      "outputs": []
    },
    {
      "cell_type": "code",
      "metadata": {
        "id": "7HRjQj1fsNQa",
        "colab_type": "code",
        "colab": {}
      },
      "source": [
        "transactions_test.user_uid.nunique()"
      ],
      "execution_count": null,
      "outputs": []
    },
    {
      "cell_type": "markdown",
      "metadata": {
        "id": "ukem72n7sSni",
        "colab_type": "text"
      },
      "source": [
        "Данные ratings тоже необходимо сократить и исключить оценки из тестовой части:"
      ]
    },
    {
      "cell_type": "code",
      "metadata": {
        "id": "wLBX5dg1sPjo",
        "colab_type": "code",
        "colab": {}
      },
      "source": [
        "test_user_ids = set(transactions_test[['element_uid', 'user_uid']].itertuples(index=False))\n",
        "train_user_ids = set(transactions_train[['element_uid', 'user_uid']].itertuples(index=False))\n",
        "drop_index = []\n",
        "for row in tqdm.tqdm(ratings.itertuples()):\n",
        "    if (row.element_uid, row.user_uid) in test_user_ids or not (row.element_uid, row.user_uid) in train_user_ids:\n",
        "        drop_index.append(row.Index)"
      ],
      "execution_count": null,
      "outputs": []
    },
    {
      "cell_type": "code",
      "metadata": {
        "id": "X9PA_WU_sWAY",
        "colab_type": "code",
        "colab": {}
      },
      "source": [
        "ratings.drop(drop_index, inplace=True)\n",
        "ratings.reset_index(inplace=True)"
      ],
      "execution_count": null,
      "outputs": []
    },
    {
      "cell_type": "code",
      "metadata": {
        "id": "sPpWTArtsYtm",
        "colab_type": "code",
        "colab": {}
      },
      "source": [
        "ratings.shape"
      ],
      "execution_count": null,
      "outputs": []
    },
    {
      "cell_type": "markdown",
      "metadata": {
        "id": "Z6iHzjB-seX2",
        "colab_type": "text"
      },
      "source": [
        "На выделенной обучающей выборке необходимо обучить рекомендательную систему и предсказать top-20 наиболее релевантных для пользователя идентификаторов контента.\n",
        "\n",
        "Получим значение целевой переменной для итогового алгоритма — долю времени просмотра фильма:"
      ]
    },
    {
      "cell_type": "code",
      "metadata": {
        "id": "ql_rKpFRsbJs",
        "colab_type": "code",
        "colab": {}
      },
      "source": [
        "transactions_train['target'] = transactions_train.watched_time/transactions_train.duration"
      ],
      "execution_count": null,
      "outputs": []
    },
    {
      "cell_type": "code",
      "metadata": {
        "id": "-RSTWq58silP",
        "colab_type": "code",
        "colab": {}
      },
      "source": [
        "transactions_test['target'] = transactions_test.watched_time/transactions_test.duration"
      ],
      "execution_count": null,
      "outputs": []
    },
    {
      "cell_type": "markdown",
      "metadata": {
        "id": "mdCyIUdVsk45",
        "colab_type": "text"
      },
      "source": [
        "В поле target присутствуют значения больше 1, так как для сериалов и многосерийных фильмов используется средняя длина серии — заменим в таких случаях целевую переменную на 1:"
      ]
    },
    {
      "cell_type": "code",
      "metadata": {
        "id": "Dvuur0sWsnIn",
        "colab_type": "code",
        "colab": {}
      },
      "source": [
        "transactions_train.loc[transactions_train['target'] > 1, 'target'] = 1\n",
        "transactions_test.loc[transactions_test['target'] > 1, 'target'] = 1"
      ],
      "execution_count": null,
      "outputs": []
    },
    {
      "cell_type": "markdown",
      "metadata": {
        "id": "LUbSDYBzspVf",
        "colab_type": "text"
      },
      "source": [
        "Далее в задании везде будем обозначать как $r_{ui}$ значение этой целевой переменной для пользователя $u$ и элемента $i$.\n",
        "\n",
        "Задание 0 [0.5 балла]\n",
        "Для оценки качества предсказаний будем использовать метрику $MNAP@20$, которую использовали в соревновании. Метрика отличается от оригинальной $MAP$ тем, что значение для каждого пользователя нормализуется не на константу, а на число потреблённых фильмов. Таким образом, вес угадывания одного фильма больше у пользователей, имеющих меньшее число просмотров.\n",
        "\n",
        "$$MNAP@20 = \\dfrac{1}{|U|}\\sum_{u\\in U}\\dfrac{1}{\\min(n_u, 20)}\\sum_{i=1}^{20}r_u(i)p_u@i $$$$p_u@k = \\dfrac{1}{k}\\sum_{j=1}^kr_u(j)$$\n",
        "$r_{u}(i)$ — потребил ли пользователь u контент, предсказанный ему на месте i (1 либо 0);\n",
        "$n_u$ — количество элементов, которые пользователь потребил за тестовый период;\n",
        "$U$ — множество тестовых пользователей.\n",
        "Реализуйте функцию mnap_k, вычисляющую метрику качества $MNAP@K$, где\n",
        "\n",
        "predictions — предсказания фильмов для пользователей List[List[int]];\n",
        "\n",
        "target — фильмы которые посмотрел пользователь List[Set[int]]."
      ]
    },
    {
      "cell_type": "code",
      "metadata": {
        "id": "D4tki0xYswhp",
        "colab_type": "code",
        "colab": {}
      },
      "source": [
        "def mnap_k(predictions, target, k=20):\n",
        "    #╰( ͡° ͜ʖ ͡° )つ──☆*:・\n",
        "    return\n"
      ],
      "execution_count": null,
      "outputs": []
    },
    {
      "cell_type": "markdown",
      "metadata": {
        "id": "ubcs2rICtFNo",
        "colab_type": "text"
      },
      "source": [
        "Проведем элементарные проверки на корректность реализации:"
      ]
    },
    {
      "cell_type": "code",
      "metadata": {
        "id": "hGLn5d9XtHuJ",
        "colab_type": "code",
        "colab": {}
      },
      "source": [
        "test = [list(np.arange(1, 21)), list(np.arange(2, 22)), list(np.arange(3, 23))]\n",
        "target = [set(np.arange(1, 21)), set(np.arange(2, 22)), set(np.arange(3, 23))]\n",
        "assert mnap_k(test, target) == 1.0"
      ],
      "execution_count": null,
      "outputs": []
    },
    {
      "cell_type": "code",
      "metadata": {
        "id": "NcO1UZe0tKZs",
        "colab_type": "code",
        "colab": {}
      },
      "source": [
        "test = [list(np.arange(1, 21)), list(np.arange(2, 22)), list(np.arange(3, 23))]\n",
        "target = [set(np.arange(1, 11)), set(np.arange(2, 12)), set(np.arange(3, 13))]\n",
        "assert mnap_k(test, target) == 1.0"
      ],
      "execution_count": null,
      "outputs": []
    },
    {
      "cell_type": "code",
      "metadata": {
        "id": "lFVCXbSUtMKu",
        "colab_type": "code",
        "colab": {}
      },
      "source": [
        "test = [list(np.arange(1, 21)), list(np.arange(2, 22)), list(np.arange(3, 23))]\n",
        "target = [set(np.arange(2, 21)), set(np.arange(2, 22)), set(np.arange(3, 23))]\n",
        "assert round(mnap_k(test, target), 3) == 0.954"
      ],
      "execution_count": null,
      "outputs": []
    },
    {
      "cell_type": "markdown",
      "metadata": {
        "id": "kgmSCeQntOMp",
        "colab_type": "text"
      },
      "source": [
        "Memory-based\n",
        "\n",
        "Два пользователя похожи, если им нравятся одинаковые фильмы. Рассмотрим двух пользователей $u$ и $v$ и обозначим через $I_{uv}$ множество фильмов $i$, которые просмотрели пользователи\n",
        "\n",
        "Реализуйте класс MemoryBased с методами:\n",
        "\n",
        "__init__ — конструктор класса, принимает на вход матрицу целевых переменных $r_{ui}$;\n",
        "user_similarity — возвращает вектор $w_u$ сходства пользователя $u$ и всех пользователей из обучающей выборки; если пользователь $u$ не встречался в обучающей выборке, то возвращайте нулевой вектор;\n",
        "item_similarity — возвращает вектор $w_i$ сходства фильма $i$ и всех фильмов из обучающей выборки; если фильм $i$ не встречался в обучающей выборке, то возвращайте нулевой вектор.\n",
        "Уделите особое внимание оптимизации кода. Используйте векторизацию и матричные вычисления, где это возможно."
      ]
    },
    {
      "cell_type": "code",
      "metadata": {
        "id": "_K8zxOphtdoo",
        "colab_type": "code",
        "colab": {}
      },
      "source": [
        "class MemoryBased():\n",
        "    def __init__(self, ratings):\n",
        "        self.ratings = ratings\n",
        "        pass\n",
        "        \n",
        "    def user_similarity(self, test_user):\n",
        "      \"\"\"test_user - вектор соответствующий пользователю\"\"\"\n",
        "        #╰( ͡° ͜ʖ ͡° )つ──☆*:・\n",
        "        pass\n",
        "        \n",
        "    def item_similarity(self, test_item):\n",
        "      \"\"\"test_item - вектор соответствующий фильму\"\"\"\n",
        "        #╰( ͡° ͜ʖ ͡° )つ──☆*:・\n",
        "        pass"
      ],
      "execution_count": null,
      "outputs": []
    },
    {
      "cell_type": "markdown",
      "metadata": {
        "id": "wvvokQGJtiKs",
        "colab_type": "text"
      },
      "source": [
        "Проведем элементарные проверки на корректность реализации:\n",
        "\n",
        "если считаем, что\n",
        "\n",
        "$\\bar r_u$ и $\\bar r_v$ — средняя доля времени просмотра фильма для пользователей, посчитанная по всем просмотренным фильмам\n",
        "\n",
        "$\\bar r_i$ и $\\bar r_j$ — средняя доля времени просмотра для фильмов, посчитанная по всем пользователям, которые смотрели фильм"
      ]
    },
    {
      "cell_type": "code",
      "metadata": {
        "id": "ZMqLwFp9uePT",
        "colab_type": "code",
        "colab": {}
      },
      "source": [
        "I = np.array([[0.5, 0.4, 0, 0.1], \n",
        "         [0, 0.1, 0.2, 0.5], \n",
        "         [0.5, 0.5, 0.4, 0],\n",
        "         [0.5, 0.4, 0.5, 0.1]])\n",
        "user_based = MemoryBased(I)\n",
        "result = user_based.user_similarity(np.array([0.5, 0.4, 0, 0.1])\n",
        "assert np.all(np.round(result, 2) == np.array([1.0, -0.94, 0.92, 0.97]))"
      ],
      "execution_count": null,
      "outputs": []
    },
    {
      "cell_type": "markdown",
      "metadata": {
        "id": "Uuf7pQJjugfO",
        "colab_type": "text"
      },
      "source": [
        "если считаем, что\n",
        "\n",
        "$\\bar r_u$ и $\\bar r_v$ — средняя доля времени просмотра фильма для пользователей, посчитанная по множеству $I_{uv}$\n",
        "\n",
        "$\\bar r_i$ и $\\bar r_j$ — средняя доля времени просмотра для фильмов, посчитанная по множеству $I_{ij}$"
      ]
    },
    {
      "cell_type": "code",
      "metadata": {
        "id": "oNrauf8vup4N",
        "colab_type": "code",
        "colab": {}
      },
      "source": [
        "I = np.array([[0.5, 0.4, 0, 0.1], \n",
        "         [0, 0.1, 0.2, 0.5], \n",
        "         [0.5, 0.5, 0.4, 0],\n",
        "         [0.5, 0.4, 0.5, 0.1]])\n",
        "user_based = MemoryBased(I)\n",
        "result = user_based.user_similarity(np.array([0.5, 0.4, 0, 0.1])\n",
        "assert np.all(np.round(result, 2) == np.array([1.0, -1.0, 0.0, 1.0]))"
      ],
      "execution_count": null,
      "outputs": []
    },
    {
      "cell_type": "markdown",
      "metadata": {
        "id": "_2Tbbzrjusyu",
        "colab_type": "text"
      },
      "source": [
        "User-Based\n",
        "\n",
        "В подходе на основе сходств пользователей определяется множество $U(u_0)$ пользователей, похожих на данного\n",
        "\n",
        "товаров с наибольшими значениями $p_i$. Данный подход позволяет строить рекомендации, если для данного пользователя найдутся похожие. Если же пользователь является нетипичным, то подобрать что-либо не получится.\n",
        "\n",
        "Реализуйте класс UserBased, наследованный от MemoryBased. Считайте, что $\\alpha = 0$.\n",
        "\n",
        "Класс UserBased должен иметь метод реализованный recomendation_k с параметром k, возвращающий матрицу предсказаний размера N x k (для каждого пользователя из user_vectors предсказывать top-k фильмов)."
      ]
    },
    {
      "cell_type": "code",
      "metadata": {
        "id": "5bu-0oR9u1YN",
        "colab_type": "code",
        "colab": {}
      },
      "source": [
        "class UserBased(MemoryBased):\n",
        "    def recomendation_k(self, user_vectors, k=20):\n",
        "      \"\"\"user_vectors - матрица размера N x M, где M - общее число фильмов, N - число пользователей, для которых делаем рекомендации\"\"\"\n",
        "        #╰( ͡° ͜ʖ ͡° )つ──☆*:・\n",
        "        pass"
      ],
      "execution_count": null,
      "outputs": []
    },
    {
      "cell_type": "markdown",
      "metadata": {
        "id": "AYC3SYKNu7On",
        "colab_type": "text"
      },
      "source": [
        "Проведем элементарные проверки на корректность реализации:"
      ]
    },
    {
      "cell_type": "code",
      "metadata": {
        "id": "abdjZzNru4Bv",
        "colab_type": "code",
        "colab": {}
      },
      "source": [
        "I = np.array([[0.5, 0.4, 0, 0.1], \n",
        "         [0, 0.1, 0.2, 0.5], \n",
        "         [0.5, 0.5, 0.4, 0],\n",
        "         [0.5, 0.4, 0.5, 0.1]])\n",
        "item_based = UserBased(I)\n",
        "result = item_based.recomendation_k(np.array([0.5, 0.4, 0, 0.1]), k=1)\n",
        "assert np.all(result == np.array([2]))"
      ],
      "execution_count": null,
      "outputs": []
    },
    {
      "cell_type": "markdown",
      "metadata": {
        "id": "ttlGp0NavMhp",
        "colab_type": "text"
      },
      "source": [
        "Item-Based\n",
        "\n",
        "Определяется множество фильмов, похожих на те, которые интересовали данного пользователя\n",
        "\n",
        "Пользователю рекомендуются $$$фильмов с наибольшими значениями $p_i$.\n",
        "\n",
        "Реализуйте класс ItemBased, наследованный от MemoryBased.\n",
        "\n",
        "Класс ItemBased должен иметь метод реализованный recomendation_k с параметром k, возвращающий матрицу предсказаний размера N x k (для каждого пользователя из user_vectors предсказывать top-k фильмов)."
      ]
    },
    {
      "cell_type": "code",
      "metadata": {
        "id": "2If6fZFQvQj7",
        "colab_type": "code",
        "colab": {}
      },
      "source": [
        "class ItemBased(MemoryBased):\n",
        "    def recomendation_k(self, user_vectors, k=20):\n",
        "      \"\"\"user_vectors - матрица размера N x M, где M - общее число фильмов, N - число пользователей, для которых делаем рекомендации\"\"\"\n",
        "        #╰( ͡° ͜ʖ ͡° )つ──☆*:・\n",
        "        pass"
      ],
      "execution_count": null,
      "outputs": []
    },
    {
      "cell_type": "markdown",
      "metadata": {
        "id": "yL74_V3QvoSU",
        "colab_type": "text"
      },
      "source": [
        "Latent factor model (LFM)\n",
        "В этом подходе значение целовой переменной $r_{ui}$ пользователя $u$, поставленная фильму $i$, ищется как скалярное произведение векторов $p_u$ и $q_i$ в некотором пространстве $R^K$ латентных признаков:$$\n",
        "    r_{ui}\n",
        "    \\approx\n",
        "    \\langle p_u, q_i \\rangle.\n",
        "$$\n",
        "\n",
        "Иными словами, модель находит пространство признаков, в котором мы описываем и фильмы, и пользователей и в котором целевая переменная является мерой близости между фильмами и пользователями.\n",
        "\n",
        "Для настройки модели будем минимизировать следующий функционал:\n",
        "\n",
        "$$\n",
        "\\label{eq:lfmReg}\n",
        "    \\sum_{(u, i) \\in R}\n",
        "        \\left(\n",
        "            r_{ui}\n",
        "            - \\langle p_u, q_i \\rangle\n",
        "        \\right)^2\n",
        "    +\n",
        "    \\lambda\n",
        "    \\sum_{u \\in U}\n",
        "        \\|p_u\\|^2\n",
        "    +\n",
        "    \\mu\n",
        "    \\sum_{i \\in I}\n",
        "        \\|q_i\\|^2\n",
        "    \\to\n",
        "    \\min_{P, Q}\n",
        "$$\n",
        "В статье описан метод оптимизации ALS (Alternating Least Squares) для данного функционала. В методе проводятся $N$ итераций, в рамках каждой итерации сначала оптимизируется $p$ при фиксированном $q$, затем $q$ при фиксированном $p$.\n",
        "\n",
        "Составим матрицу $P$ из векторов $p_u$ и матрицу $Q$ из векторов $q_i$. Матрицей $Q[u] \\in R^{n_u×K}$ будем обозначать подматрицу матрицы $Q$ только для товаров, оцененных пользователем $u$, где $n_u$ – количество оценок пользователя $u$. Шаг перенастройки $p_u$ при фиксированной матрице $Q$ сводится к настройке Ridge-регрессии и выглядит так:$$A_u = Q[u]^T Q[u] $$$$d_u = Q[u]^Tr_u $$$$p_u = (\\lambda n_uI + A_u)^{−1}d_u\n",
        "$$\n",
        "\n",
        "Выпишите формулы для перенастройки $q_i$ при фиксированной матрице $P$.\n",
        "\n",
        "Ответ:\n",
        "\n",
        "Реализуйте функцию latent_factor, которая для каждого пользователя из списка test возвращает top-k идентификаторов контента (element_uid).\n",
        "\n",
        "Для тестирования матрицы P и Q задайте случайными 0.1 * np.random.random(...).\n",
        "\n",
        "Исследуйте качество и время работы в зависимости от размерности $K$ пространства латентных признаков. Ведет ли увеличение $K$ к переобучению?\n",
        "\n"
      ]
    },
    {
      "cell_type": "code",
      "metadata": {
        "id": "VeZVX81avpui",
        "colab_type": "code",
        "colab": {}
      },
      "source": [
        "lambda_p = 0.2\n",
        "mu = 0.001\n",
        "N = 20\n",
        "K = 10"
      ],
      "execution_count": null,
      "outputs": []
    },
    {
      "cell_type": "code",
      "metadata": {
        "id": "UhkHa93tv462",
        "colab_type": "code",
        "colab": {}
      },
      "source": [
        "train = transactions_train[['user_uid', 'element_uid']]\n",
        "target = transactions_train['target']\n",
        "test = transactions_test['user_uid'].unique()"
      ],
      "execution_count": null,
      "outputs": []
    },
    {
      "cell_type": "code",
      "metadata": {
        "id": "S9z68yNcv7i4",
        "colab_type": "code",
        "colab": {}
      },
      "source": [
        "def latent_factor(train, target, test, lambda_, mu, N, K, P, Q, k = 20):\n",
        "    #╰( ͡° ͜ʖ ͡° )つ──☆*:・\n",
        "    pass"
      ],
      "execution_count": null,
      "outputs": []
    },
    {
      "cell_type": "code",
      "metadata": {
        "id": "41nnS8RawLTJ",
        "colab_type": "code",
        "colab": {}
      },
      "source": [
        "train = pd.DataFrame({'user_uid': [1, 1, 2, 2], 'element_uid': [1, 2, 3, 4]})\n",
        "target =  np.array( [0.1, 0.8, 0.2, 0.3 ])\n",
        "test = np.array([1, 2])\n",
        "lambda_p = 0.2\n",
        "mu = 0.001\n",
        "N = 20\n",
        "K = 10\n",
        "us = train.loc[:,'user_uid'].astype('int')\n",
        "mov = train.loc[:,'element_uid'].astype('int')\n",
        "U = np.unique(us)\n",
        "I = np.unique(mov)\n",
        "Q = 0.1 * np.ones((I.max(), K))\n",
        "P = 0.1 * np.ones((U.max(), K))\n",
        "assert np.all(latent_factor(train, target, test, lambda_, mu, N, K, P, Q, k = 20) == np.array([[2], [2]]))"
      ],
      "execution_count": null,
      "outputs": []
    },
    {
      "cell_type": "code",
      "metadata": {
        "id": "FFWdnqtGwMIl",
        "colab_type": "code",
        "colab": {}
      },
      "source": [
        ""
      ],
      "execution_count": null,
      "outputs": []
    }
  ]
}