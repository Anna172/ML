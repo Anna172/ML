{
  "nbformat": 4,
  "nbformat_minor": 0,
  "metadata": {
    "colab": {
      "name": "АДВБ_ДЗ2.ipynb",
      "provenance": [],
      "collapsed_sections": [],
      "authorship_tag": "ABX9TyPdU4voskphwo/8TkgqrzZ6",
      "include_colab_link": true
    },
    "kernelspec": {
      "name": "python3",
      "display_name": "Python 3"
    }
  },
  "cells": [
    {
      "cell_type": "markdown",
      "metadata": {
        "id": "view-in-github",
        "colab_type": "text"
      },
      "source": [
        "<a href=\"https://colab.research.google.com/github/Anna172/ML/blob/master/%D0%90%D0%94%D0%92%D0%91_%D0%94%D0%972_2.ipynb\" target=\"_parent\"><img src=\"https://colab.research.google.com/assets/colab-badge.svg\" alt=\"Open In Colab\"/></a>"
      ]
    },
    {
      "cell_type": "code",
      "metadata": {
        "id": "_29ADA5-FGc8"
      },
      "source": [
        "import numpy as np\r\n",
        "import pandas as pd\r\n",
        "import math\r\n",
        "import seaborn as sns\r\n",
        "import matplotlib.pyplot as plt\r\n",
        "from sklearn.preprocessing import LabelEncoder\r\n",
        "from sklearn.preprocessing import OneHotEncoder"
      ],
      "execution_count": 1,
      "outputs": []
    },
    {
      "cell_type": "code",
      "metadata": {
        "colab": {
          "base_uri": "https://localhost:8080/",
          "height": 305
        },
        "id": "wwXTHk5PFRkk",
        "outputId": "c024411b-a956-472f-e019-20363b179a78"
      },
      "source": [
        "data_train = pd.read_csv(\"train.csv\", delimiter=',',  parse_dates=['period_start_dt'])\r\n",
        "data_train.tail()"
      ],
      "execution_count": 40,
      "outputs": [
        {
          "output_type": "error",
          "ename": "AttributeError",
          "evalue": "ignored",
          "traceback": [
            "\u001b[0;31m---------------------------------------------------------------------------\u001b[0m",
            "\u001b[0;31mAttributeError\u001b[0m                            Traceback (most recent call last)",
            "\u001b[0;32m<ipython-input-40-7280ab3ddcc0>\u001b[0m in \u001b[0;36m<module>\u001b[0;34m()\u001b[0m\n\u001b[0;32m----> 1\u001b[0;31m \u001b[0mdata_train\u001b[0m \u001b[0;34m=\u001b[0m \u001b[0mpd\u001b[0m\u001b[0;34m.\u001b[0m\u001b[0mread_csv\u001b[0m\u001b[0;34m(\u001b[0m\u001b[0;34m\"train.csv\"\u001b[0m\u001b[0;34m,\u001b[0m \u001b[0mdelimiter\u001b[0m\u001b[0;34m=\u001b[0m\u001b[0;34m','\u001b[0m\u001b[0;34m,\u001b[0m  \u001b[0mparse_dates\u001b[0m\u001b[0;34m=\u001b[0m\u001b[0;34m[\u001b[0m\u001b[0;34m'period_start_dt'\u001b[0m\u001b[0;34m]\u001b[0m\u001b[0;34m)\u001b[0m\u001b[0;34m\u001b[0m\u001b[0;34m\u001b[0m\u001b[0m\n\u001b[0m\u001b[1;32m      2\u001b[0m \u001b[0mdata_train\u001b[0m\u001b[0;34m.\u001b[0m\u001b[0mtail\u001b[0m\u001b[0;34m(\u001b[0m\u001b[0;34m)\u001b[0m\u001b[0;34m\u001b[0m\u001b[0;34m\u001b[0m\u001b[0m\n",
            "\u001b[0;32m/usr/local/lib/python3.7/dist-packages/pandas/core/generic.py\u001b[0m in \u001b[0;36m__getattr__\u001b[0;34m(self, name)\u001b[0m\n\u001b[1;32m   5139\u001b[0m             \u001b[0;32mif\u001b[0m \u001b[0mself\u001b[0m\u001b[0;34m.\u001b[0m\u001b[0m_info_axis\u001b[0m\u001b[0;34m.\u001b[0m\u001b[0m_can_hold_identifiers_and_holds_name\u001b[0m\u001b[0;34m(\u001b[0m\u001b[0mname\u001b[0m\u001b[0;34m)\u001b[0m\u001b[0;34m:\u001b[0m\u001b[0;34m\u001b[0m\u001b[0;34m\u001b[0m\u001b[0m\n\u001b[1;32m   5140\u001b[0m                 \u001b[0;32mreturn\u001b[0m \u001b[0mself\u001b[0m\u001b[0;34m[\u001b[0m\u001b[0mname\u001b[0m\u001b[0;34m]\u001b[0m\u001b[0;34m\u001b[0m\u001b[0;34m\u001b[0m\u001b[0m\n\u001b[0;32m-> 5141\u001b[0;31m             \u001b[0;32mreturn\u001b[0m \u001b[0mobject\u001b[0m\u001b[0;34m.\u001b[0m\u001b[0m__getattribute__\u001b[0m\u001b[0;34m(\u001b[0m\u001b[0mself\u001b[0m\u001b[0;34m,\u001b[0m \u001b[0mname\u001b[0m\u001b[0;34m)\u001b[0m\u001b[0;34m\u001b[0m\u001b[0;34m\u001b[0m\u001b[0m\n\u001b[0m\u001b[1;32m   5142\u001b[0m \u001b[0;34m\u001b[0m\u001b[0m\n\u001b[1;32m   5143\u001b[0m     \u001b[0;32mdef\u001b[0m \u001b[0m__setattr__\u001b[0m\u001b[0;34m(\u001b[0m\u001b[0mself\u001b[0m\u001b[0;34m,\u001b[0m \u001b[0mname\u001b[0m\u001b[0;34m:\u001b[0m \u001b[0mstr\u001b[0m\u001b[0;34m,\u001b[0m \u001b[0mvalue\u001b[0m\u001b[0;34m)\u001b[0m \u001b[0;34m->\u001b[0m \u001b[0;32mNone\u001b[0m\u001b[0;34m:\u001b[0m\u001b[0;34m\u001b[0m\u001b[0;34m\u001b[0m\u001b[0m\n",
            "\u001b[0;31mAttributeError\u001b[0m: 'DataFrame' object has no attribute 'read_csv'"
          ]
        }
      ]
    },
    {
      "cell_type": "code",
      "metadata": {
        "colab": {
          "base_uri": "https://localhost:8080/"
        },
        "id": "w8Yfg_pdFXMA",
        "outputId": "bbdbb87e-abe7-49f0-8d3c-3e9e7118e7f2"
      },
      "source": [
        "print(data_train[data_train['period_start_dt'].dt.year == 2020].shape[0])\r\n",
        "print(data_train[ (data_train['period_start_dt'].dt.year == 2019) & (data_train['period_start_dt'].dt.month == 12) ].shape[0])\r\n",
        "data_train.shape"
      ],
      "execution_count": 3,
      "outputs": [
        {
          "output_type": "stream",
          "text": [
            "0\n",
            "1200\n"
          ],
          "name": "stdout"
        },
        {
          "output_type": "execute_result",
          "data": {
            "text/plain": [
              "(35344, 11)"
            ]
          },
          "metadata": {
            "tags": []
          },
          "execution_count": 3
        }
      ]
    },
    {
      "cell_type": "code",
      "metadata": {
        "colab": {
          "base_uri": "https://localhost:8080/",
          "height": 415
        },
        "id": "eDle3DJpGO0b",
        "outputId": "e69ad7aa-3a59-4faa-df9b-c69fb2bcb7d7"
      },
      "source": [
        "data_test = pd.read_csv(\"test.csv\", delimiter=',',  parse_dates=['period_start_dt'])\r\n",
        "data_test"
      ],
      "execution_count": 4,
      "outputs": [
        {
          "output_type": "execute_result",
          "data": {
            "text/html": [
              "<div>\n",
              "<style scoped>\n",
              "    .dataframe tbody tr th:only-of-type {\n",
              "        vertical-align: middle;\n",
              "    }\n",
              "\n",
              "    .dataframe tbody tr th {\n",
              "        vertical-align: top;\n",
              "    }\n",
              "\n",
              "    .dataframe thead th {\n",
              "        text-align: right;\n",
              "    }\n",
              "</style>\n",
              "<table border=\"1\" class=\"dataframe\">\n",
              "  <thead>\n",
              "    <tr style=\"text-align: right;\">\n",
              "      <th></th>\n",
              "      <th>id</th>\n",
              "      <th>product_rk</th>\n",
              "      <th>store_location_rk</th>\n",
              "      <th>period_start_dt</th>\n",
              "      <th>demand</th>\n",
              "    </tr>\n",
              "  </thead>\n",
              "  <tbody>\n",
              "    <tr>\n",
              "      <th>0</th>\n",
              "      <td>908</td>\n",
              "      <td>40369</td>\n",
              "      <td>317</td>\n",
              "      <td>2019-02-12</td>\n",
              "      <td>NaN</td>\n",
              "    </tr>\n",
              "    <tr>\n",
              "      <th>1</th>\n",
              "      <td>909</td>\n",
              "      <td>40370</td>\n",
              "      <td>317</td>\n",
              "      <td>2019-02-12</td>\n",
              "      <td>NaN</td>\n",
              "    </tr>\n",
              "    <tr>\n",
              "      <th>2</th>\n",
              "      <td>910</td>\n",
              "      <td>40372</td>\n",
              "      <td>317</td>\n",
              "      <td>2019-02-12</td>\n",
              "      <td>NaN</td>\n",
              "    </tr>\n",
              "    <tr>\n",
              "      <th>3</th>\n",
              "      <td>911</td>\n",
              "      <td>40373</td>\n",
              "      <td>317</td>\n",
              "      <td>2019-02-12</td>\n",
              "      <td>NaN</td>\n",
              "    </tr>\n",
              "    <tr>\n",
              "      <th>4</th>\n",
              "      <td>912</td>\n",
              "      <td>46272</td>\n",
              "      <td>317</td>\n",
              "      <td>2019-02-12</td>\n",
              "      <td>NaN</td>\n",
              "    </tr>\n",
              "    <tr>\n",
              "      <th>...</th>\n",
              "      <td>...</td>\n",
              "      <td>...</td>\n",
              "      <td>...</td>\n",
              "      <td>...</td>\n",
              "      <td>...</td>\n",
              "    </tr>\n",
              "    <tr>\n",
              "      <th>1399</th>\n",
              "      <td>35543</td>\n",
              "      <td>40370</td>\n",
              "      <td>1380</td>\n",
              "      <td>2020-06-01</td>\n",
              "      <td>NaN</td>\n",
              "    </tr>\n",
              "    <tr>\n",
              "      <th>1400</th>\n",
              "      <td>35544</td>\n",
              "      <td>40372</td>\n",
              "      <td>1380</td>\n",
              "      <td>2020-06-01</td>\n",
              "      <td>NaN</td>\n",
              "    </tr>\n",
              "    <tr>\n",
              "      <th>1401</th>\n",
              "      <td>35545</td>\n",
              "      <td>40373</td>\n",
              "      <td>1380</td>\n",
              "      <td>2020-06-01</td>\n",
              "      <td>NaN</td>\n",
              "    </tr>\n",
              "    <tr>\n",
              "      <th>1402</th>\n",
              "      <td>35546</td>\n",
              "      <td>46272</td>\n",
              "      <td>1380</td>\n",
              "      <td>2020-06-01</td>\n",
              "      <td>NaN</td>\n",
              "    </tr>\n",
              "    <tr>\n",
              "      <th>1403</th>\n",
              "      <td>35547</td>\n",
              "      <td>96212</td>\n",
              "      <td>1380</td>\n",
              "      <td>2020-06-01</td>\n",
              "      <td>NaN</td>\n",
              "    </tr>\n",
              "  </tbody>\n",
              "</table>\n",
              "<p>1404 rows × 5 columns</p>\n",
              "</div>"
            ],
            "text/plain": [
              "         id  product_rk  store_location_rk period_start_dt  demand\n",
              "0       908       40369                317      2019-02-12     NaN\n",
              "1       909       40370                317      2019-02-12     NaN\n",
              "2       910       40372                317      2019-02-12     NaN\n",
              "3       911       40373                317      2019-02-12     NaN\n",
              "4       912       46272                317      2019-02-12     NaN\n",
              "...     ...         ...                ...             ...     ...\n",
              "1399  35543       40370               1380      2020-06-01     NaN\n",
              "1400  35544       40372               1380      2020-06-01     NaN\n",
              "1401  35545       40373               1380      2020-06-01     NaN\n",
              "1402  35546       46272               1380      2020-06-01     NaN\n",
              "1403  35547       96212               1380      2020-06-01     NaN\n",
              "\n",
              "[1404 rows x 5 columns]"
            ]
          },
          "metadata": {
            "tags": []
          },
          "execution_count": 4
        }
      ]
    },
    {
      "cell_type": "code",
      "metadata": {
        "colab": {
          "base_uri": "https://localhost:8080/"
        },
        "id": "cvFmsQqjGfl3",
        "outputId": "7f0509f7-e7d6-4537-e819-c5aa971d7238"
      },
      "source": [
        "print(data_test[data_test['period_start_dt'].dt.year == 2020].shape[0])\r\n",
        "print(data_test[ (data_test['period_start_dt'].dt.year == 2019) & (data_test['period_start_dt'].dt.month == 12) ].shape[0])\r\n",
        "data_test.shape"
      ],
      "execution_count": 5,
      "outputs": [
        {
          "output_type": "stream",
          "text": [
            "204\n",
            "720\n"
          ],
          "name": "stdout"
        },
        {
          "output_type": "execute_result",
          "data": {
            "text/plain": [
              "(1404, 5)"
            ]
          },
          "metadata": {
            "tags": []
          },
          "execution_count": 5
        }
      ]
    },
    {
      "cell_type": "code",
      "metadata": {
        "colab": {
          "base_uri": "https://localhost:8080/",
          "height": 415
        },
        "id": "dUw9_EDySSnG",
        "outputId": "d1d5026e-1123-4ad7-8190-1d5cdb21f24c"
      },
      "source": [
        "data_test[ (data_test['period_start_dt'].dt.year == 2019) & (data_test['period_start_dt'].dt.month != 12) ]"
      ],
      "execution_count": 6,
      "outputs": [
        {
          "output_type": "execute_result",
          "data": {
            "text/html": [
              "<div>\n",
              "<style scoped>\n",
              "    .dataframe tbody tr th:only-of-type {\n",
              "        vertical-align: middle;\n",
              "    }\n",
              "\n",
              "    .dataframe tbody tr th {\n",
              "        vertical-align: top;\n",
              "    }\n",
              "\n",
              "    .dataframe thead th {\n",
              "        text-align: right;\n",
              "    }\n",
              "</style>\n",
              "<table border=\"1\" class=\"dataframe\">\n",
              "  <thead>\n",
              "    <tr style=\"text-align: right;\">\n",
              "      <th></th>\n",
              "      <th>id</th>\n",
              "      <th>product_rk</th>\n",
              "      <th>store_location_rk</th>\n",
              "      <th>period_start_dt</th>\n",
              "      <th>demand</th>\n",
              "    </tr>\n",
              "  </thead>\n",
              "  <tbody>\n",
              "    <tr>\n",
              "      <th>0</th>\n",
              "      <td>908</td>\n",
              "      <td>40369</td>\n",
              "      <td>317</td>\n",
              "      <td>2019-02-12</td>\n",
              "      <td>NaN</td>\n",
              "    </tr>\n",
              "    <tr>\n",
              "      <th>1</th>\n",
              "      <td>909</td>\n",
              "      <td>40370</td>\n",
              "      <td>317</td>\n",
              "      <td>2019-02-12</td>\n",
              "      <td>NaN</td>\n",
              "    </tr>\n",
              "    <tr>\n",
              "      <th>2</th>\n",
              "      <td>910</td>\n",
              "      <td>40372</td>\n",
              "      <td>317</td>\n",
              "      <td>2019-02-12</td>\n",
              "      <td>NaN</td>\n",
              "    </tr>\n",
              "    <tr>\n",
              "      <th>3</th>\n",
              "      <td>911</td>\n",
              "      <td>40373</td>\n",
              "      <td>317</td>\n",
              "      <td>2019-02-12</td>\n",
              "      <td>NaN</td>\n",
              "    </tr>\n",
              "    <tr>\n",
              "      <th>4</th>\n",
              "      <td>912</td>\n",
              "      <td>46272</td>\n",
              "      <td>317</td>\n",
              "      <td>2019-02-12</td>\n",
              "      <td>NaN</td>\n",
              "    </tr>\n",
              "    <tr>\n",
              "      <th>...</th>\n",
              "      <td>...</td>\n",
              "      <td>...</td>\n",
              "      <td>...</td>\n",
              "      <td>...</td>\n",
              "      <td>...</td>\n",
              "    </tr>\n",
              "    <tr>\n",
              "      <th>1375</th>\n",
              "      <td>35519</td>\n",
              "      <td>40370</td>\n",
              "      <td>1380</td>\n",
              "      <td>2019-09-12</td>\n",
              "      <td>NaN</td>\n",
              "    </tr>\n",
              "    <tr>\n",
              "      <th>1376</th>\n",
              "      <td>35520</td>\n",
              "      <td>40372</td>\n",
              "      <td>1380</td>\n",
              "      <td>2019-09-12</td>\n",
              "      <td>NaN</td>\n",
              "    </tr>\n",
              "    <tr>\n",
              "      <th>1377</th>\n",
              "      <td>35521</td>\n",
              "      <td>40373</td>\n",
              "      <td>1380</td>\n",
              "      <td>2019-09-12</td>\n",
              "      <td>NaN</td>\n",
              "    </tr>\n",
              "    <tr>\n",
              "      <th>1378</th>\n",
              "      <td>35522</td>\n",
              "      <td>46272</td>\n",
              "      <td>1380</td>\n",
              "      <td>2019-09-12</td>\n",
              "      <td>NaN</td>\n",
              "    </tr>\n",
              "    <tr>\n",
              "      <th>1379</th>\n",
              "      <td>35523</td>\n",
              "      <td>96212</td>\n",
              "      <td>1380</td>\n",
              "      <td>2019-09-12</td>\n",
              "      <td>NaN</td>\n",
              "    </tr>\n",
              "  </tbody>\n",
              "</table>\n",
              "<p>480 rows × 5 columns</p>\n",
              "</div>"
            ],
            "text/plain": [
              "         id  product_rk  store_location_rk period_start_dt  demand\n",
              "0       908       40369                317      2019-02-12     NaN\n",
              "1       909       40370                317      2019-02-12     NaN\n",
              "2       910       40372                317      2019-02-12     NaN\n",
              "3       911       40373                317      2019-02-12     NaN\n",
              "4       912       46272                317      2019-02-12     NaN\n",
              "...     ...         ...                ...             ...     ...\n",
              "1375  35519       40370               1380      2019-09-12     NaN\n",
              "1376  35520       40372               1380      2019-09-12     NaN\n",
              "1377  35521       40373               1380      2019-09-12     NaN\n",
              "1378  35522       46272               1380      2019-09-12     NaN\n",
              "1379  35523       96212               1380      2019-09-12     NaN\n",
              "\n",
              "[480 rows x 5 columns]"
            ]
          },
          "metadata": {
            "tags": []
          },
          "execution_count": 6
        }
      ]
    },
    {
      "cell_type": "markdown",
      "metadata": {
        "id": "HpdYvr-DHe2Z"
      },
      "source": [
        "В тренировочном сете нет данных по 2020 году и в задании сказано, что нужно спрогнозировать только на декабрь 2019, поэтому удалим из тестового набора  данных все записи 20 года. \r\n",
        "\r\n",
        "Согласно заданию, нужно спрогнозировать только декабрь 2019 года, а в тестовом наборе данных 480 наблюдений не декабрь 2019 года, их тоже можно удалить.\r\n",
        "\r\n",
        "В тренировочном наборе данных есть столбец без описания, возможно, это id. Проверим это предположение."
      ]
    },
    {
      "cell_type": "code",
      "metadata": {
        "colab": {
          "base_uri": "https://localhost:8080/"
        },
        "id": "PE44-EIeHao1",
        "outputId": "e531d0fe-da23-4131-8de6-099102560455"
      },
      "source": [
        "data_test = data_test[ (data_test['period_start_dt'].dt.year == 2019) & (data_test['period_start_dt'].dt.month == 12) ]\r\n",
        "data_test.shape"
      ],
      "execution_count": 7,
      "outputs": [
        {
          "output_type": "execute_result",
          "data": {
            "text/plain": [
              "(720, 5)"
            ]
          },
          "metadata": {
            "tags": []
          },
          "execution_count": 7
        }
      ]
    },
    {
      "cell_type": "code",
      "metadata": {
        "colab": {
          "base_uri": "https://localhost:8080/",
          "height": 453
        },
        "id": "PhY-_HmVHH_e",
        "outputId": "3caa993f-71cb-4447-82c5-374a0957cdc8"
      },
      "source": [
        "data_train['id'] = data_train['Unnamed: 0']\r\n",
        "m = (data_train[(data_train['period_start_dt'].dt.year == 2019) & (data_train['period_start_dt'].dt.month == 12)].merge(data_test[(data_test['period_start_dt'].dt.year == 2019) & (data_test['period_start_dt'].dt.month == 12)], how='outer', on=['id','product_rk','store_location_rk', 'period_start_dt'], \r\n",
        "              suffixes=['', '_new'], indicator=True))\r\n",
        "only2 = m[m['_merge']  == 'left_only']\r\n",
        "only2"
      ],
      "execution_count": 8,
      "outputs": [
        {
          "output_type": "execute_result",
          "data": {
            "text/html": [
              "<div>\n",
              "<style scoped>\n",
              "    .dataframe tbody tr th:only-of-type {\n",
              "        vertical-align: middle;\n",
              "    }\n",
              "\n",
              "    .dataframe tbody tr th {\n",
              "        vertical-align: top;\n",
              "    }\n",
              "\n",
              "    .dataframe thead th {\n",
              "        text-align: right;\n",
              "    }\n",
              "</style>\n",
              "<table border=\"1\" class=\"dataframe\">\n",
              "  <thead>\n",
              "    <tr style=\"text-align: right;\">\n",
              "      <th></th>\n",
              "      <th>Unnamed: 0</th>\n",
              "      <th>product_rk</th>\n",
              "      <th>store_location_rk</th>\n",
              "      <th>period_start_dt</th>\n",
              "      <th>demand</th>\n",
              "      <th>PROMO1_FLAG</th>\n",
              "      <th>PROMO2_FLAG</th>\n",
              "      <th>PRICE_REGULAR</th>\n",
              "      <th>PRICE_AFTER_DISC</th>\n",
              "      <th>NUM_CONSULTANT</th>\n",
              "      <th>AUTORIZATION_FLAG</th>\n",
              "      <th>id</th>\n",
              "      <th>demand_new</th>\n",
              "      <th>_merge</th>\n",
              "    </tr>\n",
              "  </thead>\n",
              "  <tbody>\n",
              "    <tr>\n",
              "      <th>0</th>\n",
              "      <td>908</td>\n",
              "      <td>40369</td>\n",
              "      <td>317</td>\n",
              "      <td>2019-12-02</td>\n",
              "      <td>NaN</td>\n",
              "      <td>0.0</td>\n",
              "      <td>0.0</td>\n",
              "      <td>500.00</td>\n",
              "      <td>500.0</td>\n",
              "      <td>0.0</td>\n",
              "      <td>1.0</td>\n",
              "      <td>908</td>\n",
              "      <td>NaN</td>\n",
              "      <td>left_only</td>\n",
              "    </tr>\n",
              "    <tr>\n",
              "      <th>1</th>\n",
              "      <td>909</td>\n",
              "      <td>40370</td>\n",
              "      <td>317</td>\n",
              "      <td>2019-12-02</td>\n",
              "      <td>NaN</td>\n",
              "      <td>0.0</td>\n",
              "      <td>0.0</td>\n",
              "      <td>1000.00</td>\n",
              "      <td>1000.0</td>\n",
              "      <td>0.0</td>\n",
              "      <td>1.0</td>\n",
              "      <td>909</td>\n",
              "      <td>NaN</td>\n",
              "      <td>left_only</td>\n",
              "    </tr>\n",
              "    <tr>\n",
              "      <th>2</th>\n",
              "      <td>910</td>\n",
              "      <td>40372</td>\n",
              "      <td>317</td>\n",
              "      <td>2019-12-02</td>\n",
              "      <td>NaN</td>\n",
              "      <td>0.0</td>\n",
              "      <td>0.0</td>\n",
              "      <td>2000.00</td>\n",
              "      <td>2000.0</td>\n",
              "      <td>0.0</td>\n",
              "      <td>1.0</td>\n",
              "      <td>910</td>\n",
              "      <td>NaN</td>\n",
              "      <td>left_only</td>\n",
              "    </tr>\n",
              "    <tr>\n",
              "      <th>3</th>\n",
              "      <td>911</td>\n",
              "      <td>40373</td>\n",
              "      <td>317</td>\n",
              "      <td>2019-12-02</td>\n",
              "      <td>NaN</td>\n",
              "      <td>0.0</td>\n",
              "      <td>0.0</td>\n",
              "      <td>3000.00</td>\n",
              "      <td>3000.0</td>\n",
              "      <td>0.0</td>\n",
              "      <td>1.0</td>\n",
              "      <td>911</td>\n",
              "      <td>NaN</td>\n",
              "      <td>left_only</td>\n",
              "    </tr>\n",
              "    <tr>\n",
              "      <th>4</th>\n",
              "      <td>912</td>\n",
              "      <td>46272</td>\n",
              "      <td>317</td>\n",
              "      <td>2019-12-02</td>\n",
              "      <td>NaN</td>\n",
              "      <td>1.0</td>\n",
              "      <td>0.0</td>\n",
              "      <td>284.29</td>\n",
              "      <td>199.0</td>\n",
              "      <td>0.0</td>\n",
              "      <td>1.0</td>\n",
              "      <td>912</td>\n",
              "      <td>NaN</td>\n",
              "      <td>left_only</td>\n",
              "    </tr>\n",
              "    <tr>\n",
              "      <th>...</th>\n",
              "      <td>...</td>\n",
              "      <td>...</td>\n",
              "      <td>...</td>\n",
              "      <td>...</td>\n",
              "      <td>...</td>\n",
              "      <td>...</td>\n",
              "      <td>...</td>\n",
              "      <td>...</td>\n",
              "      <td>...</td>\n",
              "      <td>...</td>\n",
              "      <td>...</td>\n",
              "      <td>...</td>\n",
              "      <td>...</td>\n",
              "      <td>...</td>\n",
              "    </tr>\n",
              "    <tr>\n",
              "      <th>1177</th>\n",
              "      <td>35519</td>\n",
              "      <td>40370</td>\n",
              "      <td>1380</td>\n",
              "      <td>2019-12-09</td>\n",
              "      <td>NaN</td>\n",
              "      <td>0.0</td>\n",
              "      <td>0.0</td>\n",
              "      <td>1000.00</td>\n",
              "      <td>1000.0</td>\n",
              "      <td>0.0</td>\n",
              "      <td>1.0</td>\n",
              "      <td>35519</td>\n",
              "      <td>NaN</td>\n",
              "      <td>left_only</td>\n",
              "    </tr>\n",
              "    <tr>\n",
              "      <th>1178</th>\n",
              "      <td>35520</td>\n",
              "      <td>40372</td>\n",
              "      <td>1380</td>\n",
              "      <td>2019-12-09</td>\n",
              "      <td>NaN</td>\n",
              "      <td>0.0</td>\n",
              "      <td>0.0</td>\n",
              "      <td>2000.00</td>\n",
              "      <td>2000.0</td>\n",
              "      <td>0.0</td>\n",
              "      <td>1.0</td>\n",
              "      <td>35520</td>\n",
              "      <td>NaN</td>\n",
              "      <td>left_only</td>\n",
              "    </tr>\n",
              "    <tr>\n",
              "      <th>1179</th>\n",
              "      <td>35521</td>\n",
              "      <td>40373</td>\n",
              "      <td>1380</td>\n",
              "      <td>2019-12-09</td>\n",
              "      <td>NaN</td>\n",
              "      <td>0.0</td>\n",
              "      <td>0.0</td>\n",
              "      <td>3000.00</td>\n",
              "      <td>3000.0</td>\n",
              "      <td>0.0</td>\n",
              "      <td>1.0</td>\n",
              "      <td>35521</td>\n",
              "      <td>NaN</td>\n",
              "      <td>left_only</td>\n",
              "    </tr>\n",
              "    <tr>\n",
              "      <th>1180</th>\n",
              "      <td>35522</td>\n",
              "      <td>46272</td>\n",
              "      <td>1380</td>\n",
              "      <td>2019-12-09</td>\n",
              "      <td>NaN</td>\n",
              "      <td>1.0</td>\n",
              "      <td>0.0</td>\n",
              "      <td>284.29</td>\n",
              "      <td>199.0</td>\n",
              "      <td>0.0</td>\n",
              "      <td>1.0</td>\n",
              "      <td>35522</td>\n",
              "      <td>NaN</td>\n",
              "      <td>left_only</td>\n",
              "    </tr>\n",
              "    <tr>\n",
              "      <th>1181</th>\n",
              "      <td>35523</td>\n",
              "      <td>96212</td>\n",
              "      <td>1380</td>\n",
              "      <td>2019-12-09</td>\n",
              "      <td>NaN</td>\n",
              "      <td>1.0</td>\n",
              "      <td>0.0</td>\n",
              "      <td>141.43</td>\n",
              "      <td>99.0</td>\n",
              "      <td>0.0</td>\n",
              "      <td>1.0</td>\n",
              "      <td>35523</td>\n",
              "      <td>NaN</td>\n",
              "      <td>left_only</td>\n",
              "    </tr>\n",
              "  </tbody>\n",
              "</table>\n",
              "<p>480 rows × 14 columns</p>\n",
              "</div>"
            ],
            "text/plain": [
              "      Unnamed: 0  product_rk  store_location_rk  ...     id  demand_new     _merge\n",
              "0            908       40369                317  ...    908         NaN  left_only\n",
              "1            909       40370                317  ...    909         NaN  left_only\n",
              "2            910       40372                317  ...    910         NaN  left_only\n",
              "3            911       40373                317  ...    911         NaN  left_only\n",
              "4            912       46272                317  ...    912         NaN  left_only\n",
              "...          ...         ...                ...  ...    ...         ...        ...\n",
              "1177       35519       40370               1380  ...  35519         NaN  left_only\n",
              "1178       35520       40372               1380  ...  35520         NaN  left_only\n",
              "1179       35521       40373               1380  ...  35521         NaN  left_only\n",
              "1180       35522       46272               1380  ...  35522         NaN  left_only\n",
              "1181       35523       96212               1380  ...  35523         NaN  left_only\n",
              "\n",
              "[480 rows x 14 columns]"
            ]
          },
          "metadata": {
            "tags": []
          },
          "execution_count": 8
        }
      ]
    },
    {
      "cell_type": "code",
      "metadata": {
        "colab": {
          "base_uri": "https://localhost:8080/",
          "height": 49
        },
        "id": "M1rG_sDATACE",
        "outputId": "8b8944b0-c09f-45f7-fa02-91400d8f9174"
      },
      "source": [
        "data_test[(data_test['period_start_dt'].dt.year == 2019) & (data_test['period_start_dt'].dt.month == 12) & (data_test['period_start_dt'].dt.day == 9)]"
      ],
      "execution_count": 9,
      "outputs": [
        {
          "output_type": "execute_result",
          "data": {
            "text/html": [
              "<div>\n",
              "<style scoped>\n",
              "    .dataframe tbody tr th:only-of-type {\n",
              "        vertical-align: middle;\n",
              "    }\n",
              "\n",
              "    .dataframe tbody tr th {\n",
              "        vertical-align: top;\n",
              "    }\n",
              "\n",
              "    .dataframe thead th {\n",
              "        text-align: right;\n",
              "    }\n",
              "</style>\n",
              "<table border=\"1\" class=\"dataframe\">\n",
              "  <thead>\n",
              "    <tr style=\"text-align: right;\">\n",
              "      <th></th>\n",
              "      <th>id</th>\n",
              "      <th>product_rk</th>\n",
              "      <th>store_location_rk</th>\n",
              "      <th>period_start_dt</th>\n",
              "      <th>demand</th>\n",
              "    </tr>\n",
              "  </thead>\n",
              "  <tbody>\n",
              "  </tbody>\n",
              "</table>\n",
              "</div>"
            ],
            "text/plain": [
              "Empty DataFrame\n",
              "Columns: [id, product_rk, store_location_rk, period_start_dt, demand]\n",
              "Index: []"
            ]
          },
          "metadata": {
            "tags": []
          },
          "execution_count": 9
        }
      ]
    },
    {
      "cell_type": "code",
      "metadata": {
        "colab": {
          "base_uri": "https://localhost:8080/"
        },
        "id": "81e56cSWVrif",
        "outputId": "214d0acd-a393-4748-81d4-6042eeca7939"
      },
      "source": [
        "data_train[(data_train['period_start_dt'].dt.year == 2019) & (data_train['period_start_dt'].dt.month == 12)]['period_start_dt'].unique()"
      ],
      "execution_count": 10,
      "outputs": [
        {
          "output_type": "execute_result",
          "data": {
            "text/plain": [
              "array(['2019-12-02T00:00:00.000000000', '2019-12-09T00:00:00.000000000',\n",
              "       '2019-12-16T00:00:00.000000000', '2019-12-23T00:00:00.000000000',\n",
              "       '2019-12-30T00:00:00.000000000'], dtype='datetime64[ns]')"
            ]
          },
          "metadata": {
            "tags": []
          },
          "execution_count": 10
        }
      ]
    },
    {
      "cell_type": "markdown",
      "metadata": {
        "id": "NRIHJwxMUWNn"
      },
      "source": [
        "В предложенном тестовом наборе данных отсутствуют записи за 2 и 9 число декабря. В тренировочном же есть все 5 недель декабря 2019 года и нет ничего лишнего. Соответственно, было решено работать только с тренировочным набором данных и потом уже из него получить тестовый сет. Поэтому переменнуем data_train в data"
      ]
    },
    {
      "cell_type": "code",
      "metadata": {
        "id": "N3Cn32oXXQzW"
      },
      "source": [
        "data = data_train"
      ],
      "execution_count": 11,
      "outputs": []
    },
    {
      "cell_type": "markdown",
      "metadata": {
        "id": "NW386HmHJ1LE"
      },
      "source": [
        "Предположение подтвердилось, все 720 id по продукту, магазину и дате совпали с предпологаемым id по продукту, магазину и дате в тренировочном сете, поэтому можно переименовать неизвестную колонку в id."
      ]
    },
    {
      "cell_type": "code",
      "metadata": {
        "colab": {
          "base_uri": "https://localhost:8080/",
          "height": 239
        },
        "id": "xXeAcf4jJ0jk",
        "outputId": "f6ab773d-8be1-4247-c755-7eb8983fcda5"
      },
      "source": [
        "data = data.drop('id', axis=1)\r\n",
        "data = data.rename(columns={'Unnamed: 0': 'id'})\r\n",
        "print(data.shape)\r\n",
        "data.tail()"
      ],
      "execution_count": 12,
      "outputs": [
        {
          "output_type": "stream",
          "text": [
            "(35344, 11)\n"
          ],
          "name": "stdout"
        },
        {
          "output_type": "execute_result",
          "data": {
            "text/html": [
              "<div>\n",
              "<style scoped>\n",
              "    .dataframe tbody tr th:only-of-type {\n",
              "        vertical-align: middle;\n",
              "    }\n",
              "\n",
              "    .dataframe tbody tr th {\n",
              "        vertical-align: top;\n",
              "    }\n",
              "\n",
              "    .dataframe thead th {\n",
              "        text-align: right;\n",
              "    }\n",
              "</style>\n",
              "<table border=\"1\" class=\"dataframe\">\n",
              "  <thead>\n",
              "    <tr style=\"text-align: right;\">\n",
              "      <th></th>\n",
              "      <th>id</th>\n",
              "      <th>product_rk</th>\n",
              "      <th>store_location_rk</th>\n",
              "      <th>period_start_dt</th>\n",
              "      <th>demand</th>\n",
              "      <th>PROMO1_FLAG</th>\n",
              "      <th>PROMO2_FLAG</th>\n",
              "      <th>PRICE_REGULAR</th>\n",
              "      <th>PRICE_AFTER_DISC</th>\n",
              "      <th>NUM_CONSULTANT</th>\n",
              "      <th>AUTORIZATION_FLAG</th>\n",
              "    </tr>\n",
              "  </thead>\n",
              "  <tbody>\n",
              "    <tr>\n",
              "      <th>35339</th>\n",
              "      <td>35537</td>\n",
              "      <td>40370</td>\n",
              "      <td>1380</td>\n",
              "      <td>2019-12-30</td>\n",
              "      <td>NaN</td>\n",
              "      <td>0.0</td>\n",
              "      <td>0.0</td>\n",
              "      <td>1000.00</td>\n",
              "      <td>1000.0</td>\n",
              "      <td>0.0</td>\n",
              "      <td>1.0</td>\n",
              "    </tr>\n",
              "    <tr>\n",
              "      <th>35340</th>\n",
              "      <td>35538</td>\n",
              "      <td>40372</td>\n",
              "      <td>1380</td>\n",
              "      <td>2019-12-30</td>\n",
              "      <td>NaN</td>\n",
              "      <td>0.0</td>\n",
              "      <td>0.0</td>\n",
              "      <td>2000.00</td>\n",
              "      <td>2000.0</td>\n",
              "      <td>0.0</td>\n",
              "      <td>1.0</td>\n",
              "    </tr>\n",
              "    <tr>\n",
              "      <th>35341</th>\n",
              "      <td>35539</td>\n",
              "      <td>40373</td>\n",
              "      <td>1380</td>\n",
              "      <td>2019-12-30</td>\n",
              "      <td>NaN</td>\n",
              "      <td>0.0</td>\n",
              "      <td>0.0</td>\n",
              "      <td>3000.00</td>\n",
              "      <td>3000.0</td>\n",
              "      <td>0.0</td>\n",
              "      <td>1.0</td>\n",
              "    </tr>\n",
              "    <tr>\n",
              "      <th>35342</th>\n",
              "      <td>35540</td>\n",
              "      <td>46272</td>\n",
              "      <td>1380</td>\n",
              "      <td>2019-12-30</td>\n",
              "      <td>NaN</td>\n",
              "      <td>1.0</td>\n",
              "      <td>0.0</td>\n",
              "      <td>284.29</td>\n",
              "      <td>199.0</td>\n",
              "      <td>0.0</td>\n",
              "      <td>1.0</td>\n",
              "    </tr>\n",
              "    <tr>\n",
              "      <th>35343</th>\n",
              "      <td>35541</td>\n",
              "      <td>96212</td>\n",
              "      <td>1380</td>\n",
              "      <td>2019-12-30</td>\n",
              "      <td>NaN</td>\n",
              "      <td>1.0</td>\n",
              "      <td>0.0</td>\n",
              "      <td>141.43</td>\n",
              "      <td>99.0</td>\n",
              "      <td>0.0</td>\n",
              "      <td>1.0</td>\n",
              "    </tr>\n",
              "  </tbody>\n",
              "</table>\n",
              "</div>"
            ],
            "text/plain": [
              "          id  product_rk  ...  NUM_CONSULTANT AUTORIZATION_FLAG\n",
              "35339  35537       40370  ...             0.0               1.0\n",
              "35340  35538       40372  ...             0.0               1.0\n",
              "35341  35539       40373  ...             0.0               1.0\n",
              "35342  35540       46272  ...             0.0               1.0\n",
              "35343  35541       96212  ...             0.0               1.0\n",
              "\n",
              "[5 rows x 11 columns]"
            ]
          },
          "metadata": {
            "tags": []
          },
          "execution_count": 12
        }
      ]
    },
    {
      "cell_type": "markdown",
      "metadata": {
        "id": "6P0-JWQKN6Tb"
      },
      "source": [
        "По каждой переменной набора данных рассчитаем: число уникальных значений (UNIQUE и PERCENT_UNIQUE), число нудевых значений (ZEROS и PERCENT_ZEROS), число пропущенных значений (NANS и PERCENT_NANS) и тип данных (DATA_TYPE). Результаты приведены в таблице ниже:"
      ]
    },
    {
      "cell_type": "code",
      "metadata": {
        "colab": {
          "base_uri": "https://localhost:8080/",
          "height": 386
        },
        "id": "ADNi07upPJQ1",
        "outputId": "cc565ec0-78de-469c-ef79-f3e8b0f46092"
      },
      "source": [
        "columns = [\"UNIQUE\", 'PERCENT_UNIQUE', 'ZEROS', 'PERCENT_ZEROS', 'NANS', 'PERCENT_NANS', 'DATA_TYPE']\r\n",
        "dt = pd.DataFrame(index=data.columns, columns=columns)\r\n",
        "\r\n",
        "for col in data.columns:\r\n",
        "  dt.loc[col,\"UNIQUE\"] = len(data[col].unique())\r\n",
        "  dt.loc[col,\"PERCENT_UNIQUE\"] = dt.loc[col,\"UNIQUE\"]/len(data[col])*100\r\n",
        "  dt.loc[col,\"NANS\"] = np.sum(data[col].isnull())\r\n",
        "  dt.loc[col,\"PERCENT_NANS\"] = dt.loc[col,\"NANS\"]/len(data[col])*100\r\n",
        "  dt.loc[col,\"ZEROS\"] = (data[col] == 0).sum()\r\n",
        "  dt.loc[col,\"PERCENT_ZEROS\"] = dt.loc[col,\"ZEROS\"]/len(data[col])*100\r\n",
        "  dt[\"DATA_TYPE\"] = data.dtypes   \r\n",
        "\r\n",
        "dt"
      ],
      "execution_count": 13,
      "outputs": [
        {
          "output_type": "execute_result",
          "data": {
            "text/html": [
              "<div>\n",
              "<style scoped>\n",
              "    .dataframe tbody tr th:only-of-type {\n",
              "        vertical-align: middle;\n",
              "    }\n",
              "\n",
              "    .dataframe tbody tr th {\n",
              "        vertical-align: top;\n",
              "    }\n",
              "\n",
              "    .dataframe thead th {\n",
              "        text-align: right;\n",
              "    }\n",
              "</style>\n",
              "<table border=\"1\" class=\"dataframe\">\n",
              "  <thead>\n",
              "    <tr style=\"text-align: right;\">\n",
              "      <th></th>\n",
              "      <th>UNIQUE</th>\n",
              "      <th>PERCENT_UNIQUE</th>\n",
              "      <th>ZEROS</th>\n",
              "      <th>PERCENT_ZEROS</th>\n",
              "      <th>NANS</th>\n",
              "      <th>PERCENT_NANS</th>\n",
              "      <th>DATA_TYPE</th>\n",
              "    </tr>\n",
              "  </thead>\n",
              "  <tbody>\n",
              "    <tr>\n",
              "      <th>id</th>\n",
              "      <td>35344</td>\n",
              "      <td>100</td>\n",
              "      <td>1</td>\n",
              "      <td>0.00282933</td>\n",
              "      <td>0</td>\n",
              "      <td>0</td>\n",
              "      <td>int64</td>\n",
              "    </tr>\n",
              "    <tr>\n",
              "      <th>product_rk</th>\n",
              "      <td>6</td>\n",
              "      <td>0.016976</td>\n",
              "      <td>0</td>\n",
              "      <td>0</td>\n",
              "      <td>0</td>\n",
              "      <td>0</td>\n",
              "      <td>int64</td>\n",
              "    </tr>\n",
              "    <tr>\n",
              "      <th>store_location_rk</th>\n",
              "      <td>41</td>\n",
              "      <td>0.116003</td>\n",
              "      <td>0</td>\n",
              "      <td>0</td>\n",
              "      <td>0</td>\n",
              "      <td>0</td>\n",
              "      <td>int64</td>\n",
              "    </tr>\n",
              "    <tr>\n",
              "      <th>period_start_dt</th>\n",
              "      <td>159</td>\n",
              "      <td>0.449864</td>\n",
              "      <td>0</td>\n",
              "      <td>0</td>\n",
              "      <td>0</td>\n",
              "      <td>0</td>\n",
              "      <td>datetime64[ns]</td>\n",
              "    </tr>\n",
              "    <tr>\n",
              "      <th>demand</th>\n",
              "      <td>1807</td>\n",
              "      <td>5.11261</td>\n",
              "      <td>5454</td>\n",
              "      <td>15.4312</td>\n",
              "      <td>1200</td>\n",
              "      <td>3.3952</td>\n",
              "      <td>float64</td>\n",
              "    </tr>\n",
              "    <tr>\n",
              "      <th>PROMO1_FLAG</th>\n",
              "      <td>4</td>\n",
              "      <td>0.0113173</td>\n",
              "      <td>28323</td>\n",
              "      <td>80.1352</td>\n",
              "      <td>185</td>\n",
              "      <td>0.523427</td>\n",
              "      <td>float64</td>\n",
              "    </tr>\n",
              "    <tr>\n",
              "      <th>PROMO2_FLAG</th>\n",
              "      <td>2</td>\n",
              "      <td>0.00565867</td>\n",
              "      <td>35159</td>\n",
              "      <td>99.4766</td>\n",
              "      <td>185</td>\n",
              "      <td>0.523427</td>\n",
              "      <td>float64</td>\n",
              "    </tr>\n",
              "    <tr>\n",
              "      <th>PRICE_REGULAR</th>\n",
              "      <td>230</td>\n",
              "      <td>0.650747</td>\n",
              "      <td>0</td>\n",
              "      <td>0</td>\n",
              "      <td>1127</td>\n",
              "      <td>3.18866</td>\n",
              "      <td>float64</td>\n",
              "    </tr>\n",
              "    <tr>\n",
              "      <th>PRICE_AFTER_DISC</th>\n",
              "      <td>1037</td>\n",
              "      <td>2.93402</td>\n",
              "      <td>0</td>\n",
              "      <td>0</td>\n",
              "      <td>1132</td>\n",
              "      <td>3.20281</td>\n",
              "      <td>float64</td>\n",
              "    </tr>\n",
              "    <tr>\n",
              "      <th>NUM_CONSULTANT</th>\n",
              "      <td>2</td>\n",
              "      <td>0.00565867</td>\n",
              "      <td>35159</td>\n",
              "      <td>99.4766</td>\n",
              "      <td>185</td>\n",
              "      <td>0.523427</td>\n",
              "      <td>float64</td>\n",
              "    </tr>\n",
              "    <tr>\n",
              "      <th>AUTORIZATION_FLAG</th>\n",
              "      <td>3</td>\n",
              "      <td>0.008488</td>\n",
              "      <td>3246</td>\n",
              "      <td>9.18402</td>\n",
              "      <td>185</td>\n",
              "      <td>0.523427</td>\n",
              "      <td>float64</td>\n",
              "    </tr>\n",
              "  </tbody>\n",
              "</table>\n",
              "</div>"
            ],
            "text/plain": [
              "                  UNIQUE PERCENT_UNIQUE  ... PERCENT_NANS       DATA_TYPE\n",
              "id                 35344            100  ...            0           int64\n",
              "product_rk             6       0.016976  ...            0           int64\n",
              "store_location_rk     41       0.116003  ...            0           int64\n",
              "period_start_dt      159       0.449864  ...            0  datetime64[ns]\n",
              "demand              1807        5.11261  ...       3.3952         float64\n",
              "PROMO1_FLAG            4      0.0113173  ...     0.523427         float64\n",
              "PROMO2_FLAG            2     0.00565867  ...     0.523427         float64\n",
              "PRICE_REGULAR        230       0.650747  ...      3.18866         float64\n",
              "PRICE_AFTER_DISC    1037        2.93402  ...      3.20281         float64\n",
              "NUM_CONSULTANT         2     0.00565867  ...     0.523427         float64\n",
              "AUTORIZATION_FLAG      3       0.008488  ...     0.523427         float64\n",
              "\n",
              "[11 rows x 7 columns]"
            ]
          },
          "metadata": {
            "tags": []
          },
          "execution_count": 13
        }
      ]
    },
    {
      "cell_type": "markdown",
      "metadata": {
        "id": "XPSpYntKXu4M"
      },
      "source": [
        "Признак NUM_CONSULTANT практически на 100 процентов состоит из 0, следовательно, он не несет никакой информации и его можно удалить из набора данных."
      ]
    },
    {
      "cell_type": "code",
      "metadata": {
        "colab": {
          "base_uri": "https://localhost:8080/"
        },
        "id": "EAP_BVMFE9jq",
        "outputId": "76776a8b-4400-4aff-b5ed-54c1bfda98c2"
      },
      "source": [
        "data = data.drop('NUM_CONSULTANT', axis=1)\r\n",
        "data.shape"
      ],
      "execution_count": 14,
      "outputs": [
        {
          "output_type": "execute_result",
          "data": {
            "text/plain": [
              "(35344, 10)"
            ]
          },
          "metadata": {
            "tags": []
          },
          "execution_count": 14
        }
      ]
    },
    {
      "cell_type": "markdown",
      "metadata": {
        "id": "iely4P5uFPrP"
      },
      "source": [
        "Далее посмотрим на demand. У нее остаточно много нулей, нужно понять, нормально ли это."
      ]
    },
    {
      "cell_type": "code",
      "metadata": {
        "colab": {
          "base_uri": "https://localhost:8080/"
        },
        "id": "YIT7H431dCez",
        "outputId": "c60a99a4-5a32-4beb-b521-2a71b727a546"
      },
      "source": [
        "prod_list = data[data['demand'] == 0]['product_rk'].unique()\r\n",
        "prod_list"
      ],
      "execution_count": 15,
      "outputs": [
        {
          "output_type": "execute_result",
          "data": {
            "text/plain": [
              "array([46272, 40372, 96212, 40373, 40369, 40370])"
            ]
          },
          "metadata": {
            "tags": []
          },
          "execution_count": 15
        }
      ]
    },
    {
      "cell_type": "code",
      "metadata": {
        "colab": {
          "base_uri": "https://localhost:8080/",
          "height": 415
        },
        "id": "cOL1vhJN8mEI",
        "outputId": "fe8abc11-c400-4ade-96c4-97fd1092c35c"
      },
      "source": [
        "for prod in prod_list:\r\n",
        "  y= data[data['product_rk'] == prod].groupby('period_start_dt', as_index=False)['demand'].sum()\r\n",
        "y"
      ],
      "execution_count": 16,
      "outputs": [
        {
          "output_type": "execute_result",
          "data": {
            "text/html": [
              "<div>\n",
              "<style scoped>\n",
              "    .dataframe tbody tr th:only-of-type {\n",
              "        vertical-align: middle;\n",
              "    }\n",
              "\n",
              "    .dataframe tbody tr th {\n",
              "        vertical-align: top;\n",
              "    }\n",
              "\n",
              "    .dataframe thead th {\n",
              "        text-align: right;\n",
              "    }\n",
              "</style>\n",
              "<table border=\"1\" class=\"dataframe\">\n",
              "  <thead>\n",
              "    <tr style=\"text-align: right;\">\n",
              "      <th></th>\n",
              "      <th>period_start_dt</th>\n",
              "      <th>demand</th>\n",
              "    </tr>\n",
              "  </thead>\n",
              "  <tbody>\n",
              "    <tr>\n",
              "      <th>0</th>\n",
              "      <td>2016-12-19</td>\n",
              "      <td>1736.000000</td>\n",
              "    </tr>\n",
              "    <tr>\n",
              "      <th>1</th>\n",
              "      <td>2016-12-26</td>\n",
              "      <td>3702.000000</td>\n",
              "    </tr>\n",
              "    <tr>\n",
              "      <th>2</th>\n",
              "      <td>2017-01-02</td>\n",
              "      <td>2443.529969</td>\n",
              "    </tr>\n",
              "    <tr>\n",
              "      <th>3</th>\n",
              "      <td>2017-01-09</td>\n",
              "      <td>590.000000</td>\n",
              "    </tr>\n",
              "    <tr>\n",
              "      <th>4</th>\n",
              "      <td>2017-01-16</td>\n",
              "      <td>512.797814</td>\n",
              "    </tr>\n",
              "    <tr>\n",
              "      <th>...</th>\n",
              "      <td>...</td>\n",
              "      <td>...</td>\n",
              "    </tr>\n",
              "    <tr>\n",
              "      <th>154</th>\n",
              "      <td>2019-12-02</td>\n",
              "      <td>0.000000</td>\n",
              "    </tr>\n",
              "    <tr>\n",
              "      <th>155</th>\n",
              "      <td>2019-12-09</td>\n",
              "      <td>0.000000</td>\n",
              "    </tr>\n",
              "    <tr>\n",
              "      <th>156</th>\n",
              "      <td>2019-12-16</td>\n",
              "      <td>0.000000</td>\n",
              "    </tr>\n",
              "    <tr>\n",
              "      <th>157</th>\n",
              "      <td>2019-12-23</td>\n",
              "      <td>0.000000</td>\n",
              "    </tr>\n",
              "    <tr>\n",
              "      <th>158</th>\n",
              "      <td>2019-12-30</td>\n",
              "      <td>0.000000</td>\n",
              "    </tr>\n",
              "  </tbody>\n",
              "</table>\n",
              "<p>159 rows × 2 columns</p>\n",
              "</div>"
            ],
            "text/plain": [
              "    period_start_dt       demand\n",
              "0        2016-12-19  1736.000000\n",
              "1        2016-12-26  3702.000000\n",
              "2        2017-01-02  2443.529969\n",
              "3        2017-01-09   590.000000\n",
              "4        2017-01-16   512.797814\n",
              "..              ...          ...\n",
              "154      2019-12-02     0.000000\n",
              "155      2019-12-09     0.000000\n",
              "156      2019-12-16     0.000000\n",
              "157      2019-12-23     0.000000\n",
              "158      2019-12-30     0.000000\n",
              "\n",
              "[159 rows x 2 columns]"
            ]
          },
          "metadata": {
            "tags": []
          },
          "execution_count": 16
        }
      ]
    },
    {
      "cell_type": "code",
      "metadata": {
        "colab": {
          "base_uri": "https://localhost:8080/",
          "height": 607
        },
        "id": "2kyk8EH4s99P",
        "outputId": "7ca80975-04fd-4692-c4ce-9b35fb84dad3"
      },
      "source": [
        "r = 2\r\n",
        "c = 3\r\n",
        "fig, ax = plt.subplots(r, c, figsize = (c*5, r*5))\r\n",
        "\r\n",
        "i = 0\r\n",
        "j = 0\r\n",
        "\r\n",
        "for prod in prod_list:\r\n",
        "  y= data[(data['product_rk'] == prod) & (data['period_start_dt'].dt.year == 2019)].groupby('period_start_dt', as_index=False)['demand'].sum()\r\n",
        "  y = y[y['demand']<400]\r\n",
        "  if (i < r) & (j < c): \r\n",
        "    ax[i, j].plot(y['period_start_dt'].dt.month, y['demand'], color = 'turquoise')\r\n",
        "    ax[i, j].set_title(prod)\r\n",
        "    j += 1\r\n",
        "  elif (i < r) & (j == c):\r\n",
        "    j = 0\r\n",
        "    i += 1\r\n",
        "    ax[i, j].plot(y['period_start_dt'].dt.month, y['demand'], color = 'turquoise')\r\n",
        "    ax[i, j].set_title(prod)\r\n",
        "    j += 1\r\n",
        "  else:\r\n",
        "    print('ERROR')  \r\n",
        " \r\n",
        "plt.show()"
      ],
      "execution_count": 35,
      "outputs": [
        {
          "output_type": "display_data",
          "data": {
            "image/png": "[encoded data removed]",
            "text/plain": [
              "<Figure size 1080x720 with 6 Axes>"
            ]
          },
          "metadata": {
            "tags": [],
            "needs_background": "light"
          }
        }
      ]
    },
    {
      "cell_type": "code",
      "metadata": {
        "colab": {
          "base_uri": "https://localhost:8080/",
          "height": 607
        },
        "id": "INiOBkz1Dcx8",
        "outputId": "4313163a-2a41-4807-8db0-814aae16c8c8"
      },
      "source": [
        "r = 2\r\n",
        "c = 3\r\n",
        "fig, ax = plt.subplots(r, c, figsize = (c*5, r*5))\r\n",
        "\r\n",
        "i = 0\r\n",
        "j = 0\r\n",
        "\r\n",
        "for prod in prod_list:\r\n",
        "  y= data[(data['product_rk'] == prod) ].groupby('period_start_dt', as_index=False)['demand'].sum()\r\n",
        "  y = y[y['demand']<3000]\r\n",
        "  if (i < r) & (j < c): \r\n",
        "    ax[i, j].plot(y['period_start_dt'], y['demand'], color = 'turquoise')\r\n",
        "    ax[i, j].set_title(prod)\r\n",
        "    j += 1\r\n",
        "  elif (i < r) & (j == c):\r\n",
        "    j = 0\r\n",
        "    i += 1\r\n",
        "    ax[i, j].plot(y['period_start_dt'], y['demand'], color = 'turquoise')\r\n",
        "    ax[i, j].set_title(prod)\r\n",
        "    j += 1\r\n",
        "  else:\r\n",
        "    print('ERROR')  \r\n",
        " \r\n",
        "plt.show()"
      ],
      "execution_count": 18,
      "outputs": [
        {
          "output_type": "display_data",
          "data": {
            "image/png": "[encoded data removed]",
            "text/plain": [
              "<Figure size 1080x720 with 6 Axes>"
            ]
          },
          "metadata": {
            "tags": [],
            "needs_background": "light"
          }
        }
      ]
    },
    {
      "cell_type": "code",
      "metadata": {
        "colab": {
          "base_uri": "https://localhost:8080/",
          "height": 711
        },
        "id": "ZGXhnniiGHL5",
        "outputId": "1fa91b60-f918-4d2d-fd30-96283e3d7634"
      },
      "source": [
        "r = 2\r\n",
        "c = 3\r\n",
        "pd = data[data['period_start_dt'].dt.year == 2019]\r\n",
        "fig, ax = plt.subplots(r, c, figsize = (c*5, r*5))\r\n",
        "means = {}\r\n",
        "\r\n",
        "i = 0\r\n",
        "j = 0\r\n",
        "\r\n",
        "for prod in prod_list:\r\n",
        "  y= data[(data['product_rk'] == prod) ].groupby('period_start_dt', as_index=False)['demand'].sum()\r\n",
        "  y = y[y['demand']<1000]\r\n",
        "  if (i < r) & (j < c): \r\n",
        "    means[prod] = y['demand'].mean()\r\n",
        "    ax[i, j].plot(y['period_start_dt'], y['demand'], color = 'turquoise')\r\n",
        "    ax[i, j].set_title(prod)\r\n",
        "    j += 1\r\n",
        "  elif (i < r) & (j == c):\r\n",
        "    j = 0\r\n",
        "    i += 1\r\n",
        "    means[prod] = y['demand'].mean()\r\n",
        "    ax[i, j].plot(y['period_start_dt'], y['demand'], color = 'turquoise')\r\n",
        "    ax[i, j].set_title(prod)\r\n",
        "    j += 1\r\n",
        "  else:\r\n",
        "    print('ERROR')  \r\n",
        " \r\n",
        "plt.show()\r\n",
        "means"
      ],
      "execution_count": 19,
      "outputs": [
        {
          "output_type": "display_data",
          "data": {
            "image/png": "[encoded data removed]",
            "text/plain": [
              "<Figure size 1080x720 with 6 Axes>"
            ]
          },
          "metadata": {
            "tags": [],
            "needs_background": "light"
          }
        },
        {
          "output_type": "execute_result",
          "data": {
            "text/plain": [
              "{40369: 307.4636600349653,\n",
              " 40370: 519.247791140845,\n",
              " 40372: 263.80649512666645,\n",
              " 40373: 181.8735214342104,\n",
              " 46272: 248.10640677848093,\n",
              " 96212: 298.6593751653543}"
            ]
          },
          "metadata": {
            "tags": []
          },
          "execution_count": 19
        }
      ]
    },
    {
      "cell_type": "markdown",
      "metadata": {
        "id": "xmpIcfzGFroi"
      },
      "source": [
        "Наблюдаются какие-то совершенно непонятные нули в 2019 году. Скорее всего это ошибки в данных и они будут мешать построению модели, поэтому их нужно заменить. Так как в данных есть выбросы, среднее сильно на них реагирует, поэтому заменим 0 средним значением без учета выбросов."
      ]
    },
    {
      "cell_type": "code",
      "metadata": {
        "colab": {
          "base_uri": "https://localhost:8080/",
          "height": 435
        },
        "id": "G0SCPjZXK5RZ",
        "outputId": "6d60dbd6-c1e4-4613-cdfc-361d3b702d26"
      },
      "source": [
        "for key, value in means.items():\r\n",
        "  data[data['product_rk'] == key]['demand'] = data[data['product_rk'] == key]['demand'].replace(0, value)\r\n",
        "\r\n",
        "data"
      ],
      "execution_count": 20,
      "outputs": [
        {
          "output_type": "execute_result",
          "data": {
            "text/html": [
              "<div>\n",
              "<style scoped>\n",
              "    .dataframe tbody tr th:only-of-type {\n",
              "        vertical-align: middle;\n",
              "    }\n",
              "\n",
              "    .dataframe tbody tr th {\n",
              "        vertical-align: top;\n",
              "    }\n",
              "\n",
              "    .dataframe thead th {\n",
              "        text-align: right;\n",
              "    }\n",
              "</style>\n",
              "<table border=\"1\" class=\"dataframe\">\n",
              "  <thead>\n",
              "    <tr style=\"text-align: right;\">\n",
              "      <th></th>\n",
              "      <th>id</th>\n",
              "      <th>product_rk</th>\n",
              "      <th>store_location_rk</th>\n",
              "      <th>period_start_dt</th>\n",
              "      <th>demand</th>\n",
              "      <th>PROMO1_FLAG</th>\n",
              "      <th>PROMO2_FLAG</th>\n",
              "      <th>PRICE_REGULAR</th>\n",
              "      <th>PRICE_AFTER_DISC</th>\n",
              "      <th>AUTORIZATION_FLAG</th>\n",
              "    </tr>\n",
              "  </thead>\n",
              "  <tbody>\n",
              "    <tr>\n",
              "      <th>0</th>\n",
              "      <td>307.46366</td>\n",
              "      <td>40369</td>\n",
              "      <td>309</td>\n",
              "      <td>2016-12-19</td>\n",
              "      <td>29.0</td>\n",
              "      <td>NaN</td>\n",
              "      <td>NaN</td>\n",
              "      <td>NaN</td>\n",
              "      <td>NaN</td>\n",
              "      <td>NaN</td>\n",
              "    </tr>\n",
              "    <tr>\n",
              "      <th>1</th>\n",
              "      <td>1.00000</td>\n",
              "      <td>40370</td>\n",
              "      <td>309</td>\n",
              "      <td>2016-12-19</td>\n",
              "      <td>64.0</td>\n",
              "      <td>NaN</td>\n",
              "      <td>NaN</td>\n",
              "      <td>NaN</td>\n",
              "      <td>NaN</td>\n",
              "      <td>NaN</td>\n",
              "    </tr>\n",
              "    <tr>\n",
              "      <th>2</th>\n",
              "      <td>2.00000</td>\n",
              "      <td>40372</td>\n",
              "      <td>309</td>\n",
              "      <td>2016-12-19</td>\n",
              "      <td>32.0</td>\n",
              "      <td>NaN</td>\n",
              "      <td>NaN</td>\n",
              "      <td>NaN</td>\n",
              "      <td>NaN</td>\n",
              "      <td>NaN</td>\n",
              "    </tr>\n",
              "    <tr>\n",
              "      <th>3</th>\n",
              "      <td>3.00000</td>\n",
              "      <td>40373</td>\n",
              "      <td>309</td>\n",
              "      <td>2016-12-19</td>\n",
              "      <td>10.0</td>\n",
              "      <td>NaN</td>\n",
              "      <td>NaN</td>\n",
              "      <td>NaN</td>\n",
              "      <td>NaN</td>\n",
              "      <td>NaN</td>\n",
              "    </tr>\n",
              "    <tr>\n",
              "      <th>4</th>\n",
              "      <td>4.00000</td>\n",
              "      <td>46272</td>\n",
              "      <td>309</td>\n",
              "      <td>2016-12-19</td>\n",
              "      <td>15.0</td>\n",
              "      <td>NaN</td>\n",
              "      <td>NaN</td>\n",
              "      <td>NaN</td>\n",
              "      <td>NaN</td>\n",
              "      <td>NaN</td>\n",
              "    </tr>\n",
              "    <tr>\n",
              "      <th>...</th>\n",
              "      <td>...</td>\n",
              "      <td>...</td>\n",
              "      <td>...</td>\n",
              "      <td>...</td>\n",
              "      <td>...</td>\n",
              "      <td>...</td>\n",
              "      <td>...</td>\n",
              "      <td>...</td>\n",
              "      <td>...</td>\n",
              "      <td>...</td>\n",
              "    </tr>\n",
              "    <tr>\n",
              "      <th>35339</th>\n",
              "      <td>35537.00000</td>\n",
              "      <td>40370</td>\n",
              "      <td>1380</td>\n",
              "      <td>2019-12-30</td>\n",
              "      <td>NaN</td>\n",
              "      <td>519.247791</td>\n",
              "      <td>519.247791</td>\n",
              "      <td>1000.00</td>\n",
              "      <td>1000.0</td>\n",
              "      <td>1.0</td>\n",
              "    </tr>\n",
              "    <tr>\n",
              "      <th>35340</th>\n",
              "      <td>35538.00000</td>\n",
              "      <td>40372</td>\n",
              "      <td>1380</td>\n",
              "      <td>2019-12-30</td>\n",
              "      <td>NaN</td>\n",
              "      <td>263.806495</td>\n",
              "      <td>263.806495</td>\n",
              "      <td>2000.00</td>\n",
              "      <td>2000.0</td>\n",
              "      <td>1.0</td>\n",
              "    </tr>\n",
              "    <tr>\n",
              "      <th>35341</th>\n",
              "      <td>35539.00000</td>\n",
              "      <td>40373</td>\n",
              "      <td>1380</td>\n",
              "      <td>2019-12-30</td>\n",
              "      <td>NaN</td>\n",
              "      <td>181.873521</td>\n",
              "      <td>181.873521</td>\n",
              "      <td>3000.00</td>\n",
              "      <td>3000.0</td>\n",
              "      <td>1.0</td>\n",
              "    </tr>\n",
              "    <tr>\n",
              "      <th>35342</th>\n",
              "      <td>35540.00000</td>\n",
              "      <td>46272</td>\n",
              "      <td>1380</td>\n",
              "      <td>2019-12-30</td>\n",
              "      <td>NaN</td>\n",
              "      <td>1.000000</td>\n",
              "      <td>248.106407</td>\n",
              "      <td>284.29</td>\n",
              "      <td>199.0</td>\n",
              "      <td>1.0</td>\n",
              "    </tr>\n",
              "    <tr>\n",
              "      <th>35343</th>\n",
              "      <td>35541.00000</td>\n",
              "      <td>96212</td>\n",
              "      <td>1380</td>\n",
              "      <td>2019-12-30</td>\n",
              "      <td>NaN</td>\n",
              "      <td>1.000000</td>\n",
              "      <td>298.659375</td>\n",
              "      <td>141.43</td>\n",
              "      <td>99.0</td>\n",
              "      <td>1.0</td>\n",
              "    </tr>\n",
              "  </tbody>\n",
              "</table>\n",
              "<p>35344 rows × 10 columns</p>\n",
              "</div>"
            ],
            "text/plain": [
              "                id  product_rk  ...  PRICE_AFTER_DISC AUTORIZATION_FLAG\n",
              "0        307.46366       40369  ...               NaN               NaN\n",
              "1          1.00000       40370  ...               NaN               NaN\n",
              "2          2.00000       40372  ...               NaN               NaN\n",
              "3          3.00000       40373  ...               NaN               NaN\n",
              "4          4.00000       46272  ...               NaN               NaN\n",
              "...            ...         ...  ...               ...               ...\n",
              "35339  35537.00000       40370  ...            1000.0               1.0\n",
              "35340  35538.00000       40372  ...            2000.0               1.0\n",
              "35341  35539.00000       40373  ...            3000.0               1.0\n",
              "35342  35540.00000       46272  ...             199.0               1.0\n",
              "35343  35541.00000       96212  ...              99.0               1.0\n",
              "\n",
              "[35344 rows x 10 columns]"
            ]
          },
          "metadata": {
            "tags": []
          },
          "execution_count": 20
        }
      ]
    },
    {
      "cell_type": "markdown",
      "metadata": {
        "id": "sgRDxd6mO1Fi"
      },
      "source": [
        "Посмотрим, как изменилась картина по нулевым значениям спроса:"
      ]
    },
    {
      "cell_type": "code",
      "metadata": {
        "id": "yOARKmISO9Yg",
        "outputId": "aa7cf2d9-c7ae-4643-e38c-2b54710a397c",
        "colab": {
          "base_uri": "https://localhost:8080/",
          "height": 386
        }
      },
      "source": [
        "columns = [\"UNIQUE\", 'PERCENT_UNIQUE', 'ZEROS', 'PERCENT_ZEROS', 'NANS', 'PERCENT_NANS', 'DATA_TYPE']\r\n",
        "#dt = pd.DataFrame(index=data.columns, columns=columns)\r\n",
        "\r\n",
        "for col in data.columns:\r\n",
        "  dt.loc[col,\"UNIQUE\"] = len(data[col].unique())\r\n",
        "  dt.loc[col,\"PERCENT_UNIQUE\"] = dt.loc[col,\"UNIQUE\"]/len(data[col])*100\r\n",
        "  dt.loc[col,\"NANS\"] = np.sum(data[col].isnull())\r\n",
        "  dt.loc[col,\"PERCENT_NANS\"] = dt.loc[col,\"NANS\"]/len(data[col])*100\r\n",
        "  dt.loc[col,\"ZEROS\"] = (data[col] == 0).sum()\r\n",
        "  dt.loc[col,\"PERCENT_ZEROS\"] = dt.loc[col,\"ZEROS\"]/len(data[col])*100\r\n",
        "  dt[\"DATA_TYPE\"] = data.dtypes   \r\n",
        "\r\n",
        "dt"
      ],
      "execution_count": 22,
      "outputs": [
        {
          "output_type": "execute_result",
          "data": {
            "text/html": [
              "<div>\n",
              "<style scoped>\n",
              "    .dataframe tbody tr th:only-of-type {\n",
              "        vertical-align: middle;\n",
              "    }\n",
              "\n",
              "    .dataframe tbody tr th {\n",
              "        vertical-align: top;\n",
              "    }\n",
              "\n",
              "    .dataframe thead th {\n",
              "        text-align: right;\n",
              "    }\n",
              "</style>\n",
              "<table border=\"1\" class=\"dataframe\">\n",
              "  <thead>\n",
              "    <tr style=\"text-align: right;\">\n",
              "      <th></th>\n",
              "      <th>UNIQUE</th>\n",
              "      <th>PERCENT_UNIQUE</th>\n",
              "      <th>ZEROS</th>\n",
              "      <th>PERCENT_ZEROS</th>\n",
              "      <th>NANS</th>\n",
              "      <th>PERCENT_NANS</th>\n",
              "      <th>DATA_TYPE</th>\n",
              "    </tr>\n",
              "  </thead>\n",
              "  <tbody>\n",
              "    <tr>\n",
              "      <th>id</th>\n",
              "      <td>35344</td>\n",
              "      <td>100</td>\n",
              "      <td>0</td>\n",
              "      <td>0</td>\n",
              "      <td>0</td>\n",
              "      <td>0</td>\n",
              "      <td>float64</td>\n",
              "    </tr>\n",
              "    <tr>\n",
              "      <th>product_rk</th>\n",
              "      <td>6</td>\n",
              "      <td>0.016976</td>\n",
              "      <td>0</td>\n",
              "      <td>0</td>\n",
              "      <td>0</td>\n",
              "      <td>0</td>\n",
              "      <td>int64</td>\n",
              "    </tr>\n",
              "    <tr>\n",
              "      <th>store_location_rk</th>\n",
              "      <td>41</td>\n",
              "      <td>0.116003</td>\n",
              "      <td>0</td>\n",
              "      <td>0</td>\n",
              "      <td>0</td>\n",
              "      <td>0</td>\n",
              "      <td>int64</td>\n",
              "    </tr>\n",
              "    <tr>\n",
              "      <th>period_start_dt</th>\n",
              "      <td>159</td>\n",
              "      <td>0.449864</td>\n",
              "      <td>0</td>\n",
              "      <td>0</td>\n",
              "      <td>0</td>\n",
              "      <td>0</td>\n",
              "      <td>datetime64[ns]</td>\n",
              "    </tr>\n",
              "    <tr>\n",
              "      <th>demand</th>\n",
              "      <td>1812</td>\n",
              "      <td>5.12675</td>\n",
              "      <td>0</td>\n",
              "      <td>0</td>\n",
              "      <td>1200</td>\n",
              "      <td>3.3952</td>\n",
              "      <td>float64</td>\n",
              "    </tr>\n",
              "    <tr>\n",
              "      <th>PROMO1_FLAG</th>\n",
              "      <td>9</td>\n",
              "      <td>0.025464</td>\n",
              "      <td>0</td>\n",
              "      <td>0</td>\n",
              "      <td>185</td>\n",
              "      <td>0.523427</td>\n",
              "      <td>float64</td>\n",
              "    </tr>\n",
              "    <tr>\n",
              "      <th>PROMO2_FLAG</th>\n",
              "      <td>7</td>\n",
              "      <td>0.0198053</td>\n",
              "      <td>0</td>\n",
              "      <td>0</td>\n",
              "      <td>185</td>\n",
              "      <td>0.523427</td>\n",
              "      <td>float64</td>\n",
              "    </tr>\n",
              "    <tr>\n",
              "      <th>PRICE_REGULAR</th>\n",
              "      <td>230</td>\n",
              "      <td>0.650747</td>\n",
              "      <td>0</td>\n",
              "      <td>0</td>\n",
              "      <td>1127</td>\n",
              "      <td>3.18866</td>\n",
              "      <td>float64</td>\n",
              "    </tr>\n",
              "    <tr>\n",
              "      <th>PRICE_AFTER_DISC</th>\n",
              "      <td>1037</td>\n",
              "      <td>2.93402</td>\n",
              "      <td>0</td>\n",
              "      <td>0</td>\n",
              "      <td>1132</td>\n",
              "      <td>3.20281</td>\n",
              "      <td>float64</td>\n",
              "    </tr>\n",
              "    <tr>\n",
              "      <th>NUM_CONSULTANT</th>\n",
              "      <td>2</td>\n",
              "      <td>0.00565867</td>\n",
              "      <td>35159</td>\n",
              "      <td>99.4766</td>\n",
              "      <td>185</td>\n",
              "      <td>0.523427</td>\n",
              "      <td>NaN</td>\n",
              "    </tr>\n",
              "    <tr>\n",
              "      <th>AUTORIZATION_FLAG</th>\n",
              "      <td>8</td>\n",
              "      <td>0.0226347</td>\n",
              "      <td>0</td>\n",
              "      <td>0</td>\n",
              "      <td>185</td>\n",
              "      <td>0.523427</td>\n",
              "      <td>float64</td>\n",
              "    </tr>\n",
              "  </tbody>\n",
              "</table>\n",
              "</div>"
            ],
            "text/plain": [
              "                  UNIQUE PERCENT_UNIQUE  ... PERCENT_NANS       DATA_TYPE\n",
              "id                 35344            100  ...            0         float64\n",
              "product_rk             6       0.016976  ...            0           int64\n",
              "store_location_rk     41       0.116003  ...            0           int64\n",
              "period_start_dt      159       0.449864  ...            0  datetime64[ns]\n",
              "demand              1812        5.12675  ...       3.3952         float64\n",
              "PROMO1_FLAG            9       0.025464  ...     0.523427         float64\n",
              "PROMO2_FLAG            7      0.0198053  ...     0.523427         float64\n",
              "PRICE_REGULAR        230       0.650747  ...      3.18866         float64\n",
              "PRICE_AFTER_DISC    1037        2.93402  ...      3.20281         float64\n",
              "NUM_CONSULTANT         2     0.00565867  ...     0.523427             NaN\n",
              "AUTORIZATION_FLAG      8      0.0226347  ...     0.523427         float64\n",
              "\n",
              "[11 rows x 7 columns]"
            ]
          },
          "metadata": {
            "tags": []
          },
          "execution_count": 22
        }
      ]
    },
    {
      "cell_type": "markdown",
      "metadata": {
        "id": "f6SrfsEiPgIa"
      },
      "source": [
        "Все, в перепенной demand не осталось странных нулевых значений, а пропущенные значения в нем, как выяснилось ранее - это как раз то, что нам нужно предсказать.\r\n",
        "\r\n",
        "Далее нужно разобраться с пропущенными значениями переменной PROCE_REGULAR. Их хоть и не много в процентном соотношении, однако они могут быть в декабре, а это значимые наблюдения, если наблюдается цикличность."
      ]
    },
    {
      "cell_type": "code",
      "metadata": {
        "colab": {
          "base_uri": "https://localhost:8080/",
          "height": 435
        },
        "id": "wEfdgLPlY1Ep",
        "outputId": "82242110-2880-4141-827b-82adace2a72d"
      },
      "source": [
        "data[data['PRICE_REGULAR'].isnull() ]\r\n"
      ],
      "execution_count": 29,
      "outputs": [
        {
          "output_type": "execute_result",
          "data": {
            "text/html": [
              "<div>\n",
              "<style scoped>\n",
              "    .dataframe tbody tr th:only-of-type {\n",
              "        vertical-align: middle;\n",
              "    }\n",
              "\n",
              "    .dataframe tbody tr th {\n",
              "        vertical-align: top;\n",
              "    }\n",
              "\n",
              "    .dataframe thead th {\n",
              "        text-align: right;\n",
              "    }\n",
              "</style>\n",
              "<table border=\"1\" class=\"dataframe\">\n",
              "  <thead>\n",
              "    <tr style=\"text-align: right;\">\n",
              "      <th></th>\n",
              "      <th>id</th>\n",
              "      <th>product_rk</th>\n",
              "      <th>store_location_rk</th>\n",
              "      <th>period_start_dt</th>\n",
              "      <th>demand</th>\n",
              "      <th>PROMO1_FLAG</th>\n",
              "      <th>PROMO2_FLAG</th>\n",
              "      <th>PRICE_REGULAR</th>\n",
              "      <th>PRICE_AFTER_DISC</th>\n",
              "      <th>AUTORIZATION_FLAG</th>\n",
              "    </tr>\n",
              "  </thead>\n",
              "  <tbody>\n",
              "    <tr>\n",
              "      <th>0</th>\n",
              "      <td>307.46366</td>\n",
              "      <td>40369</td>\n",
              "      <td>309</td>\n",
              "      <td>2016-12-19</td>\n",
              "      <td>29.000000</td>\n",
              "      <td>NaN</td>\n",
              "      <td>NaN</td>\n",
              "      <td>NaN</td>\n",
              "      <td>NaN</td>\n",
              "      <td>NaN</td>\n",
              "    </tr>\n",
              "    <tr>\n",
              "      <th>1</th>\n",
              "      <td>1.00000</td>\n",
              "      <td>40370</td>\n",
              "      <td>309</td>\n",
              "      <td>2016-12-19</td>\n",
              "      <td>64.000000</td>\n",
              "      <td>NaN</td>\n",
              "      <td>NaN</td>\n",
              "      <td>NaN</td>\n",
              "      <td>NaN</td>\n",
              "      <td>NaN</td>\n",
              "    </tr>\n",
              "    <tr>\n",
              "      <th>2</th>\n",
              "      <td>2.00000</td>\n",
              "      <td>40372</td>\n",
              "      <td>309</td>\n",
              "      <td>2016-12-19</td>\n",
              "      <td>32.000000</td>\n",
              "      <td>NaN</td>\n",
              "      <td>NaN</td>\n",
              "      <td>NaN</td>\n",
              "      <td>NaN</td>\n",
              "      <td>NaN</td>\n",
              "    </tr>\n",
              "    <tr>\n",
              "      <th>3</th>\n",
              "      <td>3.00000</td>\n",
              "      <td>40373</td>\n",
              "      <td>309</td>\n",
              "      <td>2016-12-19</td>\n",
              "      <td>10.000000</td>\n",
              "      <td>NaN</td>\n",
              "      <td>NaN</td>\n",
              "      <td>NaN</td>\n",
              "      <td>NaN</td>\n",
              "      <td>NaN</td>\n",
              "    </tr>\n",
              "    <tr>\n",
              "      <th>4</th>\n",
              "      <td>4.00000</td>\n",
              "      <td>46272</td>\n",
              "      <td>309</td>\n",
              "      <td>2016-12-19</td>\n",
              "      <td>15.000000</td>\n",
              "      <td>NaN</td>\n",
              "      <td>NaN</td>\n",
              "      <td>NaN</td>\n",
              "      <td>NaN</td>\n",
              "      <td>NaN</td>\n",
              "    </tr>\n",
              "    <tr>\n",
              "      <th>...</th>\n",
              "      <td>...</td>\n",
              "      <td>...</td>\n",
              "      <td>...</td>\n",
              "      <td>...</td>\n",
              "      <td>...</td>\n",
              "      <td>...</td>\n",
              "      <td>...</td>\n",
              "      <td>...</td>\n",
              "      <td>...</td>\n",
              "      <td>...</td>\n",
              "    </tr>\n",
              "    <tr>\n",
              "      <th>30477</th>\n",
              "      <td>30640.00000</td>\n",
              "      <td>40373</td>\n",
              "      <td>1281</td>\n",
              "      <td>2016-12-19</td>\n",
              "      <td>46.000000</td>\n",
              "      <td>NaN</td>\n",
              "      <td>NaN</td>\n",
              "      <td>NaN</td>\n",
              "      <td>NaN</td>\n",
              "      <td>NaN</td>\n",
              "    </tr>\n",
              "    <tr>\n",
              "      <th>30478</th>\n",
              "      <td>30641.00000</td>\n",
              "      <td>46272</td>\n",
              "      <td>1281</td>\n",
              "      <td>2016-12-19</td>\n",
              "      <td>55.000000</td>\n",
              "      <td>NaN</td>\n",
              "      <td>NaN</td>\n",
              "      <td>NaN</td>\n",
              "      <td>NaN</td>\n",
              "      <td>NaN</td>\n",
              "    </tr>\n",
              "    <tr>\n",
              "      <th>35019</th>\n",
              "      <td>35217.00000</td>\n",
              "      <td>40369</td>\n",
              "      <td>1380</td>\n",
              "      <td>2018-12-17</td>\n",
              "      <td>307.463660</td>\n",
              "      <td>307.463660</td>\n",
              "      <td>307.463660</td>\n",
              "      <td>NaN</td>\n",
              "      <td>NaN</td>\n",
              "      <td>307.463660</td>\n",
              "    </tr>\n",
              "    <tr>\n",
              "      <th>35021</th>\n",
              "      <td>35219.00000</td>\n",
              "      <td>40372</td>\n",
              "      <td>1380</td>\n",
              "      <td>2018-12-17</td>\n",
              "      <td>263.806495</td>\n",
              "      <td>263.806495</td>\n",
              "      <td>263.806495</td>\n",
              "      <td>NaN</td>\n",
              "      <td>NaN</td>\n",
              "      <td>263.806495</td>\n",
              "    </tr>\n",
              "    <tr>\n",
              "      <th>35022</th>\n",
              "      <td>35220.00000</td>\n",
              "      <td>40373</td>\n",
              "      <td>1380</td>\n",
              "      <td>2018-12-17</td>\n",
              "      <td>181.873521</td>\n",
              "      <td>181.873521</td>\n",
              "      <td>181.873521</td>\n",
              "      <td>NaN</td>\n",
              "      <td>NaN</td>\n",
              "      <td>181.873521</td>\n",
              "    </tr>\n",
              "  </tbody>\n",
              "</table>\n",
              "<p>1127 rows × 10 columns</p>\n",
              "</div>"
            ],
            "text/plain": [
              "                id  product_rk  ...  PRICE_AFTER_DISC AUTORIZATION_FLAG\n",
              "0        307.46366       40369  ...               NaN               NaN\n",
              "1          1.00000       40370  ...               NaN               NaN\n",
              "2          2.00000       40372  ...               NaN               NaN\n",
              "3          3.00000       40373  ...               NaN               NaN\n",
              "4          4.00000       46272  ...               NaN               NaN\n",
              "...            ...         ...  ...               ...               ...\n",
              "30477  30640.00000       40373  ...               NaN               NaN\n",
              "30478  30641.00000       46272  ...               NaN               NaN\n",
              "35019  35217.00000       40369  ...               NaN        307.463660\n",
              "35021  35219.00000       40372  ...               NaN        263.806495\n",
              "35022  35220.00000       40373  ...               NaN        181.873521\n",
              "\n",
              "[1127 rows x 10 columns]"
            ]
          },
          "metadata": {
            "tags": []
          },
          "execution_count": 29
        }
      ]
    },
    {
      "cell_type": "markdown",
      "metadata": {
        "id": "cnOjAx6FRHt7"
      },
      "source": [
        "Так оно и есть, пропуски выпали на декабрь 16 года. "
      ]
    },
    {
      "cell_type": "code",
      "metadata": {
        "id": "XWO7rhOXTlFw"
      },
      "source": [
        "for key, value in means.items():\r\n",
        "  data[data['product_rk'] == key] \r\n",
        "\r\n",
        "data"
      ],
      "execution_count": null,
      "outputs": []
    },
    {
      "cell_type": "code",
      "metadata": {
        "id": "3wEQZ7h0REVb"
      },
      "source": [
        "data[ (data['PRICE_REGULAR'].isnull()) & (data['period_start_dt'].dt.year == 2017) & (data['period_start_dt'].dt.month == 1)  ].head(20)"
      ],
      "execution_count": null,
      "outputs": []
    },
    {
      "cell_type": "code",
      "metadata": {
        "id": "klQhvrNXfS0f",
        "outputId": "f3a0d945-fa35-4c38-ca11-de9952ad91d1",
        "colab": {
          "base_uri": "https://localhost:8080/",
          "height": 202
        }
      },
      "source": [
        "data.head()"
      ],
      "execution_count": 27,
      "outputs": [
        {
          "output_type": "execute_result",
          "data": {
            "text/html": [
              "<div>\n",
              "<style scoped>\n",
              "    .dataframe tbody tr th:only-of-type {\n",
              "        vertical-align: middle;\n",
              "    }\n",
              "\n",
              "    .dataframe tbody tr th {\n",
              "        vertical-align: top;\n",
              "    }\n",
              "\n",
              "    .dataframe thead th {\n",
              "        text-align: right;\n",
              "    }\n",
              "</style>\n",
              "<table border=\"1\" class=\"dataframe\">\n",
              "  <thead>\n",
              "    <tr style=\"text-align: right;\">\n",
              "      <th></th>\n",
              "      <th>id</th>\n",
              "      <th>product_rk</th>\n",
              "      <th>store_location_rk</th>\n",
              "      <th>period_start_dt</th>\n",
              "      <th>demand</th>\n",
              "      <th>PROMO1_FLAG</th>\n",
              "      <th>PROMO2_FLAG</th>\n",
              "      <th>PRICE_REGULAR</th>\n",
              "      <th>PRICE_AFTER_DISC</th>\n",
              "      <th>AUTORIZATION_FLAG</th>\n",
              "    </tr>\n",
              "  </thead>\n",
              "  <tbody>\n",
              "    <tr>\n",
              "      <th>0</th>\n",
              "      <td>307.46366</td>\n",
              "      <td>40369</td>\n",
              "      <td>309</td>\n",
              "      <td>2016-12-19</td>\n",
              "      <td>29.0</td>\n",
              "      <td>NaN</td>\n",
              "      <td>NaN</td>\n",
              "      <td>NaN</td>\n",
              "      <td>NaN</td>\n",
              "      <td>NaN</td>\n",
              "    </tr>\n",
              "    <tr>\n",
              "      <th>1</th>\n",
              "      <td>1.00000</td>\n",
              "      <td>40370</td>\n",
              "      <td>309</td>\n",
              "      <td>2016-12-19</td>\n",
              "      <td>64.0</td>\n",
              "      <td>NaN</td>\n",
              "      <td>NaN</td>\n",
              "      <td>NaN</td>\n",
              "      <td>NaN</td>\n",
              "      <td>NaN</td>\n",
              "    </tr>\n",
              "    <tr>\n",
              "      <th>2</th>\n",
              "      <td>2.00000</td>\n",
              "      <td>40372</td>\n",
              "      <td>309</td>\n",
              "      <td>2016-12-19</td>\n",
              "      <td>32.0</td>\n",
              "      <td>NaN</td>\n",
              "      <td>NaN</td>\n",
              "      <td>NaN</td>\n",
              "      <td>NaN</td>\n",
              "      <td>NaN</td>\n",
              "    </tr>\n",
              "    <tr>\n",
              "      <th>3</th>\n",
              "      <td>3.00000</td>\n",
              "      <td>40373</td>\n",
              "      <td>309</td>\n",
              "      <td>2016-12-19</td>\n",
              "      <td>10.0</td>\n",
              "      <td>NaN</td>\n",
              "      <td>NaN</td>\n",
              "      <td>NaN</td>\n",
              "      <td>NaN</td>\n",
              "      <td>NaN</td>\n",
              "    </tr>\n",
              "    <tr>\n",
              "      <th>4</th>\n",
              "      <td>4.00000</td>\n",
              "      <td>46272</td>\n",
              "      <td>309</td>\n",
              "      <td>2016-12-19</td>\n",
              "      <td>15.0</td>\n",
              "      <td>NaN</td>\n",
              "      <td>NaN</td>\n",
              "      <td>NaN</td>\n",
              "      <td>NaN</td>\n",
              "      <td>NaN</td>\n",
              "    </tr>\n",
              "  </tbody>\n",
              "</table>\n",
              "</div>"
            ],
            "text/plain": [
              "          id  product_rk  ...  PRICE_AFTER_DISC AUTORIZATION_FLAG\n",
              "0  307.46366       40369  ...               NaN               NaN\n",
              "1    1.00000       40370  ...               NaN               NaN\n",
              "2    2.00000       40372  ...               NaN               NaN\n",
              "3    3.00000       40373  ...               NaN               NaN\n",
              "4    4.00000       46272  ...               NaN               NaN\n",
              "\n",
              "[5 rows x 10 columns]"
            ]
          },
          "metadata": {
            "tags": []
          },
          "execution_count": 27
        }
      ]
    },
    {
      "cell_type": "code",
      "metadata": {
        "id": "a34Kcb0dOebW"
      },
      "source": [
        ""
      ],
      "execution_count": null,
      "outputs": []
    }
  ]
}