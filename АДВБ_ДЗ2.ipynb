{
  "nbformat": 4,
  "nbformat_minor": 0,
  "metadata": {
    "colab": {
      "name": "Untitled3.ipynb",
      "provenance": [],
      "authorship_tag": "ABX9TyOdia/TzMp/dzIBgr7vBb/V",
      "include_colab_link": true
    },
    "kernelspec": {
      "name": "python3",
      "display_name": "Python 3"
    }
  },
  "cells": [
    {
      "cell_type": "markdown",
      "metadata": {
        "id": "view-in-github",
        "colab_type": "text"
      },
      "source": [
        "<a href=\"https://colab.research.google.com/github/Anna172/ML/blob/master/%D0%90%D0%94%D0%92%D0%91_%D0%94%D0%972.ipynb\" target=\"_parent\"><img src=\"https://colab.research.google.com/assets/colab-badge.svg\" alt=\"Open In Colab\"/></a>"
      ]
    },
    {
      "cell_type": "code",
      "metadata": {
        "id": "_29ADA5-FGc8"
      },
      "source": [
        "import numpy as np\r\n",
        "import pandas as pd\r\n",
        "import math\r\n",
        "import seaborn as sns\r\n",
        "import matplotlib.pyplot as plt\r\n",
        "from sklearn.preprocessing import LabelEncoder\r\n",
        "from sklearn.preprocessing import OneHotEncoder"
      ],
      "execution_count": 1,
      "outputs": []
    },
    {
      "cell_type": "code",
      "metadata": {
        "colab": {
          "base_uri": "https://localhost:8080/",
          "height": 239
        },
        "id": "wwXTHk5PFRkk",
        "outputId": "4161e324-ea4a-4d26-bbbd-f7fa68fe6cec"
      },
      "source": [
        "data_train = pd.read_csv(\"train.csv\", delimiter=',',  parse_dates=['period_start_dt'])\r\n",
        "data_train.tail()"
      ],
      "execution_count": 6,
      "outputs": [
        {
          "output_type": "execute_result",
          "data": {
            "text/html": [
              "<div>\n",
              "<style scoped>\n",
              "    .dataframe tbody tr th:only-of-type {\n",
              "        vertical-align: middle;\n",
              "    }\n",
              "\n",
              "    .dataframe tbody tr th {\n",
              "        vertical-align: top;\n",
              "    }\n",
              "\n",
              "    .dataframe thead th {\n",
              "        text-align: right;\n",
              "    }\n",
              "</style>\n",
              "<table border=\"1\" class=\"dataframe\">\n",
              "  <thead>\n",
              "    <tr style=\"text-align: right;\">\n",
              "      <th></th>\n",
              "      <th>Unnamed: 0</th>\n",
              "      <th>product_rk</th>\n",
              "      <th>store_location_rk</th>\n",
              "      <th>period_start_dt</th>\n",
              "      <th>demand</th>\n",
              "      <th>PROMO1_FLAG</th>\n",
              "      <th>PROMO2_FLAG</th>\n",
              "      <th>PRICE_REGULAR</th>\n",
              "      <th>PRICE_AFTER_DISC</th>\n",
              "      <th>NUM_CONSULTANT</th>\n",
              "      <th>AUTORIZATION_FLAG</th>\n",
              "    </tr>\n",
              "  </thead>\n",
              "  <tbody>\n",
              "    <tr>\n",
              "      <th>35339</th>\n",
              "      <td>35537</td>\n",
              "      <td>40370</td>\n",
              "      <td>1380</td>\n",
              "      <td>2019-12-30</td>\n",
              "      <td>NaN</td>\n",
              "      <td>0.0</td>\n",
              "      <td>0.0</td>\n",
              "      <td>1000.00</td>\n",
              "      <td>1000.0</td>\n",
              "      <td>0.0</td>\n",
              "      <td>1.0</td>\n",
              "    </tr>\n",
              "    <tr>\n",
              "      <th>35340</th>\n",
              "      <td>35538</td>\n",
              "      <td>40372</td>\n",
              "      <td>1380</td>\n",
              "      <td>2019-12-30</td>\n",
              "      <td>NaN</td>\n",
              "      <td>0.0</td>\n",
              "      <td>0.0</td>\n",
              "      <td>2000.00</td>\n",
              "      <td>2000.0</td>\n",
              "      <td>0.0</td>\n",
              "      <td>1.0</td>\n",
              "    </tr>\n",
              "    <tr>\n",
              "      <th>35341</th>\n",
              "      <td>35539</td>\n",
              "      <td>40373</td>\n",
              "      <td>1380</td>\n",
              "      <td>2019-12-30</td>\n",
              "      <td>NaN</td>\n",
              "      <td>0.0</td>\n",
              "      <td>0.0</td>\n",
              "      <td>3000.00</td>\n",
              "      <td>3000.0</td>\n",
              "      <td>0.0</td>\n",
              "      <td>1.0</td>\n",
              "    </tr>\n",
              "    <tr>\n",
              "      <th>35342</th>\n",
              "      <td>35540</td>\n",
              "      <td>46272</td>\n",
              "      <td>1380</td>\n",
              "      <td>2019-12-30</td>\n",
              "      <td>NaN</td>\n",
              "      <td>1.0</td>\n",
              "      <td>0.0</td>\n",
              "      <td>284.29</td>\n",
              "      <td>199.0</td>\n",
              "      <td>0.0</td>\n",
              "      <td>1.0</td>\n",
              "    </tr>\n",
              "    <tr>\n",
              "      <th>35343</th>\n",
              "      <td>35541</td>\n",
              "      <td>96212</td>\n",
              "      <td>1380</td>\n",
              "      <td>2019-12-30</td>\n",
              "      <td>NaN</td>\n",
              "      <td>1.0</td>\n",
              "      <td>0.0</td>\n",
              "      <td>141.43</td>\n",
              "      <td>99.0</td>\n",
              "      <td>0.0</td>\n",
              "      <td>1.0</td>\n",
              "    </tr>\n",
              "  </tbody>\n",
              "</table>\n",
              "</div>"
            ],
            "text/plain": [
              "       Unnamed: 0  product_rk  ...  NUM_CONSULTANT AUTORIZATION_FLAG\n",
              "35339       35537       40370  ...             0.0               1.0\n",
              "35340       35538       40372  ...             0.0               1.0\n",
              "35341       35539       40373  ...             0.0               1.0\n",
              "35342       35540       46272  ...             0.0               1.0\n",
              "35343       35541       96212  ...             0.0               1.0\n",
              "\n",
              "[5 rows x 11 columns]"
            ]
          },
          "metadata": {
            "tags": []
          },
          "execution_count": 6
        }
      ]
    },
    {
      "cell_type": "code",
      "metadata": {
        "colab": {
          "base_uri": "https://localhost:8080/"
        },
        "id": "w8Yfg_pdFXMA",
        "outputId": "9b41af2d-1653-42dd-e548-35c9f8996221"
      },
      "source": [
        "print(data_train[data_train['period_start_dt'].dt.year == 2020].shape[0])\r\n",
        "print(data_train[ (data_train['period_start_dt'].dt.year == 2019) & (data_train['period_start_dt'].dt.month == 12) ].shape[0])\r\n",
        "data_train.shape"
      ],
      "execution_count": 8,
      "outputs": [
        {
          "output_type": "stream",
          "text": [
            "0\n",
            "1200\n"
          ],
          "name": "stdout"
        },
        {
          "output_type": "execute_result",
          "data": {
            "text/plain": [
              "(35344, 11)"
            ]
          },
          "metadata": {
            "tags": []
          },
          "execution_count": 8
        }
      ]
    },
    {
      "cell_type": "code",
      "metadata": {
        "colab": {
          "base_uri": "https://localhost:8080/",
          "height": 202
        },
        "id": "eDle3DJpGO0b",
        "outputId": "94e58d95-c25f-4f71-8cc3-441c66456bd6"
      },
      "source": [
        "data_test = pd.read_csv(\"test.csv\", delimiter=',',  parse_dates=['period_start_dt'])\r\n",
        "data_test.tail()"
      ],
      "execution_count": 20,
      "outputs": [
        {
          "output_type": "execute_result",
          "data": {
            "text/html": [
              "<div>\n",
              "<style scoped>\n",
              "    .dataframe tbody tr th:only-of-type {\n",
              "        vertical-align: middle;\n",
              "    }\n",
              "\n",
              "    .dataframe tbody tr th {\n",
              "        vertical-align: top;\n",
              "    }\n",
              "\n",
              "    .dataframe thead th {\n",
              "        text-align: right;\n",
              "    }\n",
              "</style>\n",
              "<table border=\"1\" class=\"dataframe\">\n",
              "  <thead>\n",
              "    <tr style=\"text-align: right;\">\n",
              "      <th></th>\n",
              "      <th>id</th>\n",
              "      <th>product_rk</th>\n",
              "      <th>store_location_rk</th>\n",
              "      <th>period_start_dt</th>\n",
              "      <th>demand</th>\n",
              "    </tr>\n",
              "  </thead>\n",
              "  <tbody>\n",
              "    <tr>\n",
              "      <th>1399</th>\n",
              "      <td>35543</td>\n",
              "      <td>40370</td>\n",
              "      <td>1380</td>\n",
              "      <td>2020-06-01</td>\n",
              "      <td>NaN</td>\n",
              "    </tr>\n",
              "    <tr>\n",
              "      <th>1400</th>\n",
              "      <td>35544</td>\n",
              "      <td>40372</td>\n",
              "      <td>1380</td>\n",
              "      <td>2020-06-01</td>\n",
              "      <td>NaN</td>\n",
              "    </tr>\n",
              "    <tr>\n",
              "      <th>1401</th>\n",
              "      <td>35545</td>\n",
              "      <td>40373</td>\n",
              "      <td>1380</td>\n",
              "      <td>2020-06-01</td>\n",
              "      <td>NaN</td>\n",
              "    </tr>\n",
              "    <tr>\n",
              "      <th>1402</th>\n",
              "      <td>35546</td>\n",
              "      <td>46272</td>\n",
              "      <td>1380</td>\n",
              "      <td>2020-06-01</td>\n",
              "      <td>NaN</td>\n",
              "    </tr>\n",
              "    <tr>\n",
              "      <th>1403</th>\n",
              "      <td>35547</td>\n",
              "      <td>96212</td>\n",
              "      <td>1380</td>\n",
              "      <td>2020-06-01</td>\n",
              "      <td>NaN</td>\n",
              "    </tr>\n",
              "  </tbody>\n",
              "</table>\n",
              "</div>"
            ],
            "text/plain": [
              "         id  product_rk  store_location_rk period_start_dt  demand\n",
              "1399  35543       40370               1380      2020-06-01     NaN\n",
              "1400  35544       40372               1380      2020-06-01     NaN\n",
              "1401  35545       40373               1380      2020-06-01     NaN\n",
              "1402  35546       46272               1380      2020-06-01     NaN\n",
              "1403  35547       96212               1380      2020-06-01     NaN"
            ]
          },
          "metadata": {
            "tags": []
          },
          "execution_count": 20
        }
      ]
    },
    {
      "cell_type": "code",
      "metadata": {
        "colab": {
          "base_uri": "https://localhost:8080/"
        },
        "id": "cvFmsQqjGfl3",
        "outputId": "89bd8863-29b1-48dc-d609-bd27d508a308"
      },
      "source": [
        "print(data_test[data_test['period_start_dt'].dt.year == 2020].shape[0])\r\n",
        "print(data_test[ (data_test['period_start_dt'].dt.year == 2019) & (data_test['period_start_dt'].dt.month == 12) ].shape[0])\r\n",
        "data_test.shape"
      ],
      "execution_count": 18,
      "outputs": [
        {
          "output_type": "stream",
          "text": [
            "204\n",
            "720\n"
          ],
          "name": "stdout"
        },
        {
          "output_type": "execute_result",
          "data": {
            "text/plain": [
              "(1404, 5)"
            ]
          },
          "metadata": {
            "tags": []
          },
          "execution_count": 18
        }
      ]
    },
    {
      "cell_type": "markdown",
      "metadata": {
        "id": "HpdYvr-DHe2Z"
      },
      "source": [
        "В тренировочном сете нет данных по 2020 году и в задании сказано, что нужно спрогнозировать только на декабрь 2019, поэтому удалим из тестового набора  данных все записи 20 года. \r\n",
        "\r\n",
        "Согласно заданию, нужно спрогнозировать только декабрь 2019 года, а в тестовом наборе данных 480 наблюдений не декабрь 2019 года, их тоже можно удалить.\r\n",
        "\r\n",
        "В тренировочном наборе данных есть столбец без описания, возможно, это id. Проверим это предположение."
      ]
    },
    {
      "cell_type": "code",
      "metadata": {
        "colab": {
          "base_uri": "https://localhost:8080/"
        },
        "id": "PE44-EIeHao1",
        "outputId": "d69606ff-2d28-42b5-af6f-0c516b90bdf8"
      },
      "source": [
        "data_test = data_test[ (data_test['period_start_dt'].dt.year == 2019) & (data_test['period_start_dt'].dt.month == 12) ]\r\n",
        "data_test.shape"
      ],
      "execution_count": 21,
      "outputs": [
        {
          "output_type": "execute_result",
          "data": {
            "text/plain": [
              "(720, 5)"
            ]
          },
          "metadata": {
            "tags": []
          },
          "execution_count": 21
        }
      ]
    },
    {
      "cell_type": "code",
      "metadata": {
        "colab": {
          "base_uri": "https://localhost:8080/"
        },
        "id": "PhY-_HmVHH_e",
        "outputId": "8b3864f6-abdf-4c18-d56d-e93f3c631577"
      },
      "source": [
        "data_train['id'] = data_train['Unnamed: 0']\r\n",
        "df = (data_train[(data_train['period_start_dt'].dt.year == 2019) & (data_train['period_start_dt'].dt.month == 12)].merge(data_test[(data_test['period_start_dt'].dt.year == 2019) & (data_test['period_start_dt'].dt.month == 12)], how='outer', on=['id','product_rk','store_location_rk', 'period_start_dt'], \r\n",
        "              suffixes=['', '_new'], indicator=True))\r\n",
        "\r\n",
        "only2 = df[df['_merge'] == 'both']\r\n",
        "print (only2)"
      ],
      "execution_count": 22,
      "outputs": [
        {
          "output_type": "stream",
          "text": [
            "      Unnamed: 0  product_rk  store_location_rk  ...     id  demand_new  _merge\n",
            "12           920       40369                317  ...    920         NaN    both\n",
            "13           921       40370                317  ...    921         NaN    both\n",
            "14           922       40372                317  ...    922         NaN    both\n",
            "15           923       40373                317  ...    923         NaN    both\n",
            "16           924       46272                317  ...    924         NaN    both\n",
            "...          ...         ...                ...  ...    ...         ...     ...\n",
            "1195       35537       40370               1380  ...  35537         NaN    both\n",
            "1196       35538       40372               1380  ...  35538         NaN    both\n",
            "1197       35539       40373               1380  ...  35539         NaN    both\n",
            "1198       35540       46272               1380  ...  35540         NaN    both\n",
            "1199       35541       96212               1380  ...  35541         NaN    both\n",
            "\n",
            "[720 rows x 14 columns]\n"
          ],
          "name": "stdout"
        }
      ]
    },
    {
      "cell_type": "markdown",
      "metadata": {
        "id": "NW386HmHJ1LE"
      },
      "source": [
        "Предположение подтвердилось, все 720 id по продукту, магазину и дате совпали с предпологаемым id по продукту, магазину и дате в тренировочном сете, поэтому можно переименовать неизвестную колонку в id."
      ]
    },
    {
      "cell_type": "code",
      "metadata": {
        "colab": {
          "base_uri": "https://localhost:8080/",
          "height": 257
        },
        "id": "xXeAcf4jJ0jk",
        "outputId": "802f9de7-8eb4-476b-f1bc-7af09c1c014c"
      },
      "source": [
        "data_train = data_train.drop('id', axis=1)\r\n",
        "data_train.rename(columns={'Unnamed: 0': 'id'})\r\n",
        "print(data_train.shape)\r\n",
        "data_train.tail()"
      ],
      "execution_count": 23,
      "outputs": [
        {
          "output_type": "stream",
          "text": [
            "(35344, 11)\n"
          ],
          "name": "stdout"
        },
        {
          "output_type": "execute_result",
          "data": {
            "text/html": [
              "<div>\n",
              "<style scoped>\n",
              "    .dataframe tbody tr th:only-of-type {\n",
              "        vertical-align: middle;\n",
              "    }\n",
              "\n",
              "    .dataframe tbody tr th {\n",
              "        vertical-align: top;\n",
              "    }\n",
              "\n",
              "    .dataframe thead th {\n",
              "        text-align: right;\n",
              "    }\n",
              "</style>\n",
              "<table border=\"1\" class=\"dataframe\">\n",
              "  <thead>\n",
              "    <tr style=\"text-align: right;\">\n",
              "      <th></th>\n",
              "      <th>Unnamed: 0</th>\n",
              "      <th>product_rk</th>\n",
              "      <th>store_location_rk</th>\n",
              "      <th>period_start_dt</th>\n",
              "      <th>demand</th>\n",
              "      <th>PROMO1_FLAG</th>\n",
              "      <th>PROMO2_FLAG</th>\n",
              "      <th>PRICE_REGULAR</th>\n",
              "      <th>PRICE_AFTER_DISC</th>\n",
              "      <th>NUM_CONSULTANT</th>\n",
              "      <th>AUTORIZATION_FLAG</th>\n",
              "    </tr>\n",
              "  </thead>\n",
              "  <tbody>\n",
              "    <tr>\n",
              "      <th>35339</th>\n",
              "      <td>35537</td>\n",
              "      <td>40370</td>\n",
              "      <td>1380</td>\n",
              "      <td>2019-12-30</td>\n",
              "      <td>NaN</td>\n",
              "      <td>0.0</td>\n",
              "      <td>0.0</td>\n",
              "      <td>1000.00</td>\n",
              "      <td>1000.0</td>\n",
              "      <td>0.0</td>\n",
              "      <td>1.0</td>\n",
              "    </tr>\n",
              "    <tr>\n",
              "      <th>35340</th>\n",
              "      <td>35538</td>\n",
              "      <td>40372</td>\n",
              "      <td>1380</td>\n",
              "      <td>2019-12-30</td>\n",
              "      <td>NaN</td>\n",
              "      <td>0.0</td>\n",
              "      <td>0.0</td>\n",
              "      <td>2000.00</td>\n",
              "      <td>2000.0</td>\n",
              "      <td>0.0</td>\n",
              "      <td>1.0</td>\n",
              "    </tr>\n",
              "    <tr>\n",
              "      <th>35341</th>\n",
              "      <td>35539</td>\n",
              "      <td>40373</td>\n",
              "      <td>1380</td>\n",
              "      <td>2019-12-30</td>\n",
              "      <td>NaN</td>\n",
              "      <td>0.0</td>\n",
              "      <td>0.0</td>\n",
              "      <td>3000.00</td>\n",
              "      <td>3000.0</td>\n",
              "      <td>0.0</td>\n",
              "      <td>1.0</td>\n",
              "    </tr>\n",
              "    <tr>\n",
              "      <th>35342</th>\n",
              "      <td>35540</td>\n",
              "      <td>46272</td>\n",
              "      <td>1380</td>\n",
              "      <td>2019-12-30</td>\n",
              "      <td>NaN</td>\n",
              "      <td>1.0</td>\n",
              "      <td>0.0</td>\n",
              "      <td>284.29</td>\n",
              "      <td>199.0</td>\n",
              "      <td>0.0</td>\n",
              "      <td>1.0</td>\n",
              "    </tr>\n",
              "    <tr>\n",
              "      <th>35343</th>\n",
              "      <td>35541</td>\n",
              "      <td>96212</td>\n",
              "      <td>1380</td>\n",
              "      <td>2019-12-30</td>\n",
              "      <td>NaN</td>\n",
              "      <td>1.0</td>\n",
              "      <td>0.0</td>\n",
              "      <td>141.43</td>\n",
              "      <td>99.0</td>\n",
              "      <td>0.0</td>\n",
              "      <td>1.0</td>\n",
              "    </tr>\n",
              "  </tbody>\n",
              "</table>\n",
              "</div>"
            ],
            "text/plain": [
              "       Unnamed: 0  product_rk  ...  NUM_CONSULTANT AUTORIZATION_FLAG\n",
              "35339       35537       40370  ...             0.0               1.0\n",
              "35340       35538       40372  ...             0.0               1.0\n",
              "35341       35539       40373  ...             0.0               1.0\n",
              "35342       35540       46272  ...             0.0               1.0\n",
              "35343       35541       96212  ...             0.0               1.0\n",
              "\n",
              "[5 rows x 11 columns]"
            ]
          },
          "metadata": {
            "tags": []
          },
          "execution_count": 23
        }
      ]
    },
    {
      "cell_type": "code",
      "metadata": {
        "colab": {
          "base_uri": "https://localhost:8080/",
          "height": 257
        },
        "id": "AKqr56l5JxTf",
        "outputId": "f53e183a-e729-40b9-9c1a-1f260f131c67"
      },
      "source": [
        "data_train.rename(columns={'Unnamed: 0': 'id'}) \r\n",
        "print(data_train.shape)\r\n",
        "data_train.tail()"
      ],
      "execution_count": 24,
      "outputs": [
        {
          "output_type": "stream",
          "text": [
            "(35344, 11)\n"
          ],
          "name": "stdout"
        },
        {
          "output_type": "execute_result",
          "data": {
            "text/html": [
              "<div>\n",
              "<style scoped>\n",
              "    .dataframe tbody tr th:only-of-type {\n",
              "        vertical-align: middle;\n",
              "    }\n",
              "\n",
              "    .dataframe tbody tr th {\n",
              "        vertical-align: top;\n",
              "    }\n",
              "\n",
              "    .dataframe thead th {\n",
              "        text-align: right;\n",
              "    }\n",
              "</style>\n",
              "<table border=\"1\" class=\"dataframe\">\n",
              "  <thead>\n",
              "    <tr style=\"text-align: right;\">\n",
              "      <th></th>\n",
              "      <th>Unnamed: 0</th>\n",
              "      <th>product_rk</th>\n",
              "      <th>store_location_rk</th>\n",
              "      <th>period_start_dt</th>\n",
              "      <th>demand</th>\n",
              "      <th>PROMO1_FLAG</th>\n",
              "      <th>PROMO2_FLAG</th>\n",
              "      <th>PRICE_REGULAR</th>\n",
              "      <th>PRICE_AFTER_DISC</th>\n",
              "      <th>NUM_CONSULTANT</th>\n",
              "      <th>AUTORIZATION_FLAG</th>\n",
              "    </tr>\n",
              "  </thead>\n",
              "  <tbody>\n",
              "    <tr>\n",
              "      <th>35339</th>\n",
              "      <td>35537</td>\n",
              "      <td>40370</td>\n",
              "      <td>1380</td>\n",
              "      <td>2019-12-30</td>\n",
              "      <td>NaN</td>\n",
              "      <td>0.0</td>\n",
              "      <td>0.0</td>\n",
              "      <td>1000.00</td>\n",
              "      <td>1000.0</td>\n",
              "      <td>0.0</td>\n",
              "      <td>1.0</td>\n",
              "    </tr>\n",
              "    <tr>\n",
              "      <th>35340</th>\n",
              "      <td>35538</td>\n",
              "      <td>40372</td>\n",
              "      <td>1380</td>\n",
              "      <td>2019-12-30</td>\n",
              "      <td>NaN</td>\n",
              "      <td>0.0</td>\n",
              "      <td>0.0</td>\n",
              "      <td>2000.00</td>\n",
              "      <td>2000.0</td>\n",
              "      <td>0.0</td>\n",
              "      <td>1.0</td>\n",
              "    </tr>\n",
              "    <tr>\n",
              "      <th>35341</th>\n",
              "      <td>35539</td>\n",
              "      <td>40373</td>\n",
              "      <td>1380</td>\n",
              "      <td>2019-12-30</td>\n",
              "      <td>NaN</td>\n",
              "      <td>0.0</td>\n",
              "      <td>0.0</td>\n",
              "      <td>3000.00</td>\n",
              "      <td>3000.0</td>\n",
              "      <td>0.0</td>\n",
              "      <td>1.0</td>\n",
              "    </tr>\n",
              "    <tr>\n",
              "      <th>35342</th>\n",
              "      <td>35540</td>\n",
              "      <td>46272</td>\n",
              "      <td>1380</td>\n",
              "      <td>2019-12-30</td>\n",
              "      <td>NaN</td>\n",
              "      <td>1.0</td>\n",
              "      <td>0.0</td>\n",
              "      <td>284.29</td>\n",
              "      <td>199.0</td>\n",
              "      <td>0.0</td>\n",
              "      <td>1.0</td>\n",
              "    </tr>\n",
              "    <tr>\n",
              "      <th>35343</th>\n",
              "      <td>35541</td>\n",
              "      <td>96212</td>\n",
              "      <td>1380</td>\n",
              "      <td>2019-12-30</td>\n",
              "      <td>NaN</td>\n",
              "      <td>1.0</td>\n",
              "      <td>0.0</td>\n",
              "      <td>141.43</td>\n",
              "      <td>99.0</td>\n",
              "      <td>0.0</td>\n",
              "      <td>1.0</td>\n",
              "    </tr>\n",
              "  </tbody>\n",
              "</table>\n",
              "</div>"
            ],
            "text/plain": [
              "       Unnamed: 0  product_rk  ...  NUM_CONSULTANT AUTORIZATION_FLAG\n",
              "35339       35537       40370  ...             0.0               1.0\n",
              "35340       35538       40372  ...             0.0               1.0\n",
              "35341       35539       40373  ...             0.0               1.0\n",
              "35342       35540       46272  ...             0.0               1.0\n",
              "35343       35541       96212  ...             0.0               1.0\n",
              "\n",
              "[5 rows x 11 columns]"
            ]
          },
          "metadata": {
            "tags": []
          },
          "execution_count": 24
        }
      ]
    },
    {
      "cell_type": "code",
      "metadata": {
        "id": "SD-Liy08LF5K"
      },
      "source": [
        ""
      ],
      "execution_count": null,
      "outputs": []
    }
  ]
}