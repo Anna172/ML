{
  "nbformat": 4,
  "nbformat_minor": 0,
  "metadata": {
    "colab": {
      "name": "Copy of АДВБ_ДЗ2.ipynb",
      "provenance": [],
      "collapsed_sections": [],
      "authorship_tag": "ABX9TyN5DF4CXwGbPxovmpPTNe2l",
      "include_colab_link": true
    },
    "kernelspec": {
      "name": "python3",
      "display_name": "Python 3"
    }
  },
  "cells": [
    {
      "cell_type": "markdown",
      "metadata": {
        "id": "view-in-github",
        "colab_type": "text"
      },
      "source": [
        "<a href=\"https://colab.research.google.com/github/Anna172/ML/blob/master/%D0%90%D0%94%D0%92%D0%91_%D0%94%D0%972_Nan_Zeros_0.ipynb\" target=\"_parent\"><img src=\"https://colab.research.google.com/assets/colab-badge.svg\" alt=\"Open In Colab\"/></a>"
      ]
    },
    {
      "cell_type": "code",
      "metadata": {
        "id": "_29ADA5-FGc8"
      },
      "source": [
        "import numpy as np\r\n",
        "import pandas as pd\r\n",
        "import math\r\n",
        "import seaborn as sns\r\n",
        "import matplotlib.pyplot as plt\r\n",
        "from sklearn.preprocessing import LabelEncoder\r\n",
        "from sklearn.preprocessing import OneHotEncoder"
      ],
      "execution_count": 1,
      "outputs": []
    },
    {
      "cell_type": "code",
      "metadata": {
        "colab": {
          "base_uri": "https://localhost:8080/",
          "height": 239
        },
        "id": "wwXTHk5PFRkk",
        "outputId": "a9b179f2-3986-45b5-b28c-034c09695bcc"
      },
      "source": [
        "data_train = pd.read_csv(\"train.csv\", delimiter=',',  parse_dates=['period_start_dt'])\r\n",
        "data_train.tail()"
      ],
      "execution_count": 2,
      "outputs": [
        {
          "output_type": "execute_result",
          "data": {
            "text/html": [
              "<div>\n",
              "<style scoped>\n",
              "    .dataframe tbody tr th:only-of-type {\n",
              "        vertical-align: middle;\n",
              "    }\n",
              "\n",
              "    .dataframe tbody tr th {\n",
              "        vertical-align: top;\n",
              "    }\n",
              "\n",
              "    .dataframe thead th {\n",
              "        text-align: right;\n",
              "    }\n",
              "</style>\n",
              "<table border=\"1\" class=\"dataframe\">\n",
              "  <thead>\n",
              "    <tr style=\"text-align: right;\">\n",
              "      <th></th>\n",
              "      <th>Unnamed: 0</th>\n",
              "      <th>product_rk</th>\n",
              "      <th>store_location_rk</th>\n",
              "      <th>period_start_dt</th>\n",
              "      <th>demand</th>\n",
              "      <th>PROMO1_FLAG</th>\n",
              "      <th>PROMO2_FLAG</th>\n",
              "      <th>PRICE_REGULAR</th>\n",
              "      <th>PRICE_AFTER_DISC</th>\n",
              "      <th>NUM_CONSULTANT</th>\n",
              "      <th>AUTORIZATION_FLAG</th>\n",
              "    </tr>\n",
              "  </thead>\n",
              "  <tbody>\n",
              "    <tr>\n",
              "      <th>35339</th>\n",
              "      <td>35537</td>\n",
              "      <td>40370</td>\n",
              "      <td>1380</td>\n",
              "      <td>2019-12-30</td>\n",
              "      <td>NaN</td>\n",
              "      <td>0.0</td>\n",
              "      <td>0.0</td>\n",
              "      <td>1000.00</td>\n",
              "      <td>1000.0</td>\n",
              "      <td>0.0</td>\n",
              "      <td>1.0</td>\n",
              "    </tr>\n",
              "    <tr>\n",
              "      <th>35340</th>\n",
              "      <td>35538</td>\n",
              "      <td>40372</td>\n",
              "      <td>1380</td>\n",
              "      <td>2019-12-30</td>\n",
              "      <td>NaN</td>\n",
              "      <td>0.0</td>\n",
              "      <td>0.0</td>\n",
              "      <td>2000.00</td>\n",
              "      <td>2000.0</td>\n",
              "      <td>0.0</td>\n",
              "      <td>1.0</td>\n",
              "    </tr>\n",
              "    <tr>\n",
              "      <th>35341</th>\n",
              "      <td>35539</td>\n",
              "      <td>40373</td>\n",
              "      <td>1380</td>\n",
              "      <td>2019-12-30</td>\n",
              "      <td>NaN</td>\n",
              "      <td>0.0</td>\n",
              "      <td>0.0</td>\n",
              "      <td>3000.00</td>\n",
              "      <td>3000.0</td>\n",
              "      <td>0.0</td>\n",
              "      <td>1.0</td>\n",
              "    </tr>\n",
              "    <tr>\n",
              "      <th>35342</th>\n",
              "      <td>35540</td>\n",
              "      <td>46272</td>\n",
              "      <td>1380</td>\n",
              "      <td>2019-12-30</td>\n",
              "      <td>NaN</td>\n",
              "      <td>1.0</td>\n",
              "      <td>0.0</td>\n",
              "      <td>284.29</td>\n",
              "      <td>199.0</td>\n",
              "      <td>0.0</td>\n",
              "      <td>1.0</td>\n",
              "    </tr>\n",
              "    <tr>\n",
              "      <th>35343</th>\n",
              "      <td>35541</td>\n",
              "      <td>96212</td>\n",
              "      <td>1380</td>\n",
              "      <td>2019-12-30</td>\n",
              "      <td>NaN</td>\n",
              "      <td>1.0</td>\n",
              "      <td>0.0</td>\n",
              "      <td>141.43</td>\n",
              "      <td>99.0</td>\n",
              "      <td>0.0</td>\n",
              "      <td>1.0</td>\n",
              "    </tr>\n",
              "  </tbody>\n",
              "</table>\n",
              "</div>"
            ],
            "text/plain": [
              "       Unnamed: 0  product_rk  ...  NUM_CONSULTANT AUTORIZATION_FLAG\n",
              "35339       35537       40370  ...             0.0               1.0\n",
              "35340       35538       40372  ...             0.0               1.0\n",
              "35341       35539       40373  ...             0.0               1.0\n",
              "35342       35540       46272  ...             0.0               1.0\n",
              "35343       35541       96212  ...             0.0               1.0\n",
              "\n",
              "[5 rows x 11 columns]"
            ]
          },
          "metadata": {
            "tags": []
          },
          "execution_count": 2
        }
      ]
    },
    {
      "cell_type": "code",
      "metadata": {
        "colab": {
          "base_uri": "https://localhost:8080/"
        },
        "id": "w8Yfg_pdFXMA",
        "outputId": "65a1b471-e70d-427f-c554-ea09e62143db"
      },
      "source": [
        "print(data_train[data_train['period_start_dt'].dt.year == 2020].shape[0])\r\n",
        "print(data_train[ (data_train['period_start_dt'].dt.year == 2019) & (data_train['period_start_dt'].dt.month == 12) ].shape[0])\r\n",
        "data_train.shape"
      ],
      "execution_count": 3,
      "outputs": [
        {
          "output_type": "stream",
          "text": [
            "0\n",
            "1200\n"
          ],
          "name": "stdout"
        },
        {
          "output_type": "execute_result",
          "data": {
            "text/plain": [
              "(35344, 11)"
            ]
          },
          "metadata": {
            "tags": []
          },
          "execution_count": 3
        }
      ]
    },
    {
      "cell_type": "code",
      "metadata": {
        "colab": {
          "base_uri": "https://localhost:8080/",
          "height": 415
        },
        "id": "eDle3DJpGO0b",
        "outputId": "9a21e7ea-0958-4e03-b77d-e1554cc0e324"
      },
      "source": [
        "data_test = pd.read_csv(\"test.csv\", delimiter=',',  parse_dates=['period_start_dt'])\r\n",
        "data_test"
      ],
      "execution_count": 4,
      "outputs": [
        {
          "output_type": "execute_result",
          "data": {
            "text/html": [
              "<div>\n",
              "<style scoped>\n",
              "    .dataframe tbody tr th:only-of-type {\n",
              "        vertical-align: middle;\n",
              "    }\n",
              "\n",
              "    .dataframe tbody tr th {\n",
              "        vertical-align: top;\n",
              "    }\n",
              "\n",
              "    .dataframe thead th {\n",
              "        text-align: right;\n",
              "    }\n",
              "</style>\n",
              "<table border=\"1\" class=\"dataframe\">\n",
              "  <thead>\n",
              "    <tr style=\"text-align: right;\">\n",
              "      <th></th>\n",
              "      <th>id</th>\n",
              "      <th>product_rk</th>\n",
              "      <th>store_location_rk</th>\n",
              "      <th>period_start_dt</th>\n",
              "      <th>demand</th>\n",
              "    </tr>\n",
              "  </thead>\n",
              "  <tbody>\n",
              "    <tr>\n",
              "      <th>0</th>\n",
              "      <td>908</td>\n",
              "      <td>40369</td>\n",
              "      <td>317</td>\n",
              "      <td>2019-02-12</td>\n",
              "      <td>NaN</td>\n",
              "    </tr>\n",
              "    <tr>\n",
              "      <th>1</th>\n",
              "      <td>909</td>\n",
              "      <td>40370</td>\n",
              "      <td>317</td>\n",
              "      <td>2019-02-12</td>\n",
              "      <td>NaN</td>\n",
              "    </tr>\n",
              "    <tr>\n",
              "      <th>2</th>\n",
              "      <td>910</td>\n",
              "      <td>40372</td>\n",
              "      <td>317</td>\n",
              "      <td>2019-02-12</td>\n",
              "      <td>NaN</td>\n",
              "    </tr>\n",
              "    <tr>\n",
              "      <th>3</th>\n",
              "      <td>911</td>\n",
              "      <td>40373</td>\n",
              "      <td>317</td>\n",
              "      <td>2019-02-12</td>\n",
              "      <td>NaN</td>\n",
              "    </tr>\n",
              "    <tr>\n",
              "      <th>4</th>\n",
              "      <td>912</td>\n",
              "      <td>46272</td>\n",
              "      <td>317</td>\n",
              "      <td>2019-02-12</td>\n",
              "      <td>NaN</td>\n",
              "    </tr>\n",
              "    <tr>\n",
              "      <th>...</th>\n",
              "      <td>...</td>\n",
              "      <td>...</td>\n",
              "      <td>...</td>\n",
              "      <td>...</td>\n",
              "      <td>...</td>\n",
              "    </tr>\n",
              "    <tr>\n",
              "      <th>1399</th>\n",
              "      <td>35543</td>\n",
              "      <td>40370</td>\n",
              "      <td>1380</td>\n",
              "      <td>2020-06-01</td>\n",
              "      <td>NaN</td>\n",
              "    </tr>\n",
              "    <tr>\n",
              "      <th>1400</th>\n",
              "      <td>35544</td>\n",
              "      <td>40372</td>\n",
              "      <td>1380</td>\n",
              "      <td>2020-06-01</td>\n",
              "      <td>NaN</td>\n",
              "    </tr>\n",
              "    <tr>\n",
              "      <th>1401</th>\n",
              "      <td>35545</td>\n",
              "      <td>40373</td>\n",
              "      <td>1380</td>\n",
              "      <td>2020-06-01</td>\n",
              "      <td>NaN</td>\n",
              "    </tr>\n",
              "    <tr>\n",
              "      <th>1402</th>\n",
              "      <td>35546</td>\n",
              "      <td>46272</td>\n",
              "      <td>1380</td>\n",
              "      <td>2020-06-01</td>\n",
              "      <td>NaN</td>\n",
              "    </tr>\n",
              "    <tr>\n",
              "      <th>1403</th>\n",
              "      <td>35547</td>\n",
              "      <td>96212</td>\n",
              "      <td>1380</td>\n",
              "      <td>2020-06-01</td>\n",
              "      <td>NaN</td>\n",
              "    </tr>\n",
              "  </tbody>\n",
              "</table>\n",
              "<p>1404 rows × 5 columns</p>\n",
              "</div>"
            ],
            "text/plain": [
              "         id  product_rk  store_location_rk period_start_dt  demand\n",
              "0       908       40369                317      2019-02-12     NaN\n",
              "1       909       40370                317      2019-02-12     NaN\n",
              "2       910       40372                317      2019-02-12     NaN\n",
              "3       911       40373                317      2019-02-12     NaN\n",
              "4       912       46272                317      2019-02-12     NaN\n",
              "...     ...         ...                ...             ...     ...\n",
              "1399  35543       40370               1380      2020-06-01     NaN\n",
              "1400  35544       40372               1380      2020-06-01     NaN\n",
              "1401  35545       40373               1380      2020-06-01     NaN\n",
              "1402  35546       46272               1380      2020-06-01     NaN\n",
              "1403  35547       96212               1380      2020-06-01     NaN\n",
              "\n",
              "[1404 rows x 5 columns]"
            ]
          },
          "metadata": {
            "tags": []
          },
          "execution_count": 4
        }
      ]
    },
    {
      "cell_type": "code",
      "metadata": {
        "colab": {
          "base_uri": "https://localhost:8080/"
        },
        "id": "cvFmsQqjGfl3",
        "outputId": "6f3c8c95-9b2d-4ec2-b591-a92927e79836"
      },
      "source": [
        "print(data_test[data_test['period_start_dt'].dt.year == 2020].shape[0])\r\n",
        "print(data_test[ (data_test['period_start_dt'].dt.year == 2019) & (data_test['period_start_dt'].dt.month == 12) ].shape[0])\r\n",
        "data_test.shape"
      ],
      "execution_count": 5,
      "outputs": [
        {
          "output_type": "stream",
          "text": [
            "204\n",
            "720\n"
          ],
          "name": "stdout"
        },
        {
          "output_type": "execute_result",
          "data": {
            "text/plain": [
              "(1404, 5)"
            ]
          },
          "metadata": {
            "tags": []
          },
          "execution_count": 5
        }
      ]
    },
    {
      "cell_type": "code",
      "metadata": {
        "colab": {
          "base_uri": "https://localhost:8080/",
          "height": 415
        },
        "id": "dUw9_EDySSnG",
        "outputId": "004b24dd-1f1e-4cb5-8c5f-ac225098506d"
      },
      "source": [
        "data_test[ (data_test['period_start_dt'].dt.year == 2019) & (data_test['period_start_dt'].dt.month != 12) ]"
      ],
      "execution_count": 6,
      "outputs": [
        {
          "output_type": "execute_result",
          "data": {
            "text/html": [
              "<div>\n",
              "<style scoped>\n",
              "    .dataframe tbody tr th:only-of-type {\n",
              "        vertical-align: middle;\n",
              "    }\n",
              "\n",
              "    .dataframe tbody tr th {\n",
              "        vertical-align: top;\n",
              "    }\n",
              "\n",
              "    .dataframe thead th {\n",
              "        text-align: right;\n",
              "    }\n",
              "</style>\n",
              "<table border=\"1\" class=\"dataframe\">\n",
              "  <thead>\n",
              "    <tr style=\"text-align: right;\">\n",
              "      <th></th>\n",
              "      <th>id</th>\n",
              "      <th>product_rk</th>\n",
              "      <th>store_location_rk</th>\n",
              "      <th>period_start_dt</th>\n",
              "      <th>demand</th>\n",
              "    </tr>\n",
              "  </thead>\n",
              "  <tbody>\n",
              "    <tr>\n",
              "      <th>0</th>\n",
              "      <td>908</td>\n",
              "      <td>40369</td>\n",
              "      <td>317</td>\n",
              "      <td>2019-02-12</td>\n",
              "      <td>NaN</td>\n",
              "    </tr>\n",
              "    <tr>\n",
              "      <th>1</th>\n",
              "      <td>909</td>\n",
              "      <td>40370</td>\n",
              "      <td>317</td>\n",
              "      <td>2019-02-12</td>\n",
              "      <td>NaN</td>\n",
              "    </tr>\n",
              "    <tr>\n",
              "      <th>2</th>\n",
              "      <td>910</td>\n",
              "      <td>40372</td>\n",
              "      <td>317</td>\n",
              "      <td>2019-02-12</td>\n",
              "      <td>NaN</td>\n",
              "    </tr>\n",
              "    <tr>\n",
              "      <th>3</th>\n",
              "      <td>911</td>\n",
              "      <td>40373</td>\n",
              "      <td>317</td>\n",
              "      <td>2019-02-12</td>\n",
              "      <td>NaN</td>\n",
              "    </tr>\n",
              "    <tr>\n",
              "      <th>4</th>\n",
              "      <td>912</td>\n",
              "      <td>46272</td>\n",
              "      <td>317</td>\n",
              "      <td>2019-02-12</td>\n",
              "      <td>NaN</td>\n",
              "    </tr>\n",
              "    <tr>\n",
              "      <th>...</th>\n",
              "      <td>...</td>\n",
              "      <td>...</td>\n",
              "      <td>...</td>\n",
              "      <td>...</td>\n",
              "      <td>...</td>\n",
              "    </tr>\n",
              "    <tr>\n",
              "      <th>1375</th>\n",
              "      <td>35519</td>\n",
              "      <td>40370</td>\n",
              "      <td>1380</td>\n",
              "      <td>2019-09-12</td>\n",
              "      <td>NaN</td>\n",
              "    </tr>\n",
              "    <tr>\n",
              "      <th>1376</th>\n",
              "      <td>35520</td>\n",
              "      <td>40372</td>\n",
              "      <td>1380</td>\n",
              "      <td>2019-09-12</td>\n",
              "      <td>NaN</td>\n",
              "    </tr>\n",
              "    <tr>\n",
              "      <th>1377</th>\n",
              "      <td>35521</td>\n",
              "      <td>40373</td>\n",
              "      <td>1380</td>\n",
              "      <td>2019-09-12</td>\n",
              "      <td>NaN</td>\n",
              "    </tr>\n",
              "    <tr>\n",
              "      <th>1378</th>\n",
              "      <td>35522</td>\n",
              "      <td>46272</td>\n",
              "      <td>1380</td>\n",
              "      <td>2019-09-12</td>\n",
              "      <td>NaN</td>\n",
              "    </tr>\n",
              "    <tr>\n",
              "      <th>1379</th>\n",
              "      <td>35523</td>\n",
              "      <td>96212</td>\n",
              "      <td>1380</td>\n",
              "      <td>2019-09-12</td>\n",
              "      <td>NaN</td>\n",
              "    </tr>\n",
              "  </tbody>\n",
              "</table>\n",
              "<p>480 rows × 5 columns</p>\n",
              "</div>"
            ],
            "text/plain": [
              "         id  product_rk  store_location_rk period_start_dt  demand\n",
              "0       908       40369                317      2019-02-12     NaN\n",
              "1       909       40370                317      2019-02-12     NaN\n",
              "2       910       40372                317      2019-02-12     NaN\n",
              "3       911       40373                317      2019-02-12     NaN\n",
              "4       912       46272                317      2019-02-12     NaN\n",
              "...     ...         ...                ...             ...     ...\n",
              "1375  35519       40370               1380      2019-09-12     NaN\n",
              "1376  35520       40372               1380      2019-09-12     NaN\n",
              "1377  35521       40373               1380      2019-09-12     NaN\n",
              "1378  35522       46272               1380      2019-09-12     NaN\n",
              "1379  35523       96212               1380      2019-09-12     NaN\n",
              "\n",
              "[480 rows x 5 columns]"
            ]
          },
          "metadata": {
            "tags": []
          },
          "execution_count": 6
        }
      ]
    },
    {
      "cell_type": "markdown",
      "metadata": {
        "id": "HpdYvr-DHe2Z"
      },
      "source": [
        "В тренировочном сете нет данных по 2020 году и в задании сказано, что нужно спрогнозировать только на декабрь 2019, поэтому удалим из тестового набора  данных все записи 20 года. \r\n",
        "\r\n",
        "Согласно заданию, нужно спрогнозировать только декабрь 2019 года, а в тестовом наборе данных 480 наблюдений не декабрь 2019 года, их тоже можно удалить.\r\n",
        "\r\n",
        "В тренировочном наборе данных есть столбец без описания, возможно, это id. Проверим это предположение."
      ]
    },
    {
      "cell_type": "code",
      "metadata": {
        "colab": {
          "base_uri": "https://localhost:8080/"
        },
        "id": "PE44-EIeHao1",
        "outputId": "28be10b3-d366-43df-b327-a17fbc51f9ec"
      },
      "source": [
        "data_test = data_test[ (data_test['period_start_dt'].dt.year == 2019) & (data_test['period_start_dt'].dt.month == 12) ]\r\n",
        "data_test.shape"
      ],
      "execution_count": 7,
      "outputs": [
        {
          "output_type": "execute_result",
          "data": {
            "text/plain": [
              "(720, 5)"
            ]
          },
          "metadata": {
            "tags": []
          },
          "execution_count": 7
        }
      ]
    },
    {
      "cell_type": "code",
      "metadata": {
        "colab": {
          "base_uri": "https://localhost:8080/",
          "height": 453
        },
        "id": "PhY-_HmVHH_e",
        "outputId": "b4dcfed3-4fe1-4dac-e4d1-3e5297bf448b"
      },
      "source": [
        "data_train['id'] = data_train['Unnamed: 0']\r\n",
        "m = (data_train[(data_train['period_start_dt'].dt.year == 2019) & (data_train['period_start_dt'].dt.month == 12)].merge(data_test[(data_test['period_start_dt'].dt.year == 2019) & (data_test['period_start_dt'].dt.month == 12)], how='outer', on=['id','product_rk','store_location_rk', 'period_start_dt'], \r\n",
        "              suffixes=['', '_new'], indicator=True))\r\n",
        "only2 = m[m['_merge']  == 'left_only']\r\n",
        "only2"
      ],
      "execution_count": 8,
      "outputs": [
        {
          "output_type": "execute_result",
          "data": {
            "text/html": [
              "<div>\n",
              "<style scoped>\n",
              "    .dataframe tbody tr th:only-of-type {\n",
              "        vertical-align: middle;\n",
              "    }\n",
              "\n",
              "    .dataframe tbody tr th {\n",
              "        vertical-align: top;\n",
              "    }\n",
              "\n",
              "    .dataframe thead th {\n",
              "        text-align: right;\n",
              "    }\n",
              "</style>\n",
              "<table border=\"1\" class=\"dataframe\">\n",
              "  <thead>\n",
              "    <tr style=\"text-align: right;\">\n",
              "      <th></th>\n",
              "      <th>Unnamed: 0</th>\n",
              "      <th>product_rk</th>\n",
              "      <th>store_location_rk</th>\n",
              "      <th>period_start_dt</th>\n",
              "      <th>demand</th>\n",
              "      <th>PROMO1_FLAG</th>\n",
              "      <th>PROMO2_FLAG</th>\n",
              "      <th>PRICE_REGULAR</th>\n",
              "      <th>PRICE_AFTER_DISC</th>\n",
              "      <th>NUM_CONSULTANT</th>\n",
              "      <th>AUTORIZATION_FLAG</th>\n",
              "      <th>id</th>\n",
              "      <th>demand_new</th>\n",
              "      <th>_merge</th>\n",
              "    </tr>\n",
              "  </thead>\n",
              "  <tbody>\n",
              "    <tr>\n",
              "      <th>0</th>\n",
              "      <td>908</td>\n",
              "      <td>40369</td>\n",
              "      <td>317</td>\n",
              "      <td>2019-12-02</td>\n",
              "      <td>NaN</td>\n",
              "      <td>0.0</td>\n",
              "      <td>0.0</td>\n",
              "      <td>500.00</td>\n",
              "      <td>500.0</td>\n",
              "      <td>0.0</td>\n",
              "      <td>1.0</td>\n",
              "      <td>908</td>\n",
              "      <td>NaN</td>\n",
              "      <td>left_only</td>\n",
              "    </tr>\n",
              "    <tr>\n",
              "      <th>1</th>\n",
              "      <td>909</td>\n",
              "      <td>40370</td>\n",
              "      <td>317</td>\n",
              "      <td>2019-12-02</td>\n",
              "      <td>NaN</td>\n",
              "      <td>0.0</td>\n",
              "      <td>0.0</td>\n",
              "      <td>1000.00</td>\n",
              "      <td>1000.0</td>\n",
              "      <td>0.0</td>\n",
              "      <td>1.0</td>\n",
              "      <td>909</td>\n",
              "      <td>NaN</td>\n",
              "      <td>left_only</td>\n",
              "    </tr>\n",
              "    <tr>\n",
              "      <th>2</th>\n",
              "      <td>910</td>\n",
              "      <td>40372</td>\n",
              "      <td>317</td>\n",
              "      <td>2019-12-02</td>\n",
              "      <td>NaN</td>\n",
              "      <td>0.0</td>\n",
              "      <td>0.0</td>\n",
              "      <td>2000.00</td>\n",
              "      <td>2000.0</td>\n",
              "      <td>0.0</td>\n",
              "      <td>1.0</td>\n",
              "      <td>910</td>\n",
              "      <td>NaN</td>\n",
              "      <td>left_only</td>\n",
              "    </tr>\n",
              "    <tr>\n",
              "      <th>3</th>\n",
              "      <td>911</td>\n",
              "      <td>40373</td>\n",
              "      <td>317</td>\n",
              "      <td>2019-12-02</td>\n",
              "      <td>NaN</td>\n",
              "      <td>0.0</td>\n",
              "      <td>0.0</td>\n",
              "      <td>3000.00</td>\n",
              "      <td>3000.0</td>\n",
              "      <td>0.0</td>\n",
              "      <td>1.0</td>\n",
              "      <td>911</td>\n",
              "      <td>NaN</td>\n",
              "      <td>left_only</td>\n",
              "    </tr>\n",
              "    <tr>\n",
              "      <th>4</th>\n",
              "      <td>912</td>\n",
              "      <td>46272</td>\n",
              "      <td>317</td>\n",
              "      <td>2019-12-02</td>\n",
              "      <td>NaN</td>\n",
              "      <td>1.0</td>\n",
              "      <td>0.0</td>\n",
              "      <td>284.29</td>\n",
              "      <td>199.0</td>\n",
              "      <td>0.0</td>\n",
              "      <td>1.0</td>\n",
              "      <td>912</td>\n",
              "      <td>NaN</td>\n",
              "      <td>left_only</td>\n",
              "    </tr>\n",
              "    <tr>\n",
              "      <th>...</th>\n",
              "      <td>...</td>\n",
              "      <td>...</td>\n",
              "      <td>...</td>\n",
              "      <td>...</td>\n",
              "      <td>...</td>\n",
              "      <td>...</td>\n",
              "      <td>...</td>\n",
              "      <td>...</td>\n",
              "      <td>...</td>\n",
              "      <td>...</td>\n",
              "      <td>...</td>\n",
              "      <td>...</td>\n",
              "      <td>...</td>\n",
              "      <td>...</td>\n",
              "    </tr>\n",
              "    <tr>\n",
              "      <th>1177</th>\n",
              "      <td>35519</td>\n",
              "      <td>40370</td>\n",
              "      <td>1380</td>\n",
              "      <td>2019-12-09</td>\n",
              "      <td>NaN</td>\n",
              "      <td>0.0</td>\n",
              "      <td>0.0</td>\n",
              "      <td>1000.00</td>\n",
              "      <td>1000.0</td>\n",
              "      <td>0.0</td>\n",
              "      <td>1.0</td>\n",
              "      <td>35519</td>\n",
              "      <td>NaN</td>\n",
              "      <td>left_only</td>\n",
              "    </tr>\n",
              "    <tr>\n",
              "      <th>1178</th>\n",
              "      <td>35520</td>\n",
              "      <td>40372</td>\n",
              "      <td>1380</td>\n",
              "      <td>2019-12-09</td>\n",
              "      <td>NaN</td>\n",
              "      <td>0.0</td>\n",
              "      <td>0.0</td>\n",
              "      <td>2000.00</td>\n",
              "      <td>2000.0</td>\n",
              "      <td>0.0</td>\n",
              "      <td>1.0</td>\n",
              "      <td>35520</td>\n",
              "      <td>NaN</td>\n",
              "      <td>left_only</td>\n",
              "    </tr>\n",
              "    <tr>\n",
              "      <th>1179</th>\n",
              "      <td>35521</td>\n",
              "      <td>40373</td>\n",
              "      <td>1380</td>\n",
              "      <td>2019-12-09</td>\n",
              "      <td>NaN</td>\n",
              "      <td>0.0</td>\n",
              "      <td>0.0</td>\n",
              "      <td>3000.00</td>\n",
              "      <td>3000.0</td>\n",
              "      <td>0.0</td>\n",
              "      <td>1.0</td>\n",
              "      <td>35521</td>\n",
              "      <td>NaN</td>\n",
              "      <td>left_only</td>\n",
              "    </tr>\n",
              "    <tr>\n",
              "      <th>1180</th>\n",
              "      <td>35522</td>\n",
              "      <td>46272</td>\n",
              "      <td>1380</td>\n",
              "      <td>2019-12-09</td>\n",
              "      <td>NaN</td>\n",
              "      <td>1.0</td>\n",
              "      <td>0.0</td>\n",
              "      <td>284.29</td>\n",
              "      <td>199.0</td>\n",
              "      <td>0.0</td>\n",
              "      <td>1.0</td>\n",
              "      <td>35522</td>\n",
              "      <td>NaN</td>\n",
              "      <td>left_only</td>\n",
              "    </tr>\n",
              "    <tr>\n",
              "      <th>1181</th>\n",
              "      <td>35523</td>\n",
              "      <td>96212</td>\n",
              "      <td>1380</td>\n",
              "      <td>2019-12-09</td>\n",
              "      <td>NaN</td>\n",
              "      <td>1.0</td>\n",
              "      <td>0.0</td>\n",
              "      <td>141.43</td>\n",
              "      <td>99.0</td>\n",
              "      <td>0.0</td>\n",
              "      <td>1.0</td>\n",
              "      <td>35523</td>\n",
              "      <td>NaN</td>\n",
              "      <td>left_only</td>\n",
              "    </tr>\n",
              "  </tbody>\n",
              "</table>\n",
              "<p>480 rows × 14 columns</p>\n",
              "</div>"
            ],
            "text/plain": [
              "      Unnamed: 0  product_rk  store_location_rk  ...     id  demand_new     _merge\n",
              "0            908       40369                317  ...    908         NaN  left_only\n",
              "1            909       40370                317  ...    909         NaN  left_only\n",
              "2            910       40372                317  ...    910         NaN  left_only\n",
              "3            911       40373                317  ...    911         NaN  left_only\n",
              "4            912       46272                317  ...    912         NaN  left_only\n",
              "...          ...         ...                ...  ...    ...         ...        ...\n",
              "1177       35519       40370               1380  ...  35519         NaN  left_only\n",
              "1178       35520       40372               1380  ...  35520         NaN  left_only\n",
              "1179       35521       40373               1380  ...  35521         NaN  left_only\n",
              "1180       35522       46272               1380  ...  35522         NaN  left_only\n",
              "1181       35523       96212               1380  ...  35523         NaN  left_only\n",
              "\n",
              "[480 rows x 14 columns]"
            ]
          },
          "metadata": {
            "tags": []
          },
          "execution_count": 8
        }
      ]
    },
    {
      "cell_type": "code",
      "metadata": {
        "colab": {
          "base_uri": "https://localhost:8080/",
          "height": 49
        },
        "id": "M1rG_sDATACE",
        "outputId": "5cf93918-23d3-49d7-d111-f58f517f0a8f"
      },
      "source": [
        "data_test[(data_test['period_start_dt'].dt.year == 2019) & (data_test['period_start_dt'].dt.month == 12) & (data_test['period_start_dt'].dt.day == 9)]"
      ],
      "execution_count": 9,
      "outputs": [
        {
          "output_type": "execute_result",
          "data": {
            "text/html": [
              "<div>\n",
              "<style scoped>\n",
              "    .dataframe tbody tr th:only-of-type {\n",
              "        vertical-align: middle;\n",
              "    }\n",
              "\n",
              "    .dataframe tbody tr th {\n",
              "        vertical-align: top;\n",
              "    }\n",
              "\n",
              "    .dataframe thead th {\n",
              "        text-align: right;\n",
              "    }\n",
              "</style>\n",
              "<table border=\"1\" class=\"dataframe\">\n",
              "  <thead>\n",
              "    <tr style=\"text-align: right;\">\n",
              "      <th></th>\n",
              "      <th>id</th>\n",
              "      <th>product_rk</th>\n",
              "      <th>store_location_rk</th>\n",
              "      <th>period_start_dt</th>\n",
              "      <th>demand</th>\n",
              "    </tr>\n",
              "  </thead>\n",
              "  <tbody>\n",
              "  </tbody>\n",
              "</table>\n",
              "</div>"
            ],
            "text/plain": [
              "Empty DataFrame\n",
              "Columns: [id, product_rk, store_location_rk, period_start_dt, demand]\n",
              "Index: []"
            ]
          },
          "metadata": {
            "tags": []
          },
          "execution_count": 9
        }
      ]
    },
    {
      "cell_type": "code",
      "metadata": {
        "colab": {
          "base_uri": "https://localhost:8080/"
        },
        "id": "81e56cSWVrif",
        "outputId": "3e03c1ac-9fb3-4f8a-9257-a69b45b48494"
      },
      "source": [
        "data_train[(data_train['period_start_dt'].dt.year == 2019) & (data_train['period_start_dt'].dt.month == 12)]['period_start_dt'].unique()"
      ],
      "execution_count": 10,
      "outputs": [
        {
          "output_type": "execute_result",
          "data": {
            "text/plain": [
              "array(['2019-12-02T00:00:00.000000000', '2019-12-09T00:00:00.000000000',\n",
              "       '2019-12-16T00:00:00.000000000', '2019-12-23T00:00:00.000000000',\n",
              "       '2019-12-30T00:00:00.000000000'], dtype='datetime64[ns]')"
            ]
          },
          "metadata": {
            "tags": []
          },
          "execution_count": 10
        }
      ]
    },
    {
      "cell_type": "markdown",
      "metadata": {
        "id": "NRIHJwxMUWNn"
      },
      "source": [
        "В предложенном тестовом наборе данных отсутствуют записи за 2 и 9 число декабря. В тренировочном же есть все 5 недель декабря 2019 года и нет ничего лишнего. Соответственно, было решено работать только с тренировочным набором данных и потом уже из него получить тестовый сет. Поэтому переменнуем data_train в data"
      ]
    },
    {
      "cell_type": "code",
      "metadata": {
        "id": "N3Cn32oXXQzW"
      },
      "source": [
        "data = data_train"
      ],
      "execution_count": 11,
      "outputs": []
    },
    {
      "cell_type": "markdown",
      "metadata": {
        "id": "NW386HmHJ1LE"
      },
      "source": [
        "Предположение подтвердилось, все 720 id по продукту, магазину и дате совпали с предпологаемым id по продукту, магазину и дате в тренировочном сете, поэтому можно переименовать неизвестную колонку в id."
      ]
    },
    {
      "cell_type": "code",
      "metadata": {
        "colab": {
          "base_uri": "https://localhost:8080/",
          "height": 239
        },
        "id": "xXeAcf4jJ0jk",
        "outputId": "171f1e7f-854c-4d8c-eca2-1a4770159dc6"
      },
      "source": [
        "data = data.drop('id', axis=1)\r\n",
        "data = data.rename(columns={'Unnamed: 0': 'id'})\r\n",
        "print(data.shape)\r\n",
        "data.tail()"
      ],
      "execution_count": 12,
      "outputs": [
        {
          "output_type": "stream",
          "text": [
            "(35344, 11)\n"
          ],
          "name": "stdout"
        },
        {
          "output_type": "execute_result",
          "data": {
            "text/html": [
              "<div>\n",
              "<style scoped>\n",
              "    .dataframe tbody tr th:only-of-type {\n",
              "        vertical-align: middle;\n",
              "    }\n",
              "\n",
              "    .dataframe tbody tr th {\n",
              "        vertical-align: top;\n",
              "    }\n",
              "\n",
              "    .dataframe thead th {\n",
              "        text-align: right;\n",
              "    }\n",
              "</style>\n",
              "<table border=\"1\" class=\"dataframe\">\n",
              "  <thead>\n",
              "    <tr style=\"text-align: right;\">\n",
              "      <th></th>\n",
              "      <th>id</th>\n",
              "      <th>product_rk</th>\n",
              "      <th>store_location_rk</th>\n",
              "      <th>period_start_dt</th>\n",
              "      <th>demand</th>\n",
              "      <th>PROMO1_FLAG</th>\n",
              "      <th>PROMO2_FLAG</th>\n",
              "      <th>PRICE_REGULAR</th>\n",
              "      <th>PRICE_AFTER_DISC</th>\n",
              "      <th>NUM_CONSULTANT</th>\n",
              "      <th>AUTORIZATION_FLAG</th>\n",
              "    </tr>\n",
              "  </thead>\n",
              "  <tbody>\n",
              "    <tr>\n",
              "      <th>35339</th>\n",
              "      <td>35537</td>\n",
              "      <td>40370</td>\n",
              "      <td>1380</td>\n",
              "      <td>2019-12-30</td>\n",
              "      <td>NaN</td>\n",
              "      <td>0.0</td>\n",
              "      <td>0.0</td>\n",
              "      <td>1000.00</td>\n",
              "      <td>1000.0</td>\n",
              "      <td>0.0</td>\n",
              "      <td>1.0</td>\n",
              "    </tr>\n",
              "    <tr>\n",
              "      <th>35340</th>\n",
              "      <td>35538</td>\n",
              "      <td>40372</td>\n",
              "      <td>1380</td>\n",
              "      <td>2019-12-30</td>\n",
              "      <td>NaN</td>\n",
              "      <td>0.0</td>\n",
              "      <td>0.0</td>\n",
              "      <td>2000.00</td>\n",
              "      <td>2000.0</td>\n",
              "      <td>0.0</td>\n",
              "      <td>1.0</td>\n",
              "    </tr>\n",
              "    <tr>\n",
              "      <th>35341</th>\n",
              "      <td>35539</td>\n",
              "      <td>40373</td>\n",
              "      <td>1380</td>\n",
              "      <td>2019-12-30</td>\n",
              "      <td>NaN</td>\n",
              "      <td>0.0</td>\n",
              "      <td>0.0</td>\n",
              "      <td>3000.00</td>\n",
              "      <td>3000.0</td>\n",
              "      <td>0.0</td>\n",
              "      <td>1.0</td>\n",
              "    </tr>\n",
              "    <tr>\n",
              "      <th>35342</th>\n",
              "      <td>35540</td>\n",
              "      <td>46272</td>\n",
              "      <td>1380</td>\n",
              "      <td>2019-12-30</td>\n",
              "      <td>NaN</td>\n",
              "      <td>1.0</td>\n",
              "      <td>0.0</td>\n",
              "      <td>284.29</td>\n",
              "      <td>199.0</td>\n",
              "      <td>0.0</td>\n",
              "      <td>1.0</td>\n",
              "    </tr>\n",
              "    <tr>\n",
              "      <th>35343</th>\n",
              "      <td>35541</td>\n",
              "      <td>96212</td>\n",
              "      <td>1380</td>\n",
              "      <td>2019-12-30</td>\n",
              "      <td>NaN</td>\n",
              "      <td>1.0</td>\n",
              "      <td>0.0</td>\n",
              "      <td>141.43</td>\n",
              "      <td>99.0</td>\n",
              "      <td>0.0</td>\n",
              "      <td>1.0</td>\n",
              "    </tr>\n",
              "  </tbody>\n",
              "</table>\n",
              "</div>"
            ],
            "text/plain": [
              "          id  product_rk  ...  NUM_CONSULTANT AUTORIZATION_FLAG\n",
              "35339  35537       40370  ...             0.0               1.0\n",
              "35340  35538       40372  ...             0.0               1.0\n",
              "35341  35539       40373  ...             0.0               1.0\n",
              "35342  35540       46272  ...             0.0               1.0\n",
              "35343  35541       96212  ...             0.0               1.0\n",
              "\n",
              "[5 rows x 11 columns]"
            ]
          },
          "metadata": {
            "tags": []
          },
          "execution_count": 12
        }
      ]
    },
    {
      "cell_type": "markdown",
      "metadata": {
        "id": "6P0-JWQKN6Tb"
      },
      "source": [
        "По каждой переменной набора данных рассчитаем: число уникальных значений (UNIQUE и PERCENT_UNIQUE), число нудевых значений (ZEROS и PERCENT_ZEROS), число пропущенных значений (NANS и PERCENT_NANS) и тип данных (DATA_TYPE). Результаты приведены в таблице ниже:"
      ]
    },
    {
      "cell_type": "code",
      "metadata": {
        "colab": {
          "base_uri": "https://localhost:8080/",
          "height": 386
        },
        "id": "ADNi07upPJQ1",
        "outputId": "b76e65f8-4c5b-4a67-91c8-9b8c50bedd92"
      },
      "source": [
        "columns = [\"UNIQUE\", 'PERCENT_UNIQUE', 'ZEROS', 'PERCENT_ZEROS', 'NANS', 'PERCENT_NANS', 'DATA_TYPE']\r\n",
        "dt = pd.DataFrame(index=data.columns, columns=columns)\r\n",
        "\r\n",
        "for col in data.columns:\r\n",
        "  dt.loc[col,\"UNIQUE\"] = len(data[col].unique())\r\n",
        "  dt.loc[col,\"PERCENT_UNIQUE\"] = dt.loc[col,\"UNIQUE\"]/len(data[col])*100\r\n",
        "  dt.loc[col,\"NANS\"] = np.sum(data[col].isnull())\r\n",
        "  dt.loc[col,\"PERCENT_NANS\"] = dt.loc[col,\"NANS\"]/len(data[col])*100\r\n",
        "  dt.loc[col,\"ZEROS\"] = (data[col] == 0).sum()\r\n",
        "  dt.loc[col,\"PERCENT_ZEROS\"] = dt.loc[col,\"ZEROS\"]/len(data[col])*100\r\n",
        "  dt[\"DATA_TYPE\"] = data.dtypes   \r\n",
        "\r\n",
        "dt"
      ],
      "execution_count": 13,
      "outputs": [
        {
          "output_type": "execute_result",
          "data": {
            "text/html": [
              "<div>\n",
              "<style scoped>\n",
              "    .dataframe tbody tr th:only-of-type {\n",
              "        vertical-align: middle;\n",
              "    }\n",
              "\n",
              "    .dataframe tbody tr th {\n",
              "        vertical-align: top;\n",
              "    }\n",
              "\n",
              "    .dataframe thead th {\n",
              "        text-align: right;\n",
              "    }\n",
              "</style>\n",
              "<table border=\"1\" class=\"dataframe\">\n",
              "  <thead>\n",
              "    <tr style=\"text-align: right;\">\n",
              "      <th></th>\n",
              "      <th>UNIQUE</th>\n",
              "      <th>PERCENT_UNIQUE</th>\n",
              "      <th>ZEROS</th>\n",
              "      <th>PERCENT_ZEROS</th>\n",
              "      <th>NANS</th>\n",
              "      <th>PERCENT_NANS</th>\n",
              "      <th>DATA_TYPE</th>\n",
              "    </tr>\n",
              "  </thead>\n",
              "  <tbody>\n",
              "    <tr>\n",
              "      <th>id</th>\n",
              "      <td>35344</td>\n",
              "      <td>100</td>\n",
              "      <td>1</td>\n",
              "      <td>0.00282933</td>\n",
              "      <td>0</td>\n",
              "      <td>0</td>\n",
              "      <td>int64</td>\n",
              "    </tr>\n",
              "    <tr>\n",
              "      <th>product_rk</th>\n",
              "      <td>6</td>\n",
              "      <td>0.016976</td>\n",
              "      <td>0</td>\n",
              "      <td>0</td>\n",
              "      <td>0</td>\n",
              "      <td>0</td>\n",
              "      <td>int64</td>\n",
              "    </tr>\n",
              "    <tr>\n",
              "      <th>store_location_rk</th>\n",
              "      <td>41</td>\n",
              "      <td>0.116003</td>\n",
              "      <td>0</td>\n",
              "      <td>0</td>\n",
              "      <td>0</td>\n",
              "      <td>0</td>\n",
              "      <td>int64</td>\n",
              "    </tr>\n",
              "    <tr>\n",
              "      <th>period_start_dt</th>\n",
              "      <td>159</td>\n",
              "      <td>0.449864</td>\n",
              "      <td>0</td>\n",
              "      <td>0</td>\n",
              "      <td>0</td>\n",
              "      <td>0</td>\n",
              "      <td>datetime64[ns]</td>\n",
              "    </tr>\n",
              "    <tr>\n",
              "      <th>demand</th>\n",
              "      <td>1807</td>\n",
              "      <td>5.11261</td>\n",
              "      <td>5454</td>\n",
              "      <td>15.4312</td>\n",
              "      <td>1200</td>\n",
              "      <td>3.3952</td>\n",
              "      <td>float64</td>\n",
              "    </tr>\n",
              "    <tr>\n",
              "      <th>PROMO1_FLAG</th>\n",
              "      <td>4</td>\n",
              "      <td>0.0113173</td>\n",
              "      <td>28323</td>\n",
              "      <td>80.1352</td>\n",
              "      <td>185</td>\n",
              "      <td>0.523427</td>\n",
              "      <td>float64</td>\n",
              "    </tr>\n",
              "    <tr>\n",
              "      <th>PROMO2_FLAG</th>\n",
              "      <td>2</td>\n",
              "      <td>0.00565867</td>\n",
              "      <td>35159</td>\n",
              "      <td>99.4766</td>\n",
              "      <td>185</td>\n",
              "      <td>0.523427</td>\n",
              "      <td>float64</td>\n",
              "    </tr>\n",
              "    <tr>\n",
              "      <th>PRICE_REGULAR</th>\n",
              "      <td>230</td>\n",
              "      <td>0.650747</td>\n",
              "      <td>0</td>\n",
              "      <td>0</td>\n",
              "      <td>1127</td>\n",
              "      <td>3.18866</td>\n",
              "      <td>float64</td>\n",
              "    </tr>\n",
              "    <tr>\n",
              "      <th>PRICE_AFTER_DISC</th>\n",
              "      <td>1037</td>\n",
              "      <td>2.93402</td>\n",
              "      <td>0</td>\n",
              "      <td>0</td>\n",
              "      <td>1132</td>\n",
              "      <td>3.20281</td>\n",
              "      <td>float64</td>\n",
              "    </tr>\n",
              "    <tr>\n",
              "      <th>NUM_CONSULTANT</th>\n",
              "      <td>2</td>\n",
              "      <td>0.00565867</td>\n",
              "      <td>35159</td>\n",
              "      <td>99.4766</td>\n",
              "      <td>185</td>\n",
              "      <td>0.523427</td>\n",
              "      <td>float64</td>\n",
              "    </tr>\n",
              "    <tr>\n",
              "      <th>AUTORIZATION_FLAG</th>\n",
              "      <td>3</td>\n",
              "      <td>0.008488</td>\n",
              "      <td>3246</td>\n",
              "      <td>9.18402</td>\n",
              "      <td>185</td>\n",
              "      <td>0.523427</td>\n",
              "      <td>float64</td>\n",
              "    </tr>\n",
              "  </tbody>\n",
              "</table>\n",
              "</div>"
            ],
            "text/plain": [
              "                  UNIQUE PERCENT_UNIQUE  ... PERCENT_NANS       DATA_TYPE\n",
              "id                 35344            100  ...            0           int64\n",
              "product_rk             6       0.016976  ...            0           int64\n",
              "store_location_rk     41       0.116003  ...            0           int64\n",
              "period_start_dt      159       0.449864  ...            0  datetime64[ns]\n",
              "demand              1807        5.11261  ...       3.3952         float64\n",
              "PROMO1_FLAG            4      0.0113173  ...     0.523427         float64\n",
              "PROMO2_FLAG            2     0.00565867  ...     0.523427         float64\n",
              "PRICE_REGULAR        230       0.650747  ...      3.18866         float64\n",
              "PRICE_AFTER_DISC    1037        2.93402  ...      3.20281         float64\n",
              "NUM_CONSULTANT         2     0.00565867  ...     0.523427         float64\n",
              "AUTORIZATION_FLAG      3       0.008488  ...     0.523427         float64\n",
              "\n",
              "[11 rows x 7 columns]"
            ]
          },
          "metadata": {
            "tags": []
          },
          "execution_count": 13
        }
      ]
    },
    {
      "cell_type": "markdown",
      "metadata": {
        "id": "XPSpYntKXu4M"
      },
      "source": [
        "Признак NUM_CONSULTANT практически на 100 процентов состоит из 0, следовательно, он не несет никакой информации и его можно удалить из набора данных. \r\n",
        "\r\n",
        "PROMO2_FLAG состоит только из 0 и пропущенных, так что его тоже можно удалить.\r\n",
        "\r\n",
        "PROMO1_FLAG тоже в основном состоит из 0, но он может объяснить выбросы, так что эту переменную следует оставить.\r\n",
        "\r\n"
      ]
    },
    {
      "cell_type": "code",
      "metadata": {
        "colab": {
          "base_uri": "https://localhost:8080/"
        },
        "id": "EAP_BVMFE9jq",
        "outputId": "bf4a49ef-835f-45bb-d36d-debd0542ad16"
      },
      "source": [
        "data = data.drop('NUM_CONSULTANT', axis=1)\r\n",
        "data = data.drop('PROMO2_FLAG', axis=1)\r\n",
        "dt = dt.drop('NUM_CONSULTANT', axis=0)\r\n",
        "dt = dt.drop('PROMO2_FLAG', axis=0)\r\n",
        "data.shape"
      ],
      "execution_count": 14,
      "outputs": [
        {
          "output_type": "execute_result",
          "data": {
            "text/plain": [
              "(35344, 9)"
            ]
          },
          "metadata": {
            "tags": []
          },
          "execution_count": 14
        }
      ]
    },
    {
      "cell_type": "markdown",
      "metadata": {
        "id": "iely4P5uFPrP"
      },
      "source": [
        "Далее посмотрим на demand. У нее остаточно много нулей, нужно понять, нормально ли это."
      ]
    },
    {
      "cell_type": "code",
      "metadata": {
        "colab": {
          "base_uri": "https://localhost:8080/"
        },
        "id": "YIT7H431dCez",
        "outputId": "d4c44e4a-7e39-4915-b0b6-b4b0a1ab7da8"
      },
      "source": [
        "prod_list = data[data['demand'] == 0]['product_rk'].unique()\r\n",
        "prod_list"
      ],
      "execution_count": 15,
      "outputs": [
        {
          "output_type": "execute_result",
          "data": {
            "text/plain": [
              "array([46272, 40372, 96212, 40373, 40369, 40370])"
            ]
          },
          "metadata": {
            "tags": []
          },
          "execution_count": 15
        }
      ]
    },
    {
      "cell_type": "code",
      "metadata": {
        "colab": {
          "base_uri": "https://localhost:8080/",
          "height": 415
        },
        "id": "cOL1vhJN8mEI",
        "outputId": "72b847b0-1d42-4f2b-84ba-185d9460f3a8"
      },
      "source": [
        "for prod in prod_list:\r\n",
        "  y= data[data['product_rk'] == prod].groupby('period_start_dt', as_index=False)['demand'].sum()\r\n",
        "y"
      ],
      "execution_count": 16,
      "outputs": [
        {
          "output_type": "execute_result",
          "data": {
            "text/html": [
              "<div>\n",
              "<style scoped>\n",
              "    .dataframe tbody tr th:only-of-type {\n",
              "        vertical-align: middle;\n",
              "    }\n",
              "\n",
              "    .dataframe tbody tr th {\n",
              "        vertical-align: top;\n",
              "    }\n",
              "\n",
              "    .dataframe thead th {\n",
              "        text-align: right;\n",
              "    }\n",
              "</style>\n",
              "<table border=\"1\" class=\"dataframe\">\n",
              "  <thead>\n",
              "    <tr style=\"text-align: right;\">\n",
              "      <th></th>\n",
              "      <th>period_start_dt</th>\n",
              "      <th>demand</th>\n",
              "    </tr>\n",
              "  </thead>\n",
              "  <tbody>\n",
              "    <tr>\n",
              "      <th>0</th>\n",
              "      <td>2016-12-19</td>\n",
              "      <td>1736.000000</td>\n",
              "    </tr>\n",
              "    <tr>\n",
              "      <th>1</th>\n",
              "      <td>2016-12-26</td>\n",
              "      <td>3702.000000</td>\n",
              "    </tr>\n",
              "    <tr>\n",
              "      <th>2</th>\n",
              "      <td>2017-01-02</td>\n",
              "      <td>2443.529969</td>\n",
              "    </tr>\n",
              "    <tr>\n",
              "      <th>3</th>\n",
              "      <td>2017-01-09</td>\n",
              "      <td>590.000000</td>\n",
              "    </tr>\n",
              "    <tr>\n",
              "      <th>4</th>\n",
              "      <td>2017-01-16</td>\n",
              "      <td>512.797814</td>\n",
              "    </tr>\n",
              "    <tr>\n",
              "      <th>...</th>\n",
              "      <td>...</td>\n",
              "      <td>...</td>\n",
              "    </tr>\n",
              "    <tr>\n",
              "      <th>154</th>\n",
              "      <td>2019-12-02</td>\n",
              "      <td>0.000000</td>\n",
              "    </tr>\n",
              "    <tr>\n",
              "      <th>155</th>\n",
              "      <td>2019-12-09</td>\n",
              "      <td>0.000000</td>\n",
              "    </tr>\n",
              "    <tr>\n",
              "      <th>156</th>\n",
              "      <td>2019-12-16</td>\n",
              "      <td>0.000000</td>\n",
              "    </tr>\n",
              "    <tr>\n",
              "      <th>157</th>\n",
              "      <td>2019-12-23</td>\n",
              "      <td>0.000000</td>\n",
              "    </tr>\n",
              "    <tr>\n",
              "      <th>158</th>\n",
              "      <td>2019-12-30</td>\n",
              "      <td>0.000000</td>\n",
              "    </tr>\n",
              "  </tbody>\n",
              "</table>\n",
              "<p>159 rows × 2 columns</p>\n",
              "</div>"
            ],
            "text/plain": [
              "    period_start_dt       demand\n",
              "0        2016-12-19  1736.000000\n",
              "1        2016-12-26  3702.000000\n",
              "2        2017-01-02  2443.529969\n",
              "3        2017-01-09   590.000000\n",
              "4        2017-01-16   512.797814\n",
              "..              ...          ...\n",
              "154      2019-12-02     0.000000\n",
              "155      2019-12-09     0.000000\n",
              "156      2019-12-16     0.000000\n",
              "157      2019-12-23     0.000000\n",
              "158      2019-12-30     0.000000\n",
              "\n",
              "[159 rows x 2 columns]"
            ]
          },
          "metadata": {
            "tags": []
          },
          "execution_count": 16
        }
      ]
    },
    {
      "cell_type": "code",
      "metadata": {
        "colab": {
          "base_uri": "https://localhost:8080/",
          "height": 607
        },
        "id": "2kyk8EH4s99P",
        "outputId": "f459f622-885c-49f9-be64-e68416a0e6e7"
      },
      "source": [
        "r = 2\r\n",
        "c = 3\r\n",
        "fig, ax = plt.subplots(r, c, figsize = (c*5, r*5))\r\n",
        "\r\n",
        "i = 0\r\n",
        "j = 0\r\n",
        "\r\n",
        "for prod in prod_list:\r\n",
        "  y= data[(data['product_rk'] == prod) & (data['period_start_dt'].dt.year == 2019)].groupby('period_start_dt', as_index=False)['demand'].sum()\r\n",
        "  y = y[y['demand']<400]\r\n",
        "  if (i < r) & (j < c): \r\n",
        "    ax[i, j].plot(y['period_start_dt'].dt.month, y['demand'], color = 'turquoise')\r\n",
        "    ax[i, j].set_title(prod)\r\n",
        "    j += 1\r\n",
        "  elif (i < r) & (j == c):\r\n",
        "    j = 0\r\n",
        "    i += 1\r\n",
        "    ax[i, j].plot(y['period_start_dt'].dt.month, y['demand'], color = 'turquoise')\r\n",
        "    ax[i, j].set_title(prod)\r\n",
        "    j += 1\r\n",
        "  else:\r\n",
        "    print('ERROR')  \r\n",
        " \r\n",
        "plt.show()"
      ],
      "execution_count": 17,
      "outputs": [
        {
          "output_type": "display_data",
          "data": {
            "image/png": "[encoded data removed]",
            "text/plain": [
              "<Figure size 1080x720 with 6 Axes>"
            ]
          },
          "metadata": {
            "tags": [],
            "needs_background": "light"
          }
        }
      ]
    },
    {
      "cell_type": "code",
      "metadata": {
        "colab": {
          "base_uri": "https://localhost:8080/",
          "height": 607
        },
        "id": "INiOBkz1Dcx8",
        "outputId": "894d877f-7a82-4b88-cbbf-bfe4ff517b82"
      },
      "source": [
        "r = 2\r\n",
        "c = 3\r\n",
        "fig, ax = plt.subplots(r, c, figsize = (c*5, r*5))\r\n",
        "\r\n",
        "i = 0\r\n",
        "j = 0\r\n",
        "\r\n",
        "for prod in prod_list:\r\n",
        "  y= data[(data['product_rk'] == prod) ].groupby('period_start_dt', as_index=False)['demand'].sum()\r\n",
        "  y = y[y['demand']<3000]\r\n",
        "  if (i < r) & (j < c): \r\n",
        "    ax[i, j].plot(y['period_start_dt'], y['demand'], color = 'turquoise')\r\n",
        "    ax[i, j].set_title(prod)\r\n",
        "    j += 1\r\n",
        "  elif (i < r) & (j == c):\r\n",
        "    j = 0\r\n",
        "    i += 1\r\n",
        "    ax[i, j].plot(y['period_start_dt'], y['demand'], color = 'turquoise')\r\n",
        "    ax[i, j].set_title(prod)\r\n",
        "    j += 1\r\n",
        "  else:\r\n",
        "    print('ERROR')  \r\n",
        " \r\n",
        "plt.show()"
      ],
      "execution_count": 18,
      "outputs": [
        {
          "output_type": "display_data",
          "data": {
            "image/png": "[encoded data removed]",
            "text/plain": [
              "<Figure size 1080x720 with 6 Axes>"
            ]
          },
          "metadata": {
            "tags": [],
            "needs_background": "light"
          }
        }
      ]
    },
    {
      "cell_type": "code",
      "metadata": {
        "colab": {
          "base_uri": "https://localhost:8080/",
          "height": 711
        },
        "id": "ZGXhnniiGHL5",
        "outputId": "99ef29ff-c913-4b80-8dfe-a9adb936e994"
      },
      "source": [
        "r = 2\r\n",
        "c = 3\r\n",
        "pd = data[data['period_start_dt'].dt.year == 2019]\r\n",
        "fig, ax = plt.subplots(r, c, figsize = (c*5, r*5))\r\n",
        "means = {}\r\n",
        "\r\n",
        "i = 0\r\n",
        "j = 0\r\n",
        "\r\n",
        "for prod in prod_list:\r\n",
        "  y= data[(data['product_rk'] == prod) ].groupby('period_start_dt', as_index=False)['demand'].sum()\r\n",
        "  y = y[y['demand']<1000]\r\n",
        "  if (i < r) & (j < c): \r\n",
        "    means[prod] = y['demand'].mean()\r\n",
        "    ax[i, j].plot(y['period_start_dt'], y['demand'], color = 'turquoise')\r\n",
        "    ax[i, j].set_title(prod)\r\n",
        "    j += 1\r\n",
        "  elif (i < r) & (j == c):\r\n",
        "    j = 0\r\n",
        "    i += 1\r\n",
        "    means[prod] = y['demand'].mean()\r\n",
        "    ax[i, j].plot(y['period_start_dt'], y['demand'], color = 'turquoise')\r\n",
        "    ax[i, j].set_title(prod)\r\n",
        "    j += 1\r\n",
        "  else:\r\n",
        "    print('ERROR')  \r\n",
        " \r\n",
        "plt.show()\r\n",
        "means"
      ],
      "execution_count": 19,
      "outputs": [
        {
          "output_type": "display_data",
          "data": {
            "image/png": "[encoded data removed]",
            "text/plain": [
              "<Figure size 1080x720 with 6 Axes>"
            ]
          },
          "metadata": {
            "tags": [],
            "needs_background": "light"
          }
        },
        {
          "output_type": "execute_result",
          "data": {
            "text/plain": [
              "{40369: 307.4636600349653,\n",
              " 40370: 519.247791140845,\n",
              " 40372: 263.80649512666645,\n",
              " 40373: 181.8735214342104,\n",
              " 46272: 248.10640677848093,\n",
              " 96212: 298.6593751653543}"
            ]
          },
          "metadata": {
            "tags": []
          },
          "execution_count": 19
        }
      ]
    },
    {
      "cell_type": "markdown",
      "metadata": {
        "id": "xmpIcfzGFroi"
      },
      "source": [
        "Наблюдаются какие-то совершенно непонятные нули в 2019 году. Скорее всего это ошибки в данных и они будут мешать построению модели, поэтому их нужно заменить. Так как в данных есть выбросы, среднее сильно на них реагирует, поэтому заменим 0 средним значением без учета выбросов."
      ]
    },
    {
      "cell_type": "code",
      "metadata": {
        "colab": {
          "base_uri": "https://localhost:8080/",
          "height": 415
        },
        "id": "G0SCPjZXK5RZ",
        "outputId": "056f912c-c8a7-4c20-ea5f-8c4eb3b91a04"
      },
      "source": [
        "for i in data.index:\r\n",
        "\r\n",
        "  for key, value in means.items():\r\n",
        "    value = np.float64(value)\r\n",
        "\r\n",
        "    if (data.loc[i,'product_rk'] == key) & (data.loc[i, 'demand'] == 0):\r\n",
        "      data.loc[i, 'demand'] = value\r\n",
        "      i += 1\r\n",
        "      break\r\n",
        "\r\n",
        "data"
      ],
      "execution_count": 20,
      "outputs": [
        {
          "output_type": "execute_result",
          "data": {
            "text/html": [
              "<div>\n",
              "<style scoped>\n",
              "    .dataframe tbody tr th:only-of-type {\n",
              "        vertical-align: middle;\n",
              "    }\n",
              "\n",
              "    .dataframe tbody tr th {\n",
              "        vertical-align: top;\n",
              "    }\n",
              "\n",
              "    .dataframe thead th {\n",
              "        text-align: right;\n",
              "    }\n",
              "</style>\n",
              "<table border=\"1\" class=\"dataframe\">\n",
              "  <thead>\n",
              "    <tr style=\"text-align: right;\">\n",
              "      <th></th>\n",
              "      <th>id</th>\n",
              "      <th>product_rk</th>\n",
              "      <th>store_location_rk</th>\n",
              "      <th>period_start_dt</th>\n",
              "      <th>demand</th>\n",
              "      <th>PROMO1_FLAG</th>\n",
              "      <th>PRICE_REGULAR</th>\n",
              "      <th>PRICE_AFTER_DISC</th>\n",
              "      <th>AUTORIZATION_FLAG</th>\n",
              "    </tr>\n",
              "  </thead>\n",
              "  <tbody>\n",
              "    <tr>\n",
              "      <th>0</th>\n",
              "      <td>0</td>\n",
              "      <td>40369</td>\n",
              "      <td>309</td>\n",
              "      <td>2016-12-19</td>\n",
              "      <td>29.0</td>\n",
              "      <td>NaN</td>\n",
              "      <td>NaN</td>\n",
              "      <td>NaN</td>\n",
              "      <td>NaN</td>\n",
              "    </tr>\n",
              "    <tr>\n",
              "      <th>1</th>\n",
              "      <td>1</td>\n",
              "      <td>40370</td>\n",
              "      <td>309</td>\n",
              "      <td>2016-12-19</td>\n",
              "      <td>64.0</td>\n",
              "      <td>NaN</td>\n",
              "      <td>NaN</td>\n",
              "      <td>NaN</td>\n",
              "      <td>NaN</td>\n",
              "    </tr>\n",
              "    <tr>\n",
              "      <th>2</th>\n",
              "      <td>2</td>\n",
              "      <td>40372</td>\n",
              "      <td>309</td>\n",
              "      <td>2016-12-19</td>\n",
              "      <td>32.0</td>\n",
              "      <td>NaN</td>\n",
              "      <td>NaN</td>\n",
              "      <td>NaN</td>\n",
              "      <td>NaN</td>\n",
              "    </tr>\n",
              "    <tr>\n",
              "      <th>3</th>\n",
              "      <td>3</td>\n",
              "      <td>40373</td>\n",
              "      <td>309</td>\n",
              "      <td>2016-12-19</td>\n",
              "      <td>10.0</td>\n",
              "      <td>NaN</td>\n",
              "      <td>NaN</td>\n",
              "      <td>NaN</td>\n",
              "      <td>NaN</td>\n",
              "    </tr>\n",
              "    <tr>\n",
              "      <th>4</th>\n",
              "      <td>4</td>\n",
              "      <td>46272</td>\n",
              "      <td>309</td>\n",
              "      <td>2016-12-19</td>\n",
              "      <td>15.0</td>\n",
              "      <td>NaN</td>\n",
              "      <td>NaN</td>\n",
              "      <td>NaN</td>\n",
              "      <td>NaN</td>\n",
              "    </tr>\n",
              "    <tr>\n",
              "      <th>...</th>\n",
              "      <td>...</td>\n",
              "      <td>...</td>\n",
              "      <td>...</td>\n",
              "      <td>...</td>\n",
              "      <td>...</td>\n",
              "      <td>...</td>\n",
              "      <td>...</td>\n",
              "      <td>...</td>\n",
              "      <td>...</td>\n",
              "    </tr>\n",
              "    <tr>\n",
              "      <th>35339</th>\n",
              "      <td>35537</td>\n",
              "      <td>40370</td>\n",
              "      <td>1380</td>\n",
              "      <td>2019-12-30</td>\n",
              "      <td>NaN</td>\n",
              "      <td>0.0</td>\n",
              "      <td>1000.00</td>\n",
              "      <td>1000.0</td>\n",
              "      <td>1.0</td>\n",
              "    </tr>\n",
              "    <tr>\n",
              "      <th>35340</th>\n",
              "      <td>35538</td>\n",
              "      <td>40372</td>\n",
              "      <td>1380</td>\n",
              "      <td>2019-12-30</td>\n",
              "      <td>NaN</td>\n",
              "      <td>0.0</td>\n",
              "      <td>2000.00</td>\n",
              "      <td>2000.0</td>\n",
              "      <td>1.0</td>\n",
              "    </tr>\n",
              "    <tr>\n",
              "      <th>35341</th>\n",
              "      <td>35539</td>\n",
              "      <td>40373</td>\n",
              "      <td>1380</td>\n",
              "      <td>2019-12-30</td>\n",
              "      <td>NaN</td>\n",
              "      <td>0.0</td>\n",
              "      <td>3000.00</td>\n",
              "      <td>3000.0</td>\n",
              "      <td>1.0</td>\n",
              "    </tr>\n",
              "    <tr>\n",
              "      <th>35342</th>\n",
              "      <td>35540</td>\n",
              "      <td>46272</td>\n",
              "      <td>1380</td>\n",
              "      <td>2019-12-30</td>\n",
              "      <td>NaN</td>\n",
              "      <td>1.0</td>\n",
              "      <td>284.29</td>\n",
              "      <td>199.0</td>\n",
              "      <td>1.0</td>\n",
              "    </tr>\n",
              "    <tr>\n",
              "      <th>35343</th>\n",
              "      <td>35541</td>\n",
              "      <td>96212</td>\n",
              "      <td>1380</td>\n",
              "      <td>2019-12-30</td>\n",
              "      <td>NaN</td>\n",
              "      <td>1.0</td>\n",
              "      <td>141.43</td>\n",
              "      <td>99.0</td>\n",
              "      <td>1.0</td>\n",
              "    </tr>\n",
              "  </tbody>\n",
              "</table>\n",
              "<p>35344 rows × 9 columns</p>\n",
              "</div>"
            ],
            "text/plain": [
              "          id  product_rk  ...  PRICE_AFTER_DISC AUTORIZATION_FLAG\n",
              "0          0       40369  ...               NaN               NaN\n",
              "1          1       40370  ...               NaN               NaN\n",
              "2          2       40372  ...               NaN               NaN\n",
              "3          3       40373  ...               NaN               NaN\n",
              "4          4       46272  ...               NaN               NaN\n",
              "...      ...         ...  ...               ...               ...\n",
              "35339  35537       40370  ...            1000.0               1.0\n",
              "35340  35538       40372  ...            2000.0               1.0\n",
              "35341  35539       40373  ...            3000.0               1.0\n",
              "35342  35540       46272  ...             199.0               1.0\n",
              "35343  35541       96212  ...              99.0               1.0\n",
              "\n",
              "[35344 rows x 9 columns]"
            ]
          },
          "metadata": {
            "tags": []
          },
          "execution_count": 20
        }
      ]
    },
    {
      "cell_type": "markdown",
      "metadata": {
        "id": "sgRDxd6mO1Fi"
      },
      "source": [
        "Посмотрим, как изменилась картина по нулевым значениям спроса:"
      ]
    },
    {
      "cell_type": "code",
      "metadata": {
        "id": "yOARKmISO9Yg",
        "colab": {
          "base_uri": "https://localhost:8080/",
          "height": 325
        },
        "outputId": "0fc0f7f6-20e2-4e59-cc6a-0a5495f1818c"
      },
      "source": [
        "columns = [\"UNIQUE\", 'PERCENT_UNIQUE', 'ZEROS', 'PERCENT_ZEROS', 'NANS', 'PERCENT_NANS', 'DATA_TYPE']\r\n",
        "#dt = pd.DataFrame(index=data.columns, columns=columns)\r\n",
        "\r\n",
        "for col in data.columns:\r\n",
        "  dt.loc[col,\"UNIQUE\"] = len(data[col].unique())\r\n",
        "  dt.loc[col,\"PERCENT_UNIQUE\"] = dt.loc[col,\"UNIQUE\"]/len(data[col])*100\r\n",
        "  dt.loc[col,\"NANS\"] = np.sum(data[col].isnull())\r\n",
        "  dt.loc[col,\"PERCENT_NANS\"] = dt.loc[col,\"NANS\"]/len(data[col])*100\r\n",
        "  dt.loc[col,\"ZEROS\"] = (data[col] == 0).sum()\r\n",
        "  dt.loc[col,\"PERCENT_ZEROS\"] = dt.loc[col,\"ZEROS\"]/len(data[col])*100\r\n",
        "  dt[\"DATA_TYPE\"] = data.dtypes   \r\n",
        "\r\n",
        "dt"
      ],
      "execution_count": 21,
      "outputs": [
        {
          "output_type": "execute_result",
          "data": {
            "text/html": [
              "<div>\n",
              "<style scoped>\n",
              "    .dataframe tbody tr th:only-of-type {\n",
              "        vertical-align: middle;\n",
              "    }\n",
              "\n",
              "    .dataframe tbody tr th {\n",
              "        vertical-align: top;\n",
              "    }\n",
              "\n",
              "    .dataframe thead th {\n",
              "        text-align: right;\n",
              "    }\n",
              "</style>\n",
              "<table border=\"1\" class=\"dataframe\">\n",
              "  <thead>\n",
              "    <tr style=\"text-align: right;\">\n",
              "      <th></th>\n",
              "      <th>UNIQUE</th>\n",
              "      <th>PERCENT_UNIQUE</th>\n",
              "      <th>ZEROS</th>\n",
              "      <th>PERCENT_ZEROS</th>\n",
              "      <th>NANS</th>\n",
              "      <th>PERCENT_NANS</th>\n",
              "      <th>DATA_TYPE</th>\n",
              "    </tr>\n",
              "  </thead>\n",
              "  <tbody>\n",
              "    <tr>\n",
              "      <th>id</th>\n",
              "      <td>35344</td>\n",
              "      <td>100</td>\n",
              "      <td>1</td>\n",
              "      <td>0.00282933</td>\n",
              "      <td>0</td>\n",
              "      <td>0</td>\n",
              "      <td>int64</td>\n",
              "    </tr>\n",
              "    <tr>\n",
              "      <th>product_rk</th>\n",
              "      <td>6</td>\n",
              "      <td>0.016976</td>\n",
              "      <td>0</td>\n",
              "      <td>0</td>\n",
              "      <td>0</td>\n",
              "      <td>0</td>\n",
              "      <td>int64</td>\n",
              "    </tr>\n",
              "    <tr>\n",
              "      <th>store_location_rk</th>\n",
              "      <td>41</td>\n",
              "      <td>0.116003</td>\n",
              "      <td>0</td>\n",
              "      <td>0</td>\n",
              "      <td>0</td>\n",
              "      <td>0</td>\n",
              "      <td>int64</td>\n",
              "    </tr>\n",
              "    <tr>\n",
              "      <th>period_start_dt</th>\n",
              "      <td>159</td>\n",
              "      <td>0.449864</td>\n",
              "      <td>0</td>\n",
              "      <td>0</td>\n",
              "      <td>0</td>\n",
              "      <td>0</td>\n",
              "      <td>datetime64[ns]</td>\n",
              "    </tr>\n",
              "    <tr>\n",
              "      <th>demand</th>\n",
              "      <td>1812</td>\n",
              "      <td>5.12675</td>\n",
              "      <td>0</td>\n",
              "      <td>0</td>\n",
              "      <td>1200</td>\n",
              "      <td>3.3952</td>\n",
              "      <td>float64</td>\n",
              "    </tr>\n",
              "    <tr>\n",
              "      <th>PROMO1_FLAG</th>\n",
              "      <td>4</td>\n",
              "      <td>0.0113173</td>\n",
              "      <td>28323</td>\n",
              "      <td>80.1352</td>\n",
              "      <td>185</td>\n",
              "      <td>0.523427</td>\n",
              "      <td>float64</td>\n",
              "    </tr>\n",
              "    <tr>\n",
              "      <th>PRICE_REGULAR</th>\n",
              "      <td>230</td>\n",
              "      <td>0.650747</td>\n",
              "      <td>0</td>\n",
              "      <td>0</td>\n",
              "      <td>1127</td>\n",
              "      <td>3.18866</td>\n",
              "      <td>float64</td>\n",
              "    </tr>\n",
              "    <tr>\n",
              "      <th>PRICE_AFTER_DISC</th>\n",
              "      <td>1037</td>\n",
              "      <td>2.93402</td>\n",
              "      <td>0</td>\n",
              "      <td>0</td>\n",
              "      <td>1132</td>\n",
              "      <td>3.20281</td>\n",
              "      <td>float64</td>\n",
              "    </tr>\n",
              "    <tr>\n",
              "      <th>AUTORIZATION_FLAG</th>\n",
              "      <td>3</td>\n",
              "      <td>0.008488</td>\n",
              "      <td>3246</td>\n",
              "      <td>9.18402</td>\n",
              "      <td>185</td>\n",
              "      <td>0.523427</td>\n",
              "      <td>float64</td>\n",
              "    </tr>\n",
              "  </tbody>\n",
              "</table>\n",
              "</div>"
            ],
            "text/plain": [
              "                  UNIQUE PERCENT_UNIQUE  ... PERCENT_NANS       DATA_TYPE\n",
              "id                 35344            100  ...            0           int64\n",
              "product_rk             6       0.016976  ...            0           int64\n",
              "store_location_rk     41       0.116003  ...            0           int64\n",
              "period_start_dt      159       0.449864  ...            0  datetime64[ns]\n",
              "demand              1812        5.12675  ...       3.3952         float64\n",
              "PROMO1_FLAG            4      0.0113173  ...     0.523427         float64\n",
              "PRICE_REGULAR        230       0.650747  ...      3.18866         float64\n",
              "PRICE_AFTER_DISC    1037        2.93402  ...      3.20281         float64\n",
              "AUTORIZATION_FLAG      3       0.008488  ...     0.523427         float64\n",
              "\n",
              "[9 rows x 7 columns]"
            ]
          },
          "metadata": {
            "tags": []
          },
          "execution_count": 21
        }
      ]
    },
    {
      "cell_type": "markdown",
      "metadata": {
        "id": "f6SrfsEiPgIa"
      },
      "source": [
        "Все, в перепенной demand не осталось странных нулевых значений, а пропущенные значения в нем, как выяснилось ранее - это как раз то, что нам нужно предсказать.\r\n",
        "\r\n",
        "Далее нужно разобраться с пропущенными значениями переменной PROCE_REGULAR. Их хоть и не много в процентном соотношении, однако они могут быть в декабре, а это значимые наблюдения, если наблюдается цикличность."
      ]
    },
    {
      "cell_type": "code",
      "metadata": {
        "colab": {
          "base_uri": "https://localhost:8080/",
          "height": 415
        },
        "id": "wEfdgLPlY1Ep",
        "outputId": "cc0228d6-6659-4e52-b15b-56340fcd8108"
      },
      "source": [
        "data[data['PRICE_REGULAR'].isnull() ]\r\n"
      ],
      "execution_count": 22,
      "outputs": [
        {
          "output_type": "execute_result",
          "data": {
            "text/html": [
              "<div>\n",
              "<style scoped>\n",
              "    .dataframe tbody tr th:only-of-type {\n",
              "        vertical-align: middle;\n",
              "    }\n",
              "\n",
              "    .dataframe tbody tr th {\n",
              "        vertical-align: top;\n",
              "    }\n",
              "\n",
              "    .dataframe thead th {\n",
              "        text-align: right;\n",
              "    }\n",
              "</style>\n",
              "<table border=\"1\" class=\"dataframe\">\n",
              "  <thead>\n",
              "    <tr style=\"text-align: right;\">\n",
              "      <th></th>\n",
              "      <th>id</th>\n",
              "      <th>product_rk</th>\n",
              "      <th>store_location_rk</th>\n",
              "      <th>period_start_dt</th>\n",
              "      <th>demand</th>\n",
              "      <th>PROMO1_FLAG</th>\n",
              "      <th>PRICE_REGULAR</th>\n",
              "      <th>PRICE_AFTER_DISC</th>\n",
              "      <th>AUTORIZATION_FLAG</th>\n",
              "    </tr>\n",
              "  </thead>\n",
              "  <tbody>\n",
              "    <tr>\n",
              "      <th>0</th>\n",
              "      <td>0</td>\n",
              "      <td>40369</td>\n",
              "      <td>309</td>\n",
              "      <td>2016-12-19</td>\n",
              "      <td>29.000000</td>\n",
              "      <td>NaN</td>\n",
              "      <td>NaN</td>\n",
              "      <td>NaN</td>\n",
              "      <td>NaN</td>\n",
              "    </tr>\n",
              "    <tr>\n",
              "      <th>1</th>\n",
              "      <td>1</td>\n",
              "      <td>40370</td>\n",
              "      <td>309</td>\n",
              "      <td>2016-12-19</td>\n",
              "      <td>64.000000</td>\n",
              "      <td>NaN</td>\n",
              "      <td>NaN</td>\n",
              "      <td>NaN</td>\n",
              "      <td>NaN</td>\n",
              "    </tr>\n",
              "    <tr>\n",
              "      <th>2</th>\n",
              "      <td>2</td>\n",
              "      <td>40372</td>\n",
              "      <td>309</td>\n",
              "      <td>2016-12-19</td>\n",
              "      <td>32.000000</td>\n",
              "      <td>NaN</td>\n",
              "      <td>NaN</td>\n",
              "      <td>NaN</td>\n",
              "      <td>NaN</td>\n",
              "    </tr>\n",
              "    <tr>\n",
              "      <th>3</th>\n",
              "      <td>3</td>\n",
              "      <td>40373</td>\n",
              "      <td>309</td>\n",
              "      <td>2016-12-19</td>\n",
              "      <td>10.000000</td>\n",
              "      <td>NaN</td>\n",
              "      <td>NaN</td>\n",
              "      <td>NaN</td>\n",
              "      <td>NaN</td>\n",
              "    </tr>\n",
              "    <tr>\n",
              "      <th>4</th>\n",
              "      <td>4</td>\n",
              "      <td>46272</td>\n",
              "      <td>309</td>\n",
              "      <td>2016-12-19</td>\n",
              "      <td>15.000000</td>\n",
              "      <td>NaN</td>\n",
              "      <td>NaN</td>\n",
              "      <td>NaN</td>\n",
              "      <td>NaN</td>\n",
              "    </tr>\n",
              "    <tr>\n",
              "      <th>...</th>\n",
              "      <td>...</td>\n",
              "      <td>...</td>\n",
              "      <td>...</td>\n",
              "      <td>...</td>\n",
              "      <td>...</td>\n",
              "      <td>...</td>\n",
              "      <td>...</td>\n",
              "      <td>...</td>\n",
              "      <td>...</td>\n",
              "    </tr>\n",
              "    <tr>\n",
              "      <th>30477</th>\n",
              "      <td>30640</td>\n",
              "      <td>40373</td>\n",
              "      <td>1281</td>\n",
              "      <td>2016-12-19</td>\n",
              "      <td>46.000000</td>\n",
              "      <td>NaN</td>\n",
              "      <td>NaN</td>\n",
              "      <td>NaN</td>\n",
              "      <td>NaN</td>\n",
              "    </tr>\n",
              "    <tr>\n",
              "      <th>30478</th>\n",
              "      <td>30641</td>\n",
              "      <td>46272</td>\n",
              "      <td>1281</td>\n",
              "      <td>2016-12-19</td>\n",
              "      <td>55.000000</td>\n",
              "      <td>NaN</td>\n",
              "      <td>NaN</td>\n",
              "      <td>NaN</td>\n",
              "      <td>NaN</td>\n",
              "    </tr>\n",
              "    <tr>\n",
              "      <th>35019</th>\n",
              "      <td>35217</td>\n",
              "      <td>40369</td>\n",
              "      <td>1380</td>\n",
              "      <td>2018-12-17</td>\n",
              "      <td>307.463660</td>\n",
              "      <td>0.0</td>\n",
              "      <td>NaN</td>\n",
              "      <td>NaN</td>\n",
              "      <td>0.0</td>\n",
              "    </tr>\n",
              "    <tr>\n",
              "      <th>35021</th>\n",
              "      <td>35219</td>\n",
              "      <td>40372</td>\n",
              "      <td>1380</td>\n",
              "      <td>2018-12-17</td>\n",
              "      <td>263.806495</td>\n",
              "      <td>0.0</td>\n",
              "      <td>NaN</td>\n",
              "      <td>NaN</td>\n",
              "      <td>0.0</td>\n",
              "    </tr>\n",
              "    <tr>\n",
              "      <th>35022</th>\n",
              "      <td>35220</td>\n",
              "      <td>40373</td>\n",
              "      <td>1380</td>\n",
              "      <td>2018-12-17</td>\n",
              "      <td>181.873521</td>\n",
              "      <td>0.0</td>\n",
              "      <td>NaN</td>\n",
              "      <td>NaN</td>\n",
              "      <td>0.0</td>\n",
              "    </tr>\n",
              "  </tbody>\n",
              "</table>\n",
              "<p>1127 rows × 9 columns</p>\n",
              "</div>"
            ],
            "text/plain": [
              "          id  product_rk  ...  PRICE_AFTER_DISC AUTORIZATION_FLAG\n",
              "0          0       40369  ...               NaN               NaN\n",
              "1          1       40370  ...               NaN               NaN\n",
              "2          2       40372  ...               NaN               NaN\n",
              "3          3       40373  ...               NaN               NaN\n",
              "4          4       46272  ...               NaN               NaN\n",
              "...      ...         ...  ...               ...               ...\n",
              "30477  30640       40373  ...               NaN               NaN\n",
              "30478  30641       46272  ...               NaN               NaN\n",
              "35019  35217       40369  ...               NaN               0.0\n",
              "35021  35219       40372  ...               NaN               0.0\n",
              "35022  35220       40373  ...               NaN               0.0\n",
              "\n",
              "[1127 rows x 9 columns]"
            ]
          },
          "metadata": {
            "tags": []
          },
          "execution_count": 22
        }
      ]
    },
    {
      "cell_type": "code",
      "metadata": {
        "colab": {
          "base_uri": "https://localhost:8080/"
        },
        "id": "5IjvcXrQkVFb",
        "outputId": "50a90684-f656-4b93-df5a-6acf76305246"
      },
      "source": [
        "data['AUTORIZATION_FLAG'].unique()\r\n"
      ],
      "execution_count": 23,
      "outputs": [
        {
          "output_type": "execute_result",
          "data": {
            "text/plain": [
              "array([nan,  1.,  0.])"
            ]
          },
          "metadata": {
            "tags": []
          },
          "execution_count": 23
        }
      ]
    },
    {
      "cell_type": "markdown",
      "metadata": {
        "id": "cnOjAx6FRHt7"
      },
      "source": [
        "Так оно и есть, пропуски выпали на декабрь 16 года. \r\n",
        "\r\n",
        "Так как промо на нашем наборе данных не популярны и по большей части состоят из 0, пропущенныезначения по этой переменной можно смело заменять  на 0. Переменная AUTORIZATION_FLAG состоит в основном из 1, так что заменим пропуски на 1. Так как считаем, что промо не было, то запишем PRICE_AFTER_DISC равной PRICE_REGULAR.\r\n",
        "\r\n",
        "Остается понять, как заполнить PRICE_REGULAR."
      ]
    },
    {
      "cell_type": "code",
      "metadata": {
        "colab": {
          "base_uri": "https://localhost:8080/",
          "height": 1000
        },
        "id": "1QM9Gk5Prums",
        "outputId": "9f335900-4066-4eb4-885b-08f8c5c4a28b"
      },
      "source": [
        "r = 6\r\n",
        "c = 3\r\n",
        "fig, ax = plt.subplots(r, c, figsize = (c*5, r*5))\r\n",
        "#means = {}\r\n",
        "\r\n",
        "i = 0\r\n",
        "j = 0\r\n",
        "\r\n",
        "year = [2017, 2018, 2019]\r\n",
        "\r\n",
        "for yr in range(len(year)):\r\n",
        "  for prod in prod_list:\r\n",
        "    y= data[(data['product_rk'] == prod) & (data['period_start_dt'].dt.year == year[yr]) ].groupby('period_start_dt', as_index=False)['PRICE_REGULAR'].sum()\r\n",
        "    #y = y[y['demand']<1000]\r\n",
        "    if (i < r) & (j < c): \r\n",
        "  #   means[prod] = y['demand'].mean()\r\n",
        "      ax[i, j].plot(y['period_start_dt'].dt.month, y['PRICE_REGULAR'], color = 'turquoise')\r\n",
        "      ax[i, j].set_title(prod)\r\n",
        "      j += 1\r\n",
        "    elif (i < r) & (j == c):\r\n",
        "      j = 0\r\n",
        "      i += 1\r\n",
        "  #   means[prod] = y['demand'].mean()\r\n",
        "      ax[i, j].plot(y['period_start_dt'].dt.month, y['PRICE_REGULAR'], color = 'turquoise')\r\n",
        "      ax[i, j].set_title(prod)\r\n",
        "      j += 1\r\n",
        "    else:\r\n",
        "      print('ERROR')  \r\n",
        "    \r\n",
        "  yr += 1\r\n",
        " \r\n",
        "plt.show()\r\n",
        "#means"
      ],
      "execution_count": 24,
      "outputs": [
        {
          "output_type": "display_data",
          "data": {
            "image/png": "[encoded data removed]",
            "text/plain": [
              "<Figure size 1080x2160 with 18 Axes>"
            ]
          },
          "metadata": {
            "tags": [],
            "needs_background": "light"
          }
        }
      ]
    },
    {
      "cell_type": "markdown",
      "metadata": {
        "id": "Fwu41c-fvOXQ"
      },
      "source": [
        "Согласно графикам, значения декабря практически по каждому товару всегда примерно равно значениям января. В 2019 году с ценами происходит что-то странное. Заполним ропуски цен в 2016 году январем 2017.\r\n"
      ]
    },
    {
      "cell_type": "code",
      "metadata": {
        "colab": {
          "base_uri": "https://localhost:8080/",
          "height": 49
        },
        "id": "37O5x4krzlcr",
        "outputId": "d74ab275-f1e9-4fa2-f577-9e55dcb2bde9"
      },
      "source": [
        "data[(data['period_start_dt'] == '2017-01-09')&(data['PRICE_REGULAR'].isnull())]"
      ],
      "execution_count": 59,
      "outputs": [
        {
          "output_type": "execute_result",
          "data": {
            "text/html": [
              "<div>\n",
              "<style scoped>\n",
              "    .dataframe tbody tr th:only-of-type {\n",
              "        vertical-align: middle;\n",
              "    }\n",
              "\n",
              "    .dataframe tbody tr th {\n",
              "        vertical-align: top;\n",
              "    }\n",
              "\n",
              "    .dataframe thead th {\n",
              "        text-align: right;\n",
              "    }\n",
              "</style>\n",
              "<table border=\"1\" class=\"dataframe\">\n",
              "  <thead>\n",
              "    <tr style=\"text-align: right;\">\n",
              "      <th></th>\n",
              "      <th>id</th>\n",
              "      <th>product_rk</th>\n",
              "      <th>store_location_rk</th>\n",
              "      <th>period_start_dt</th>\n",
              "      <th>demand</th>\n",
              "      <th>PROMO1_FLAG</th>\n",
              "      <th>PRICE_REGULAR</th>\n",
              "      <th>PRICE_AFTER_DISC</th>\n",
              "      <th>AUTORIZATION_FLAG</th>\n",
              "    </tr>\n",
              "  </thead>\n",
              "  <tbody>\n",
              "  </tbody>\n",
              "</table>\n",
              "</div>"
            ],
            "text/plain": [
              "Empty DataFrame\n",
              "Columns: [id, product_rk, store_location_rk, period_start_dt, demand, PROMO1_FLAG, PRICE_REGULAR, PRICE_AFTER_DISC, AUTORIZATION_FLAG]\n",
              "Index: []"
            ]
          },
          "metadata": {
            "tags": []
          },
          "execution_count": 59
        }
      ]
    },
    {
      "cell_type": "code",
      "metadata": {
        "id": "evSHbAAayUgb"
      },
      "source": [
        "for i in data[data['period_start_dt'].dt.year == 2016].index:\r\n",
        "  if (str(data.loc[i,'PRICE_REGULAR']) == 'nan'):\r\n",
        "    v = data[(data['store_location_rk'] == data.loc[i,'store_location_rk']) & (data['product_rk'] == data.loc[i,'product_rk']) & (data['period_start_dt'] == '2017-01-02')]['PRICE_REGULAR'].tolist()[0]\r\n",
        "    if (str(v) == 'nan'):\r\n",
        "      data.loc[i,'PRICE_REGULAR'] = v\r\n",
        "    else:\r\n",
        "      data.loc[i,'PRICE_REGULAR'] = data[(data['store_location_rk'] == data.loc[i,'store_location_rk']) & (data['product_rk'] == data.loc[i,'product_rk']) & (data['period_start_dt'] == '2017-01-09')]['PRICE_REGULAR'].tolist()[0]\r\n",
        "\r\n",
        "\r\n",
        "\r\n"
      ],
      "execution_count": 60,
      "outputs": []
    },
    {
      "cell_type": "markdown",
      "metadata": {
        "id": "PwPtWrRj467A"
      },
      "source": [
        "Посмотрим, что получилось:\r\n"
      ]
    },
    {
      "cell_type": "code",
      "metadata": {
        "colab": {
          "base_uri": "https://localhost:8080/",
          "height": 325
        },
        "id": "xNywlriY4_hf",
        "outputId": "576084b7-0ed3-461e-a3db-b7332c87c91c"
      },
      "source": [
        "columns = [\"UNIQUE\", 'PERCENT_UNIQUE', 'ZEROS', 'PERCENT_ZEROS', 'NANS', 'PERCENT_NANS', 'DATA_TYPE']\r\n",
        "#dt = pd.DataFrame(index=data.columns, columns=columns)\r\n",
        "\r\n",
        "for col in data.columns:\r\n",
        "  dt.loc[col,\"UNIQUE\"] = len(data[col].unique())\r\n",
        "  dt.loc[col,\"PERCENT_UNIQUE\"] = dt.loc[col,\"UNIQUE\"]/len(data[col])*100\r\n",
        "  dt.loc[col,\"NANS\"] = np.sum(data[col].isnull())\r\n",
        "  dt.loc[col,\"PERCENT_NANS\"] = dt.loc[col,\"NANS\"]/len(data[col])*100\r\n",
        "  dt.loc[col,\"ZEROS\"] = (data[col] == 0).sum()\r\n",
        "  dt.loc[col,\"PERCENT_ZEROS\"] = dt.loc[col,\"ZEROS\"]/len(data[col])*100\r\n",
        "  dt[\"DATA_TYPE\"] = data.dtypes   \r\n",
        "\r\n",
        "dt"
      ],
      "execution_count": 98,
      "outputs": [
        {
          "output_type": "execute_result",
          "data": {
            "text/html": [
              "<div>\n",
              "<style scoped>\n",
              "    .dataframe tbody tr th:only-of-type {\n",
              "        vertical-align: middle;\n",
              "    }\n",
              "\n",
              "    .dataframe tbody tr th {\n",
              "        vertical-align: top;\n",
              "    }\n",
              "\n",
              "    .dataframe thead th {\n",
              "        text-align: right;\n",
              "    }\n",
              "</style>\n",
              "<table border=\"1\" class=\"dataframe\">\n",
              "  <thead>\n",
              "    <tr style=\"text-align: right;\">\n",
              "      <th></th>\n",
              "      <th>UNIQUE</th>\n",
              "      <th>PERCENT_UNIQUE</th>\n",
              "      <th>ZEROS</th>\n",
              "      <th>PERCENT_ZEROS</th>\n",
              "      <th>NANS</th>\n",
              "      <th>PERCENT_NANS</th>\n",
              "      <th>DATA_TYPE</th>\n",
              "    </tr>\n",
              "  </thead>\n",
              "  <tbody>\n",
              "    <tr>\n",
              "      <th>id</th>\n",
              "      <td>35329</td>\n",
              "      <td>100</td>\n",
              "      <td>0</td>\n",
              "      <td>0</td>\n",
              "      <td>0</td>\n",
              "      <td>0</td>\n",
              "      <td>int64</td>\n",
              "    </tr>\n",
              "    <tr>\n",
              "      <th>product_rk</th>\n",
              "      <td>6</td>\n",
              "      <td>0.0169832</td>\n",
              "      <td>0</td>\n",
              "      <td>0</td>\n",
              "      <td>0</td>\n",
              "      <td>0</td>\n",
              "      <td>int64</td>\n",
              "    </tr>\n",
              "    <tr>\n",
              "      <th>store_location_rk</th>\n",
              "      <td>40</td>\n",
              "      <td>0.113221</td>\n",
              "      <td>0</td>\n",
              "      <td>0</td>\n",
              "      <td>0</td>\n",
              "      <td>0</td>\n",
              "      <td>int64</td>\n",
              "    </tr>\n",
              "    <tr>\n",
              "      <th>period_start_dt</th>\n",
              "      <td>159</td>\n",
              "      <td>0.450055</td>\n",
              "      <td>0</td>\n",
              "      <td>0</td>\n",
              "      <td>0</td>\n",
              "      <td>0</td>\n",
              "      <td>datetime64[ns]</td>\n",
              "    </tr>\n",
              "    <tr>\n",
              "      <th>demand</th>\n",
              "      <td>1811</td>\n",
              "      <td>5.1261</td>\n",
              "      <td>0</td>\n",
              "      <td>0</td>\n",
              "      <td>1200</td>\n",
              "      <td>3.39664</td>\n",
              "      <td>float64</td>\n",
              "    </tr>\n",
              "    <tr>\n",
              "      <th>PROMO1_FLAG</th>\n",
              "      <td>4</td>\n",
              "      <td>0.0113221</td>\n",
              "      <td>28323</td>\n",
              "      <td>80.1693</td>\n",
              "      <td>170</td>\n",
              "      <td>0.481191</td>\n",
              "      <td>float64</td>\n",
              "    </tr>\n",
              "    <tr>\n",
              "      <th>PRICE_REGULAR</th>\n",
              "      <td>230</td>\n",
              "      <td>0.651023</td>\n",
              "      <td>0</td>\n",
              "      <td>0</td>\n",
              "      <td>942</td>\n",
              "      <td>2.66636</td>\n",
              "      <td>float64</td>\n",
              "    </tr>\n",
              "    <tr>\n",
              "      <th>PRICE_AFTER_DISC</th>\n",
              "      <td>1037</td>\n",
              "      <td>2.93527</td>\n",
              "      <td>0</td>\n",
              "      <td>0</td>\n",
              "      <td>1117</td>\n",
              "      <td>3.16171</td>\n",
              "      <td>float64</td>\n",
              "    </tr>\n",
              "    <tr>\n",
              "      <th>AUTORIZATION_FLAG</th>\n",
              "      <td>3</td>\n",
              "      <td>0.00849161</td>\n",
              "      <td>3246</td>\n",
              "      <td>9.18792</td>\n",
              "      <td>170</td>\n",
              "      <td>0.481191</td>\n",
              "      <td>float64</td>\n",
              "    </tr>\n",
              "  </tbody>\n",
              "</table>\n",
              "</div>"
            ],
            "text/plain": [
              "                  UNIQUE PERCENT_UNIQUE  ... PERCENT_NANS       DATA_TYPE\n",
              "id                 35329            100  ...            0           int64\n",
              "product_rk             6      0.0169832  ...            0           int64\n",
              "store_location_rk     40       0.113221  ...            0           int64\n",
              "period_start_dt      159       0.450055  ...            0  datetime64[ns]\n",
              "demand              1811         5.1261  ...      3.39664         float64\n",
              "PROMO1_FLAG            4      0.0113221  ...     0.481191         float64\n",
              "PRICE_REGULAR        230       0.651023  ...      2.66636         float64\n",
              "PRICE_AFTER_DISC    1037        2.93527  ...      3.16171         float64\n",
              "AUTORIZATION_FLAG      3     0.00849161  ...     0.481191         float64\n",
              "\n",
              "[9 rows x 7 columns]"
            ]
          },
          "metadata": {
            "tags": []
          },
          "execution_count": 98
        }
      ]
    },
    {
      "cell_type": "code",
      "metadata": {
        "id": "DGZxP9AT7Rtl"
      },
      "source": [
        "data19 = data[data['period_start_dt'].dt.year == 2019]\r\n",
        "data18 = data[data['period_start_dt'].dt.year == 2018]\r\n",
        "data17 = data[data['period_start_dt'].dt.year == 2017]\r\n",
        "    "
      ],
      "execution_count": 91,
      "outputs": []
    },
    {
      "cell_type": "code",
      "metadata": {
        "colab": {
          "base_uri": "https://localhost:8080/",
          "height": 69
        },
        "id": "HszgXSsu9c-R",
        "outputId": "4013d40e-3c51-4a33-caf5-1f6855089ecd"
      },
      "source": [
        "me = (data19.merge(data17, how='outer', on=['product_rk','store_location_rk'], \r\n",
        "              suffixes=['', '_new'], indicator=True))\r\n",
        "only2 = me[me['_merge']  == 'right_only']\r\n",
        "only2"
      ],
      "execution_count": 92,
      "outputs": [
        {
          "output_type": "execute_result",
          "data": {
            "text/html": [
              "<div>\n",
              "<style scoped>\n",
              "    .dataframe tbody tr th:only-of-type {\n",
              "        vertical-align: middle;\n",
              "    }\n",
              "\n",
              "    .dataframe tbody tr th {\n",
              "        vertical-align: top;\n",
              "    }\n",
              "\n",
              "    .dataframe thead th {\n",
              "        text-align: right;\n",
              "    }\n",
              "</style>\n",
              "<table border=\"1\" class=\"dataframe\">\n",
              "  <thead>\n",
              "    <tr style=\"text-align: right;\">\n",
              "      <th></th>\n",
              "      <th>id</th>\n",
              "      <th>product_rk</th>\n",
              "      <th>store_location_rk</th>\n",
              "      <th>period_start_dt</th>\n",
              "      <th>demand</th>\n",
              "      <th>PROMO1_FLAG</th>\n",
              "      <th>PRICE_REGULAR</th>\n",
              "      <th>PRICE_AFTER_DISC</th>\n",
              "      <th>AUTORIZATION_FLAG</th>\n",
              "      <th>id_new</th>\n",
              "      <th>period_start_dt_new</th>\n",
              "      <th>demand_new</th>\n",
              "      <th>PROMO1_FLAG_new</th>\n",
              "      <th>PRICE_REGULAR_new</th>\n",
              "      <th>PRICE_AFTER_DISC_new</th>\n",
              "      <th>AUTORIZATION_FLAG_new</th>\n",
              "      <th>_merge</th>\n",
              "    </tr>\n",
              "  </thead>\n",
              "  <tbody>\n",
              "  </tbody>\n",
              "</table>\n",
              "</div>"
            ],
            "text/plain": [
              "Empty DataFrame\n",
              "Columns: [id, product_rk, store_location_rk, period_start_dt, demand, PROMO1_FLAG, PRICE_REGULAR, PRICE_AFTER_DISC, AUTORIZATION_FLAG, id_new, period_start_dt_new, demand_new, PROMO1_FLAG_new, PRICE_REGULAR_new, PRICE_AFTER_DISC_new, AUTORIZATION_FLAG_new, _merge]\n",
              "Index: []"
            ]
          },
          "metadata": {
            "tags": []
          },
          "execution_count": 92
        }
      ]
    },
    {
      "cell_type": "code",
      "metadata": {
        "colab": {
          "base_uri": "https://localhost:8080/",
          "height": 202
        },
        "id": "1Ycl1LH79gh1",
        "outputId": "faec6959-1e96-41c2-c079-9c6f62d8c27d"
      },
      "source": [
        "data[(data['store_location_rk'] == 309)   ].tail()"
      ],
      "execution_count": 88,
      "outputs": [
        {
          "output_type": "execute_result",
          "data": {
            "text/html": [
              "<div>\n",
              "<style scoped>\n",
              "    .dataframe tbody tr th:only-of-type {\n",
              "        vertical-align: middle;\n",
              "    }\n",
              "\n",
              "    .dataframe tbody tr th {\n",
              "        vertical-align: top;\n",
              "    }\n",
              "\n",
              "    .dataframe thead th {\n",
              "        text-align: right;\n",
              "    }\n",
              "</style>\n",
              "<table border=\"1\" class=\"dataframe\">\n",
              "  <thead>\n",
              "    <tr style=\"text-align: right;\">\n",
              "      <th></th>\n",
              "      <th>id</th>\n",
              "      <th>product_rk</th>\n",
              "      <th>store_location_rk</th>\n",
              "      <th>period_start_dt</th>\n",
              "      <th>demand</th>\n",
              "      <th>PROMO1_FLAG</th>\n",
              "      <th>PRICE_REGULAR</th>\n",
              "      <th>PRICE_AFTER_DISC</th>\n",
              "      <th>AUTORIZATION_FLAG</th>\n",
              "    </tr>\n",
              "  </thead>\n",
              "  <tbody>\n",
              "    <tr>\n",
              "      <th>10</th>\n",
              "      <td>10</td>\n",
              "      <td>40369</td>\n",
              "      <td>309</td>\n",
              "      <td>2017-01-02</td>\n",
              "      <td>50.0</td>\n",
              "      <td>NaN</td>\n",
              "      <td>NaN</td>\n",
              "      <td>NaN</td>\n",
              "      <td>NaN</td>\n",
              "    </tr>\n",
              "    <tr>\n",
              "      <th>11</th>\n",
              "      <td>11</td>\n",
              "      <td>40370</td>\n",
              "      <td>309</td>\n",
              "      <td>2017-01-02</td>\n",
              "      <td>70.0</td>\n",
              "      <td>NaN</td>\n",
              "      <td>NaN</td>\n",
              "      <td>NaN</td>\n",
              "      <td>NaN</td>\n",
              "    </tr>\n",
              "    <tr>\n",
              "      <th>12</th>\n",
              "      <td>12</td>\n",
              "      <td>40372</td>\n",
              "      <td>309</td>\n",
              "      <td>2017-01-02</td>\n",
              "      <td>30.0</td>\n",
              "      <td>NaN</td>\n",
              "      <td>NaN</td>\n",
              "      <td>NaN</td>\n",
              "      <td>NaN</td>\n",
              "    </tr>\n",
              "    <tr>\n",
              "      <th>13</th>\n",
              "      <td>13</td>\n",
              "      <td>40373</td>\n",
              "      <td>309</td>\n",
              "      <td>2017-01-02</td>\n",
              "      <td>42.0</td>\n",
              "      <td>NaN</td>\n",
              "      <td>NaN</td>\n",
              "      <td>NaN</td>\n",
              "      <td>NaN</td>\n",
              "    </tr>\n",
              "    <tr>\n",
              "      <th>14</th>\n",
              "      <td>14</td>\n",
              "      <td>46272</td>\n",
              "      <td>309</td>\n",
              "      <td>2017-01-02</td>\n",
              "      <td>13.0</td>\n",
              "      <td>NaN</td>\n",
              "      <td>NaN</td>\n",
              "      <td>NaN</td>\n",
              "      <td>NaN</td>\n",
              "    </tr>\n",
              "  </tbody>\n",
              "</table>\n",
              "</div>"
            ],
            "text/plain": [
              "    id  product_rk  ...  PRICE_AFTER_DISC AUTORIZATION_FLAG\n",
              "10  10       40369  ...               NaN               NaN\n",
              "11  11       40370  ...               NaN               NaN\n",
              "12  12       40372  ...               NaN               NaN\n",
              "13  13       40373  ...               NaN               NaN\n",
              "14  14       46272  ...               NaN               NaN\n",
              "\n",
              "[5 rows x 9 columns]"
            ]
          },
          "metadata": {
            "tags": []
          },
          "execution_count": 88
        }
      ]
    },
    {
      "cell_type": "markdown",
      "metadata": {
        "id": "8r13S7TgAi2A"
      },
      "source": [
        "309 магазина нет в 2019 году, его можно удалить из выборки.\r\n"
      ]
    },
    {
      "cell_type": "code",
      "metadata": {
        "colab": {
          "base_uri": "https://localhost:8080/"
        },
        "id": "QKcg1uyVAr-s",
        "outputId": "f7961697-8dfa-4175-eb4c-56b4d63324ec"
      },
      "source": [
        "data = data[(data['store_location_rk'] != 309)  ]\r\n",
        "data.shape"
      ],
      "execution_count": 89,
      "outputs": [
        {
          "output_type": "execute_result",
          "data": {
            "text/plain": [
              "(35329, 9)"
            ]
          },
          "metadata": {
            "tags": []
          },
          "execution_count": 89
        }
      ]
    },
    {
      "cell_type": "code",
      "metadata": {
        "colab": {
          "base_uri": "https://localhost:8080/",
          "height": 69
        },
        "id": "HpWijYlI8Yyd",
        "outputId": "9e50fb14-ee54-4534-85cd-487268f36cb5"
      },
      "source": [
        "me = (data19.merge(data18, how='outer', on=['product_rk','store_location_rk'], \r\n",
        "              suffixes=['', '_new'], indicator=True))\r\n",
        "only2 = me[me['_merge']  == 'right_only']\r\n",
        "only2"
      ],
      "execution_count": 95,
      "outputs": [
        {
          "output_type": "execute_result",
          "data": {
            "text/html": [
              "<div>\n",
              "<style scoped>\n",
              "    .dataframe tbody tr th:only-of-type {\n",
              "        vertical-align: middle;\n",
              "    }\n",
              "\n",
              "    .dataframe tbody tr th {\n",
              "        vertical-align: top;\n",
              "    }\n",
              "\n",
              "    .dataframe thead th {\n",
              "        text-align: right;\n",
              "    }\n",
              "</style>\n",
              "<table border=\"1\" class=\"dataframe\">\n",
              "  <thead>\n",
              "    <tr style=\"text-align: right;\">\n",
              "      <th></th>\n",
              "      <th>id</th>\n",
              "      <th>product_rk</th>\n",
              "      <th>store_location_rk</th>\n",
              "      <th>period_start_dt</th>\n",
              "      <th>demand</th>\n",
              "      <th>PROMO1_FLAG</th>\n",
              "      <th>PRICE_REGULAR</th>\n",
              "      <th>PRICE_AFTER_DISC</th>\n",
              "      <th>AUTORIZATION_FLAG</th>\n",
              "      <th>id_new</th>\n",
              "      <th>period_start_dt_new</th>\n",
              "      <th>demand_new</th>\n",
              "      <th>PROMO1_FLAG_new</th>\n",
              "      <th>PRICE_REGULAR_new</th>\n",
              "      <th>PRICE_AFTER_DISC_new</th>\n",
              "      <th>AUTORIZATION_FLAG_new</th>\n",
              "      <th>_merge</th>\n",
              "    </tr>\n",
              "  </thead>\n",
              "  <tbody>\n",
              "  </tbody>\n",
              "</table>\n",
              "</div>"
            ],
            "text/plain": [
              "Empty DataFrame\n",
              "Columns: [id, product_rk, store_location_rk, period_start_dt, demand, PROMO1_FLAG, PRICE_REGULAR, PRICE_AFTER_DISC, AUTORIZATION_FLAG, id_new, period_start_dt_new, demand_new, PROMO1_FLAG_new, PRICE_REGULAR_new, PRICE_AFTER_DISC_new, AUTORIZATION_FLAG_new, _merge]\n",
              "Index: []"
            ]
          },
          "metadata": {
            "tags": []
          },
          "execution_count": 95
        }
      ]
    },
    {
      "cell_type": "code",
      "metadata": {
        "colab": {
          "base_uri": "https://localhost:8080/",
          "height": 222
        },
        "id": "baODPvNKBLeb",
        "outputId": "49214052-b4df-43e0-bea5-2ef5155ed321"
      },
      "source": [
        "me = (data19.merge(data18, how='outer', on=['product_rk','store_location_rk'], \r\n",
        "              suffixes=['', '_new'], indicator=True))\r\n",
        "only2 = me[me['_merge']  == 'left_only']\r\n",
        "only2.head()"
      ],
      "execution_count": 96,
      "outputs": [
        {
          "output_type": "execute_result",
          "data": {
            "text/html": [
              "<div>\n",
              "<style scoped>\n",
              "    .dataframe tbody tr th:only-of-type {\n",
              "        vertical-align: middle;\n",
              "    }\n",
              "\n",
              "    .dataframe tbody tr th {\n",
              "        vertical-align: top;\n",
              "    }\n",
              "\n",
              "    .dataframe thead th {\n",
              "        text-align: right;\n",
              "    }\n",
              "</style>\n",
              "<table border=\"1\" class=\"dataframe\">\n",
              "  <thead>\n",
              "    <tr style=\"text-align: right;\">\n",
              "      <th></th>\n",
              "      <th>id</th>\n",
              "      <th>product_rk</th>\n",
              "      <th>store_location_rk</th>\n",
              "      <th>period_start_dt</th>\n",
              "      <th>demand</th>\n",
              "      <th>PROMO1_FLAG</th>\n",
              "      <th>PRICE_REGULAR</th>\n",
              "      <th>PRICE_AFTER_DISC</th>\n",
              "      <th>AUTORIZATION_FLAG</th>\n",
              "      <th>id_new</th>\n",
              "      <th>period_start_dt_new</th>\n",
              "      <th>demand_new</th>\n",
              "      <th>PROMO1_FLAG_new</th>\n",
              "      <th>PRICE_REGULAR_new</th>\n",
              "      <th>PRICE_AFTER_DISC_new</th>\n",
              "      <th>AUTORIZATION_FLAG_new</th>\n",
              "      <th>_merge</th>\n",
              "    </tr>\n",
              "  </thead>\n",
              "  <tbody>\n",
              "    <tr>\n",
              "      <th>645684</th>\n",
              "      <td>35246</td>\n",
              "      <td>46272</td>\n",
              "      <td>1380</td>\n",
              "      <td>2019-01-21</td>\n",
              "      <td>3.0</td>\n",
              "      <td>1.0</td>\n",
              "      <td>299.0</td>\n",
              "      <td>149.5</td>\n",
              "      <td>0.0</td>\n",
              "      <td>NaN</td>\n",
              "      <td>NaT</td>\n",
              "      <td>NaN</td>\n",
              "      <td>NaN</td>\n",
              "      <td>NaN</td>\n",
              "      <td>NaN</td>\n",
              "      <td>NaN</td>\n",
              "      <td>left_only</td>\n",
              "    </tr>\n",
              "    <tr>\n",
              "      <th>645685</th>\n",
              "      <td>35252</td>\n",
              "      <td>46272</td>\n",
              "      <td>1380</td>\n",
              "      <td>2019-01-28</td>\n",
              "      <td>13.0</td>\n",
              "      <td>1.0</td>\n",
              "      <td>299.0</td>\n",
              "      <td>149.5</td>\n",
              "      <td>0.0</td>\n",
              "      <td>NaN</td>\n",
              "      <td>NaT</td>\n",
              "      <td>NaN</td>\n",
              "      <td>NaN</td>\n",
              "      <td>NaN</td>\n",
              "      <td>NaN</td>\n",
              "      <td>NaN</td>\n",
              "      <td>left_only</td>\n",
              "    </tr>\n",
              "    <tr>\n",
              "      <th>645686</th>\n",
              "      <td>35258</td>\n",
              "      <td>46272</td>\n",
              "      <td>1380</td>\n",
              "      <td>2019-02-04</td>\n",
              "      <td>1.0</td>\n",
              "      <td>1.0</td>\n",
              "      <td>299.0</td>\n",
              "      <td>149.5</td>\n",
              "      <td>0.0</td>\n",
              "      <td>NaN</td>\n",
              "      <td>NaT</td>\n",
              "      <td>NaN</td>\n",
              "      <td>NaN</td>\n",
              "      <td>NaN</td>\n",
              "      <td>NaN</td>\n",
              "      <td>NaN</td>\n",
              "      <td>left_only</td>\n",
              "    </tr>\n",
              "    <tr>\n",
              "      <th>645687</th>\n",
              "      <td>35264</td>\n",
              "      <td>46272</td>\n",
              "      <td>1380</td>\n",
              "      <td>2019-02-11</td>\n",
              "      <td>11.0</td>\n",
              "      <td>1.0</td>\n",
              "      <td>299.0</td>\n",
              "      <td>149.5</td>\n",
              "      <td>0.0</td>\n",
              "      <td>NaN</td>\n",
              "      <td>NaT</td>\n",
              "      <td>NaN</td>\n",
              "      <td>NaN</td>\n",
              "      <td>NaN</td>\n",
              "      <td>NaN</td>\n",
              "      <td>NaN</td>\n",
              "      <td>left_only</td>\n",
              "    </tr>\n",
              "    <tr>\n",
              "      <th>645688</th>\n",
              "      <td>35270</td>\n",
              "      <td>46272</td>\n",
              "      <td>1380</td>\n",
              "      <td>2019-02-18</td>\n",
              "      <td>3.0</td>\n",
              "      <td>1.0</td>\n",
              "      <td>299.0</td>\n",
              "      <td>149.5</td>\n",
              "      <td>0.0</td>\n",
              "      <td>NaN</td>\n",
              "      <td>NaT</td>\n",
              "      <td>NaN</td>\n",
              "      <td>NaN</td>\n",
              "      <td>NaN</td>\n",
              "      <td>NaN</td>\n",
              "      <td>NaN</td>\n",
              "      <td>left_only</td>\n",
              "    </tr>\n",
              "  </tbody>\n",
              "</table>\n",
              "</div>"
            ],
            "text/plain": [
              "           id  product_rk  ...  AUTORIZATION_FLAG_new     _merge\n",
              "645684  35246       46272  ...                    NaN  left_only\n",
              "645685  35252       46272  ...                    NaN  left_only\n",
              "645686  35258       46272  ...                    NaN  left_only\n",
              "645687  35264       46272  ...                    NaN  left_only\n",
              "645688  35270       46272  ...                    NaN  left_only\n",
              "\n",
              "[5 rows x 17 columns]"
            ]
          },
          "metadata": {
            "tags": []
          },
          "execution_count": 96
        }
      ]
    },
    {
      "cell_type": "markdown",
      "metadata": {
        "id": "V7sMAI9F-tqL"
      },
      "source": [
        "Продукт 46272, появился в магазине 1380 только в 2019 гоу, точность его предсказания будет невелика. Нужно смотреть, как он торгуется в соседних магазинах. "
      ]
    },
    {
      "cell_type": "code",
      "metadata": {
        "colab": {
          "base_uri": "https://localhost:8080/",
          "height": 141
        },
        "id": "KAFxs_8z5JGF",
        "outputId": "3cfd9d0f-3fb6-4119-c12b-22326d31a411"
      },
      "source": [
        "data[data['PRICE_REGULAR'].isnull()]"
      ],
      "execution_count": 103,
      "outputs": [
        {
          "output_type": "execute_result",
          "data": {
            "text/html": [
              "<div>\n",
              "<style scoped>\n",
              "    .dataframe tbody tr th:only-of-type {\n",
              "        vertical-align: middle;\n",
              "    }\n",
              "\n",
              "    .dataframe tbody tr th {\n",
              "        vertical-align: top;\n",
              "    }\n",
              "\n",
              "    .dataframe thead th {\n",
              "        text-align: right;\n",
              "    }\n",
              "</style>\n",
              "<table border=\"1\" class=\"dataframe\">\n",
              "  <thead>\n",
              "    <tr style=\"text-align: right;\">\n",
              "      <th></th>\n",
              "      <th>id</th>\n",
              "      <th>product_rk</th>\n",
              "      <th>store_location_rk</th>\n",
              "      <th>period_start_dt</th>\n",
              "      <th>demand</th>\n",
              "      <th>PROMO1_FLAG</th>\n",
              "      <th>PRICE_REGULAR</th>\n",
              "      <th>PRICE_AFTER_DISC</th>\n",
              "      <th>AUTORIZATION_FLAG</th>\n",
              "    </tr>\n",
              "  </thead>\n",
              "  <tbody>\n",
              "    <tr>\n",
              "      <th>35019</th>\n",
              "      <td>35217</td>\n",
              "      <td>40369</td>\n",
              "      <td>1380</td>\n",
              "      <td>2018-12-17</td>\n",
              "      <td>307.463660</td>\n",
              "      <td>0.0</td>\n",
              "      <td>NaN</td>\n",
              "      <td>NaN</td>\n",
              "      <td>0.0</td>\n",
              "    </tr>\n",
              "    <tr>\n",
              "      <th>35021</th>\n",
              "      <td>35219</td>\n",
              "      <td>40372</td>\n",
              "      <td>1380</td>\n",
              "      <td>2018-12-17</td>\n",
              "      <td>263.806495</td>\n",
              "      <td>0.0</td>\n",
              "      <td>NaN</td>\n",
              "      <td>NaN</td>\n",
              "      <td>0.0</td>\n",
              "    </tr>\n",
              "    <tr>\n",
              "      <th>35022</th>\n",
              "      <td>35220</td>\n",
              "      <td>40373</td>\n",
              "      <td>1380</td>\n",
              "      <td>2018-12-17</td>\n",
              "      <td>181.873521</td>\n",
              "      <td>0.0</td>\n",
              "      <td>NaN</td>\n",
              "      <td>NaN</td>\n",
              "      <td>0.0</td>\n",
              "    </tr>\n",
              "  </tbody>\n",
              "</table>\n",
              "</div>"
            ],
            "text/plain": [
              "          id  product_rk  ...  PRICE_AFTER_DISC AUTORIZATION_FLAG\n",
              "35019  35217       40369  ...               NaN               0.0\n",
              "35021  35219       40372  ...               NaN               0.0\n",
              "35022  35220       40373  ...               NaN               0.0\n",
              "\n",
              "[3 rows x 9 columns]"
            ]
          },
          "metadata": {
            "tags": []
          },
          "execution_count": 103
        }
      ]
    },
    {
      "cell_type": "markdown",
      "metadata": {
        "id": "5z7RpYpnCGxa"
      },
      "source": [
        "Осталось еще много незаполненных цен в 2019 году. Заполним их средним по предыдущему году."
      ]
    },
    {
      "cell_type": "code",
      "metadata": {
        "id": "1Mad2Ay1COji"
      },
      "source": [
        "for i in data[data['period_start_dt'].dt.year == 2019].index:\r\n",
        "  if (str(data.loc[i,'PRICE_REGULAR']) == 'nan'):\r\n",
        "    v = data[(data['store_location_rk'] == data.loc[i,'store_location_rk']) & (data['product_rk'] == data.loc[i,'product_rk']) & (data['period_start_dt'].dt.year == 2018)]['PRICE_REGULAR'].mean()\r\n",
        "    if (str(v) == 'nan'):\r\n",
        "      data.loc[i,'PRICE_REGULAR'] = v\r\n",
        "    else:\r\n",
        "      data.loc[i,'PRICE_REGULAR'] = data[(data['store_location_rk'] == data.loc[i,'store_location_rk']) & (data['product_rk'] == data.loc[i,'product_rk']) & (data['period_start_dt'].dt.year == 2019)]['PRICE_REGULAR'].mean()\r\n",
        "\r\n"
      ],
      "execution_count": 102,
      "outputs": []
    },
    {
      "cell_type": "code",
      "metadata": {
        "colab": {
          "base_uri": "https://localhost:8080/",
          "height": 49
        },
        "id": "HCb6eFlODhhP",
        "outputId": "52bb43d1-5f9a-4225-eda2-7e0c0f06b87c"
      },
      "source": [
        "#Проверка\r\n",
        "data[data['PRICE_REGULAR'].isnull()]"
      ],
      "execution_count": 115,
      "outputs": [
        {
          "output_type": "execute_result",
          "data": {
            "text/html": [
              "<div>\n",
              "<style scoped>\n",
              "    .dataframe tbody tr th:only-of-type {\n",
              "        vertical-align: middle;\n",
              "    }\n",
              "\n",
              "    .dataframe tbody tr th {\n",
              "        vertical-align: top;\n",
              "    }\n",
              "\n",
              "    .dataframe thead th {\n",
              "        text-align: right;\n",
              "    }\n",
              "</style>\n",
              "<table border=\"1\" class=\"dataframe\">\n",
              "  <thead>\n",
              "    <tr style=\"text-align: right;\">\n",
              "      <th></th>\n",
              "      <th>id</th>\n",
              "      <th>product_rk</th>\n",
              "      <th>store_location_rk</th>\n",
              "      <th>period_start_dt</th>\n",
              "      <th>demand</th>\n",
              "      <th>PROMO1_FLAG</th>\n",
              "      <th>PRICE_REGULAR</th>\n",
              "      <th>PRICE_AFTER_DISC</th>\n",
              "      <th>AUTORIZATION_FLAG</th>\n",
              "    </tr>\n",
              "  </thead>\n",
              "  <tbody>\n",
              "  </tbody>\n",
              "</table>\n",
              "</div>"
            ],
            "text/plain": [
              "Empty DataFrame\n",
              "Columns: [id, product_rk, store_location_rk, period_start_dt, demand, PROMO1_FLAG, PRICE_REGULAR, PRICE_AFTER_DISC, AUTORIZATION_FLAG]\n",
              "Index: []"
            ]
          },
          "metadata": {
            "tags": []
          },
          "execution_count": 115
        }
      ]
    },
    {
      "cell_type": "markdown",
      "metadata": {
        "id": "-n-fCQtQDviJ"
      },
      "source": [
        "Осталось три записи с пропущенными ценами. Заполним их по той же схеме."
      ]
    },
    {
      "cell_type": "code",
      "metadata": {
        "colab": {
          "base_uri": "https://localhost:8080/"
        },
        "id": "ILRY5C8bD3NC",
        "outputId": "340f5102-16b4-4861-e753-fed6ed4f9a19"
      },
      "source": [
        "for i in data[data['period_start_dt'].dt.year == 2018].index:\r\n",
        "  if (str(data.loc[i,'PRICE_REGULAR']) == 'nan'):\r\n",
        "    data.loc[i,'PRICE_REGULAR'] = data[(data['store_location_rk'] == data.loc[i,'store_location_rk']) & (data['product_rk'] == data.loc[i,'product_rk']) & (data['period_start_dt'].dt.year == 2018)]['PRICE_REGULAR'].mean()\r\n",
        "\r\n"
      ],
      "execution_count": 114,
      "outputs": [
        {
          "output_type": "stream",
          "text": [
            "/usr/local/lib/python3.7/dist-packages/pandas/core/indexing.py:1763: SettingWithCopyWarning: \n",
            "A value is trying to be set on a copy of a slice from a DataFrame.\n",
            "Try using .loc[row_indexer,col_indexer] = value instead\n",
            "\n",
            "See the caveats in the documentation: https://pandas.pydata.org/pandas-docs/stable/user_guide/indexing.html#returning-a-view-versus-a-copy\n",
            "  isetter(loc, value)\n",
            "/usr/local/lib/python3.7/dist-packages/pandas/core/indexing.py:1763: SettingWithCopyWarning: \n",
            "A value is trying to be set on a copy of a slice from a DataFrame.\n",
            "Try using .loc[row_indexer,col_indexer] = value instead\n",
            "\n",
            "See the caveats in the documentation: https://pandas.pydata.org/pandas-docs/stable/user_guide/indexing.html#returning-a-view-versus-a-copy\n",
            "  isetter(loc, value)\n",
            "/usr/local/lib/python3.7/dist-packages/pandas/core/indexing.py:1763: SettingWithCopyWarning: \n",
            "A value is trying to be set on a copy of a slice from a DataFrame.\n",
            "Try using .loc[row_indexer,col_indexer] = value instead\n",
            "\n",
            "See the caveats in the documentation: https://pandas.pydata.org/pandas-docs/stable/user_guide/indexing.html#returning-a-view-versus-a-copy\n",
            "  isetter(loc, value)\n"
          ],
          "name": "stderr"
        }
      ]
    },
    {
      "cell_type": "code",
      "metadata": {
        "colab": {
          "base_uri": "https://localhost:8080/",
          "height": 49
        },
        "id": "7iQAhHfPEjbP",
        "outputId": "6edde7ca-d6fa-4ff9-d69a-5d0769b081a3"
      },
      "source": [
        "#Проверка\r\n",
        "data[data['PRICE_REGULAR'].isnull()]"
      ],
      "execution_count": 116,
      "outputs": [
        {
          "output_type": "execute_result",
          "data": {
            "text/html": [
              "<div>\n",
              "<style scoped>\n",
              "    .dataframe tbody tr th:only-of-type {\n",
              "        vertical-align: middle;\n",
              "    }\n",
              "\n",
              "    .dataframe tbody tr th {\n",
              "        vertical-align: top;\n",
              "    }\n",
              "\n",
              "    .dataframe thead th {\n",
              "        text-align: right;\n",
              "    }\n",
              "</style>\n",
              "<table border=\"1\" class=\"dataframe\">\n",
              "  <thead>\n",
              "    <tr style=\"text-align: right;\">\n",
              "      <th></th>\n",
              "      <th>id</th>\n",
              "      <th>product_rk</th>\n",
              "      <th>store_location_rk</th>\n",
              "      <th>period_start_dt</th>\n",
              "      <th>demand</th>\n",
              "      <th>PROMO1_FLAG</th>\n",
              "      <th>PRICE_REGULAR</th>\n",
              "      <th>PRICE_AFTER_DISC</th>\n",
              "      <th>AUTORIZATION_FLAG</th>\n",
              "    </tr>\n",
              "  </thead>\n",
              "  <tbody>\n",
              "  </tbody>\n",
              "</table>\n",
              "</div>"
            ],
            "text/plain": [
              "Empty DataFrame\n",
              "Columns: [id, product_rk, store_location_rk, period_start_dt, demand, PROMO1_FLAG, PRICE_REGULAR, PRICE_AFTER_DISC, AUTORIZATION_FLAG]\n",
              "Index: []"
            ]
          },
          "metadata": {
            "tags": []
          },
          "execution_count": 116
        }
      ]
    },
    {
      "cell_type": "markdown",
      "metadata": {
        "id": "OPbLWkjhEeqz"
      },
      "source": [
        "Теперь можно заполнить все оставшиеся пропущенные поля\r\n"
      ]
    },
    {
      "cell_type": "code",
      "metadata": {
        "colab": {
          "base_uri": "https://localhost:8080/"
        },
        "id": "uM4peiQjE3FZ",
        "outputId": "8d1889dd-ce46-4857-f369-3d71c8e0ccd6"
      },
      "source": [
        "for i in data.index:\r\n",
        "  if (str(data.loc[i,'PRICE_AFTER_DISC']) == 'nan'):\r\n",
        "    data.loc[i,'PRICE_AFTER_DISC'] = data.loc[i,'PRICE_REGULAR']\r\n",
        "  if (str(data.loc[i,'PROMO1_FLAG']) == 'nan'):\r\n",
        "    data.loc[i,'PROMO1_FLAG'] = 0\r\n",
        "  if (str(data.loc[i,'AUTORIZATION_FLAG']) == 'nan'):\r\n",
        "    data.loc[i,'AUTORIZATION_FLAG'] = 1"
      ],
      "execution_count": 117,
      "outputs": [
        {
          "output_type": "stream",
          "text": [
            "/usr/local/lib/python3.7/dist-packages/pandas/core/indexing.py:1763: SettingWithCopyWarning: \n",
            "A value is trying to be set on a copy of a slice from a DataFrame.\n",
            "Try using .loc[row_indexer,col_indexer] = value instead\n",
            "\n",
            "See the caveats in the documentation: https://pandas.pydata.org/pandas-docs/stable/user_guide/indexing.html#returning-a-view-versus-a-copy\n",
            "  isetter(loc, value)\n"
          ],
          "name": "stderr"
        }
      ]
    },
    {
      "cell_type": "markdown",
      "metadata": {
        "id": "KcISg9mcGL1l"
      },
      "source": [
        "Посмотрим, что имеем после всех изменений."
      ]
    },
    {
      "cell_type": "code",
      "metadata": {
        "colab": {
          "base_uri": "https://localhost:8080/",
          "height": 325
        },
        "id": "4VFeYX-fGLI0",
        "outputId": "53a79e15-a0c9-4d84-da22-7937b46fd11c"
      },
      "source": [
        "columns = [\"UNIQUE\", 'PERCENT_UNIQUE', 'ZEROS', 'PERCENT_ZEROS', 'NANS', 'PERCENT_NANS', 'DATA_TYPE']\r\n",
        "#dt = pd.DataFrame(index=data.columns, columns=columns)\r\n",
        "\r\n",
        "for col in data.columns:\r\n",
        "  dt.loc[col,\"UNIQUE\"] = len(data[col].unique())\r\n",
        "  dt.loc[col,\"PERCENT_UNIQUE\"] = dt.loc[col,\"UNIQUE\"]/len(data[col])*100\r\n",
        "  dt.loc[col,\"NANS\"] = np.sum(data[col].isnull())\r\n",
        "  dt.loc[col,\"PERCENT_NANS\"] = dt.loc[col,\"NANS\"]/len(data[col])*100\r\n",
        "  dt.loc[col,\"ZEROS\"] = (data[col] == 0).sum()\r\n",
        "  dt.loc[col,\"PERCENT_ZEROS\"] = dt.loc[col,\"ZEROS\"]/len(data[col])*100\r\n",
        "  dt[\"DATA_TYPE\"] = data.dtypes   \r\n",
        "\r\n",
        "dt"
      ],
      "execution_count": 127,
      "outputs": [
        {
          "output_type": "execute_result",
          "data": {
            "text/html": [
              "<div>\n",
              "<style scoped>\n",
              "    .dataframe tbody tr th:only-of-type {\n",
              "        vertical-align: middle;\n",
              "    }\n",
              "\n",
              "    .dataframe tbody tr th {\n",
              "        vertical-align: top;\n",
              "    }\n",
              "\n",
              "    .dataframe thead th {\n",
              "        text-align: right;\n",
              "    }\n",
              "</style>\n",
              "<table border=\"1\" class=\"dataframe\">\n",
              "  <thead>\n",
              "    <tr style=\"text-align: right;\">\n",
              "      <th></th>\n",
              "      <th>UNIQUE</th>\n",
              "      <th>PERCENT_UNIQUE</th>\n",
              "      <th>ZEROS</th>\n",
              "      <th>PERCENT_ZEROS</th>\n",
              "      <th>NANS</th>\n",
              "      <th>PERCENT_NANS</th>\n",
              "      <th>DATA_TYPE</th>\n",
              "    </tr>\n",
              "  </thead>\n",
              "  <tbody>\n",
              "    <tr>\n",
              "      <th>id</th>\n",
              "      <td>35329</td>\n",
              "      <td>100</td>\n",
              "      <td>0</td>\n",
              "      <td>0</td>\n",
              "      <td>0</td>\n",
              "      <td>0</td>\n",
              "      <td>int64</td>\n",
              "    </tr>\n",
              "    <tr>\n",
              "      <th>product_rk</th>\n",
              "      <td>6</td>\n",
              "      <td>0.0169832</td>\n",
              "      <td>0</td>\n",
              "      <td>0</td>\n",
              "      <td>0</td>\n",
              "      <td>0</td>\n",
              "      <td>int64</td>\n",
              "    </tr>\n",
              "    <tr>\n",
              "      <th>store_location_rk</th>\n",
              "      <td>40</td>\n",
              "      <td>0.113221</td>\n",
              "      <td>0</td>\n",
              "      <td>0</td>\n",
              "      <td>0</td>\n",
              "      <td>0</td>\n",
              "      <td>int64</td>\n",
              "    </tr>\n",
              "    <tr>\n",
              "      <th>period_start_dt</th>\n",
              "      <td>159</td>\n",
              "      <td>0.450055</td>\n",
              "      <td>0</td>\n",
              "      <td>0</td>\n",
              "      <td>0</td>\n",
              "      <td>0</td>\n",
              "      <td>datetime64[ns]</td>\n",
              "    </tr>\n",
              "    <tr>\n",
              "      <th>demand</th>\n",
              "      <td>1811</td>\n",
              "      <td>5.1261</td>\n",
              "      <td>0</td>\n",
              "      <td>0</td>\n",
              "      <td>1200</td>\n",
              "      <td>3.39664</td>\n",
              "      <td>float64</td>\n",
              "    </tr>\n",
              "    <tr>\n",
              "      <th>PROMO1_FLAG</th>\n",
              "      <td>3</td>\n",
              "      <td>0.00849161</td>\n",
              "      <td>28493</td>\n",
              "      <td>80.6505</td>\n",
              "      <td>0</td>\n",
              "      <td>0</td>\n",
              "      <td>float64</td>\n",
              "    </tr>\n",
              "    <tr>\n",
              "      <th>PRICE_REGULAR</th>\n",
              "      <td>229</td>\n",
              "      <td>0.648193</td>\n",
              "      <td>0</td>\n",
              "      <td>0</td>\n",
              "      <td>0</td>\n",
              "      <td>0</td>\n",
              "      <td>float64</td>\n",
              "    </tr>\n",
              "    <tr>\n",
              "      <th>PRICE_AFTER_DISC</th>\n",
              "      <td>1036</td>\n",
              "      <td>2.93244</td>\n",
              "      <td>0</td>\n",
              "      <td>0</td>\n",
              "      <td>0</td>\n",
              "      <td>0</td>\n",
              "      <td>float64</td>\n",
              "    </tr>\n",
              "    <tr>\n",
              "      <th>AUTORIZATION_FLAG</th>\n",
              "      <td>2</td>\n",
              "      <td>0.00566107</td>\n",
              "      <td>3246</td>\n",
              "      <td>9.18792</td>\n",
              "      <td>0</td>\n",
              "      <td>0</td>\n",
              "      <td>float64</td>\n",
              "    </tr>\n",
              "  </tbody>\n",
              "</table>\n",
              "</div>"
            ],
            "text/plain": [
              "                  UNIQUE PERCENT_UNIQUE  ... PERCENT_NANS       DATA_TYPE\n",
              "id                 35329            100  ...            0           int64\n",
              "product_rk             6      0.0169832  ...            0           int64\n",
              "store_location_rk     40       0.113221  ...            0           int64\n",
              "period_start_dt      159       0.450055  ...            0  datetime64[ns]\n",
              "demand              1811         5.1261  ...      3.39664         float64\n",
              "PROMO1_FLAG            3     0.00849161  ...            0         float64\n",
              "PRICE_REGULAR        229       0.648193  ...            0         float64\n",
              "PRICE_AFTER_DISC    1036        2.93244  ...            0         float64\n",
              "AUTORIZATION_FLAG      2     0.00566107  ...            0         float64\n",
              "\n",
              "[9 rows x 7 columns]"
            ]
          },
          "metadata": {
            "tags": []
          },
          "execution_count": 127
        }
      ]
    },
    {
      "cell_type": "markdown",
      "metadata": {
        "id": "K4mTrlqKHNa7"
      },
      "source": [
        ""
      ]
    },
    {
      "cell_type": "code",
      "metadata": {
        "colab": {
          "base_uri": "https://localhost:8080/"
        },
        "id": "rDdonDNUEJ1u",
        "outputId": "36e80e6e-3704-4bf4-a0fe-c742227d5c31"
      },
      "source": [
        "v = data[(data['store_location_rk'] == data.loc[i,'store_location_rk']) & (data['product_rk'] == data.loc[i,'product_rk']) & (data['period_start_dt'].dt.year == 2018)]['PRICE_REGULAR'].mean()\r\n",
        "v"
      ],
      "execution_count": 111,
      "outputs": [
        {
          "output_type": "execute_result",
          "data": {
            "text/plain": [
              "99.0"
            ]
          },
          "metadata": {
            "tags": []
          },
          "execution_count": 111
        }
      ]
    },
    {
      "cell_type": "code",
      "metadata": {
        "colab": {
          "base_uri": "https://localhost:8080/"
        },
        "id": "Ol4szQbyCokq",
        "outputId": "270a33e9-c802-43bd-82f3-44c87e03886b"
      },
      "source": [
        " v = data[(data['store_location_rk'] == data.loc[i,'store_location_rk']) & (data['product_rk'] == data.loc[i,'product_rk']) ]['PRICE_REGULAR'].mean()\r\n",
        "v"
      ],
      "execution_count": 100,
      "outputs": [
        {
          "output_type": "execute_result",
          "data": {
            "text/plain": [
              "235.95637914660387"
            ]
          },
          "metadata": {
            "tags": []
          },
          "execution_count": 100
        }
      ]
    },
    {
      "cell_type": "code",
      "metadata": {
        "id": "oXZvSRTn7Bl9"
      },
      "source": [
        "data[ (data['period_start_dt'].dt.year == 2019)& (data['period_start_dt'].dt.month == 12)]"
      ],
      "execution_count": null,
      "outputs": []
    },
    {
      "cell_type": "code",
      "metadata": {
        "colab": {
          "base_uri": "https://localhost:8080/"
        },
        "id": "H_TKC19X2X1s",
        "outputId": "80f9973d-913d-4772-b155-9d5b0c9bfb97"
      },
      "source": [
        " data[(data['store_location_rk'] == data.loc[i,'store_location_rk']) & (data['product_rk'] == data.loc[i,'product_rk']) & (data['period_start_dt'] == '2017-01-02')]['PRICE_REGULAR'].tolist()[0]"
      ],
      "execution_count": 49,
      "outputs": [
        {
          "output_type": "execute_result",
          "data": {
            "text/plain": [
              "nan"
            ]
          },
          "metadata": {
            "tags": []
          },
          "execution_count": 49
        }
      ]
    },
    {
      "cell_type": "code",
      "metadata": {
        "id": "XWO7rhOXTlFw",
        "colab": {
          "base_uri": "https://localhost:8080/",
          "height": 415
        },
        "outputId": "9f6b6a31-dbf8-4b34-96b6-2e97886a34a3"
      },
      "source": [
        "for key, value in means.items():\r\n",
        "  data[data['product_rk'] == key] \r\n",
        "\r\n",
        "data"
      ],
      "execution_count": 25,
      "outputs": [
        {
          "output_type": "execute_result",
          "data": {
            "text/html": [
              "<div>\n",
              "<style scoped>\n",
              "    .dataframe tbody tr th:only-of-type {\n",
              "        vertical-align: middle;\n",
              "    }\n",
              "\n",
              "    .dataframe tbody tr th {\n",
              "        vertical-align: top;\n",
              "    }\n",
              "\n",
              "    .dataframe thead th {\n",
              "        text-align: right;\n",
              "    }\n",
              "</style>\n",
              "<table border=\"1\" class=\"dataframe\">\n",
              "  <thead>\n",
              "    <tr style=\"text-align: right;\">\n",
              "      <th></th>\n",
              "      <th>id</th>\n",
              "      <th>product_rk</th>\n",
              "      <th>store_location_rk</th>\n",
              "      <th>period_start_dt</th>\n",
              "      <th>demand</th>\n",
              "      <th>PROMO1_FLAG</th>\n",
              "      <th>PRICE_REGULAR</th>\n",
              "      <th>PRICE_AFTER_DISC</th>\n",
              "      <th>AUTORIZATION_FLAG</th>\n",
              "    </tr>\n",
              "  </thead>\n",
              "  <tbody>\n",
              "    <tr>\n",
              "      <th>0</th>\n",
              "      <td>0</td>\n",
              "      <td>40369</td>\n",
              "      <td>309</td>\n",
              "      <td>2016-12-19</td>\n",
              "      <td>29.0</td>\n",
              "      <td>NaN</td>\n",
              "      <td>NaN</td>\n",
              "      <td>NaN</td>\n",
              "      <td>NaN</td>\n",
              "    </tr>\n",
              "    <tr>\n",
              "      <th>1</th>\n",
              "      <td>1</td>\n",
              "      <td>40370</td>\n",
              "      <td>309</td>\n",
              "      <td>2016-12-19</td>\n",
              "      <td>64.0</td>\n",
              "      <td>NaN</td>\n",
              "      <td>NaN</td>\n",
              "      <td>NaN</td>\n",
              "      <td>NaN</td>\n",
              "    </tr>\n",
              "    <tr>\n",
              "      <th>2</th>\n",
              "      <td>2</td>\n",
              "      <td>40372</td>\n",
              "      <td>309</td>\n",
              "      <td>2016-12-19</td>\n",
              "      <td>32.0</td>\n",
              "      <td>NaN</td>\n",
              "      <td>NaN</td>\n",
              "      <td>NaN</td>\n",
              "      <td>NaN</td>\n",
              "    </tr>\n",
              "    <tr>\n",
              "      <th>3</th>\n",
              "      <td>3</td>\n",
              "      <td>40373</td>\n",
              "      <td>309</td>\n",
              "      <td>2016-12-19</td>\n",
              "      <td>10.0</td>\n",
              "      <td>NaN</td>\n",
              "      <td>NaN</td>\n",
              "      <td>NaN</td>\n",
              "      <td>NaN</td>\n",
              "    </tr>\n",
              "    <tr>\n",
              "      <th>4</th>\n",
              "      <td>4</td>\n",
              "      <td>46272</td>\n",
              "      <td>309</td>\n",
              "      <td>2016-12-19</td>\n",
              "      <td>15.0</td>\n",
              "      <td>NaN</td>\n",
              "      <td>NaN</td>\n",
              "      <td>NaN</td>\n",
              "      <td>NaN</td>\n",
              "    </tr>\n",
              "    <tr>\n",
              "      <th>...</th>\n",
              "      <td>...</td>\n",
              "      <td>...</td>\n",
              "      <td>...</td>\n",
              "      <td>...</td>\n",
              "      <td>...</td>\n",
              "      <td>...</td>\n",
              "      <td>...</td>\n",
              "      <td>...</td>\n",
              "      <td>...</td>\n",
              "    </tr>\n",
              "    <tr>\n",
              "      <th>35339</th>\n",
              "      <td>35537</td>\n",
              "      <td>40370</td>\n",
              "      <td>1380</td>\n",
              "      <td>2019-12-30</td>\n",
              "      <td>NaN</td>\n",
              "      <td>0.0</td>\n",
              "      <td>1000.00</td>\n",
              "      <td>1000.0</td>\n",
              "      <td>1.0</td>\n",
              "    </tr>\n",
              "    <tr>\n",
              "      <th>35340</th>\n",
              "      <td>35538</td>\n",
              "      <td>40372</td>\n",
              "      <td>1380</td>\n",
              "      <td>2019-12-30</td>\n",
              "      <td>NaN</td>\n",
              "      <td>0.0</td>\n",
              "      <td>2000.00</td>\n",
              "      <td>2000.0</td>\n",
              "      <td>1.0</td>\n",
              "    </tr>\n",
              "    <tr>\n",
              "      <th>35341</th>\n",
              "      <td>35539</td>\n",
              "      <td>40373</td>\n",
              "      <td>1380</td>\n",
              "      <td>2019-12-30</td>\n",
              "      <td>NaN</td>\n",
              "      <td>0.0</td>\n",
              "      <td>3000.00</td>\n",
              "      <td>3000.0</td>\n",
              "      <td>1.0</td>\n",
              "    </tr>\n",
              "    <tr>\n",
              "      <th>35342</th>\n",
              "      <td>35540</td>\n",
              "      <td>46272</td>\n",
              "      <td>1380</td>\n",
              "      <td>2019-12-30</td>\n",
              "      <td>NaN</td>\n",
              "      <td>1.0</td>\n",
              "      <td>284.29</td>\n",
              "      <td>199.0</td>\n",
              "      <td>1.0</td>\n",
              "    </tr>\n",
              "    <tr>\n",
              "      <th>35343</th>\n",
              "      <td>35541</td>\n",
              "      <td>96212</td>\n",
              "      <td>1380</td>\n",
              "      <td>2019-12-30</td>\n",
              "      <td>NaN</td>\n",
              "      <td>1.0</td>\n",
              "      <td>141.43</td>\n",
              "      <td>99.0</td>\n",
              "      <td>1.0</td>\n",
              "    </tr>\n",
              "  </tbody>\n",
              "</table>\n",
              "<p>35344 rows × 9 columns</p>\n",
              "</div>"
            ],
            "text/plain": [
              "          id  product_rk  ...  PRICE_AFTER_DISC AUTORIZATION_FLAG\n",
              "0          0       40369  ...               NaN               NaN\n",
              "1          1       40370  ...               NaN               NaN\n",
              "2          2       40372  ...               NaN               NaN\n",
              "3          3       40373  ...               NaN               NaN\n",
              "4          4       46272  ...               NaN               NaN\n",
              "...      ...         ...  ...               ...               ...\n",
              "35339  35537       40370  ...            1000.0               1.0\n",
              "35340  35538       40372  ...            2000.0               1.0\n",
              "35341  35539       40373  ...            3000.0               1.0\n",
              "35342  35540       46272  ...             199.0               1.0\n",
              "35343  35541       96212  ...              99.0               1.0\n",
              "\n",
              "[35344 rows x 9 columns]"
            ]
          },
          "metadata": {
            "tags": []
          },
          "execution_count": 25
        }
      ]
    },
    {
      "cell_type": "code",
      "metadata": {
        "id": "3wEQZ7h0REVb",
        "colab": {
          "base_uri": "https://localhost:8080/",
          "height": 202
        },
        "outputId": "d17b03d3-bc0b-4bec-9dfc-dc9eeb36fc93"
      },
      "source": [
        "data[ (data['PRICE_REGULAR'].isnull()) & (data['period_start_dt'].dt.year == 2017) & (data['period_start_dt'].dt.month == 1)  ].head(20)"
      ],
      "execution_count": 87,
      "outputs": [
        {
          "output_type": "execute_result",
          "data": {
            "text/html": [
              "<div>\n",
              "<style scoped>\n",
              "    .dataframe tbody tr th:only-of-type {\n",
              "        vertical-align: middle;\n",
              "    }\n",
              "\n",
              "    .dataframe tbody tr th {\n",
              "        vertical-align: top;\n",
              "    }\n",
              "\n",
              "    .dataframe thead th {\n",
              "        text-align: right;\n",
              "    }\n",
              "</style>\n",
              "<table border=\"1\" class=\"dataframe\">\n",
              "  <thead>\n",
              "    <tr style=\"text-align: right;\">\n",
              "      <th></th>\n",
              "      <th>id</th>\n",
              "      <th>product_rk</th>\n",
              "      <th>store_location_rk</th>\n",
              "      <th>period_start_dt</th>\n",
              "      <th>demand</th>\n",
              "      <th>PROMO1_FLAG</th>\n",
              "      <th>PRICE_REGULAR</th>\n",
              "      <th>PRICE_AFTER_DISC</th>\n",
              "      <th>AUTORIZATION_FLAG</th>\n",
              "    </tr>\n",
              "  </thead>\n",
              "  <tbody>\n",
              "    <tr>\n",
              "      <th>10</th>\n",
              "      <td>10</td>\n",
              "      <td>40369</td>\n",
              "      <td>309</td>\n",
              "      <td>2017-01-02</td>\n",
              "      <td>50.0</td>\n",
              "      <td>NaN</td>\n",
              "      <td>NaN</td>\n",
              "      <td>NaN</td>\n",
              "      <td>NaN</td>\n",
              "    </tr>\n",
              "    <tr>\n",
              "      <th>11</th>\n",
              "      <td>11</td>\n",
              "      <td>40370</td>\n",
              "      <td>309</td>\n",
              "      <td>2017-01-02</td>\n",
              "      <td>70.0</td>\n",
              "      <td>NaN</td>\n",
              "      <td>NaN</td>\n",
              "      <td>NaN</td>\n",
              "      <td>NaN</td>\n",
              "    </tr>\n",
              "    <tr>\n",
              "      <th>12</th>\n",
              "      <td>12</td>\n",
              "      <td>40372</td>\n",
              "      <td>309</td>\n",
              "      <td>2017-01-02</td>\n",
              "      <td>30.0</td>\n",
              "      <td>NaN</td>\n",
              "      <td>NaN</td>\n",
              "      <td>NaN</td>\n",
              "      <td>NaN</td>\n",
              "    </tr>\n",
              "    <tr>\n",
              "      <th>13</th>\n",
              "      <td>13</td>\n",
              "      <td>40373</td>\n",
              "      <td>309</td>\n",
              "      <td>2017-01-02</td>\n",
              "      <td>42.0</td>\n",
              "      <td>NaN</td>\n",
              "      <td>NaN</td>\n",
              "      <td>NaN</td>\n",
              "      <td>NaN</td>\n",
              "    </tr>\n",
              "    <tr>\n",
              "      <th>14</th>\n",
              "      <td>14</td>\n",
              "      <td>46272</td>\n",
              "      <td>309</td>\n",
              "      <td>2017-01-02</td>\n",
              "      <td>13.0</td>\n",
              "      <td>NaN</td>\n",
              "      <td>NaN</td>\n",
              "      <td>NaN</td>\n",
              "      <td>NaN</td>\n",
              "    </tr>\n",
              "  </tbody>\n",
              "</table>\n",
              "</div>"
            ],
            "text/plain": [
              "    id  product_rk  ...  PRICE_AFTER_DISC AUTORIZATION_FLAG\n",
              "10  10       40369  ...               NaN               NaN\n",
              "11  11       40370  ...               NaN               NaN\n",
              "12  12       40372  ...               NaN               NaN\n",
              "13  13       40373  ...               NaN               NaN\n",
              "14  14       46272  ...               NaN               NaN\n",
              "\n",
              "[5 rows x 9 columns]"
            ]
          },
          "metadata": {
            "tags": []
          },
          "execution_count": 87
        }
      ]
    },
    {
      "cell_type": "code",
      "metadata": {
        "id": "klQhvrNXfS0f",
        "colab": {
          "base_uri": "https://localhost:8080/",
          "height": 202
        },
        "outputId": "f3a0d945-fa35-4c38-ca11-de9952ad91d1"
      },
      "source": [
        "data.head()"
      ],
      "execution_count": null,
      "outputs": [
        {
          "output_type": "execute_result",
          "data": {
            "text/html": [
              "<div>\n",
              "<style scoped>\n",
              "    .dataframe tbody tr th:only-of-type {\n",
              "        vertical-align: middle;\n",
              "    }\n",
              "\n",
              "    .dataframe tbody tr th {\n",
              "        vertical-align: top;\n",
              "    }\n",
              "\n",
              "    .dataframe thead th {\n",
              "        text-align: right;\n",
              "    }\n",
              "</style>\n",
              "<table border=\"1\" class=\"dataframe\">\n",
              "  <thead>\n",
              "    <tr style=\"text-align: right;\">\n",
              "      <th></th>\n",
              "      <th>id</th>\n",
              "      <th>product_rk</th>\n",
              "      <th>store_location_rk</th>\n",
              "      <th>period_start_dt</th>\n",
              "      <th>demand</th>\n",
              "      <th>PROMO1_FLAG</th>\n",
              "      <th>PROMO2_FLAG</th>\n",
              "      <th>PRICE_REGULAR</th>\n",
              "      <th>PRICE_AFTER_DISC</th>\n",
              "      <th>AUTORIZATION_FLAG</th>\n",
              "    </tr>\n",
              "  </thead>\n",
              "  <tbody>\n",
              "    <tr>\n",
              "      <th>0</th>\n",
              "      <td>307.46366</td>\n",
              "      <td>40369</td>\n",
              "      <td>309</td>\n",
              "      <td>2016-12-19</td>\n",
              "      <td>29.0</td>\n",
              "      <td>NaN</td>\n",
              "      <td>NaN</td>\n",
              "      <td>NaN</td>\n",
              "      <td>NaN</td>\n",
              "      <td>NaN</td>\n",
              "    </tr>\n",
              "    <tr>\n",
              "      <th>1</th>\n",
              "      <td>1.00000</td>\n",
              "      <td>40370</td>\n",
              "      <td>309</td>\n",
              "      <td>2016-12-19</td>\n",
              "      <td>64.0</td>\n",
              "      <td>NaN</td>\n",
              "      <td>NaN</td>\n",
              "      <td>NaN</td>\n",
              "      <td>NaN</td>\n",
              "      <td>NaN</td>\n",
              "    </tr>\n",
              "    <tr>\n",
              "      <th>2</th>\n",
              "      <td>2.00000</td>\n",
              "      <td>40372</td>\n",
              "      <td>309</td>\n",
              "      <td>2016-12-19</td>\n",
              "      <td>32.0</td>\n",
              "      <td>NaN</td>\n",
              "      <td>NaN</td>\n",
              "      <td>NaN</td>\n",
              "      <td>NaN</td>\n",
              "      <td>NaN</td>\n",
              "    </tr>\n",
              "    <tr>\n",
              "      <th>3</th>\n",
              "      <td>3.00000</td>\n",
              "      <td>40373</td>\n",
              "      <td>309</td>\n",
              "      <td>2016-12-19</td>\n",
              "      <td>10.0</td>\n",
              "      <td>NaN</td>\n",
              "      <td>NaN</td>\n",
              "      <td>NaN</td>\n",
              "      <td>NaN</td>\n",
              "      <td>NaN</td>\n",
              "    </tr>\n",
              "    <tr>\n",
              "      <th>4</th>\n",
              "      <td>4.00000</td>\n",
              "      <td>46272</td>\n",
              "      <td>309</td>\n",
              "      <td>2016-12-19</td>\n",
              "      <td>15.0</td>\n",
              "      <td>NaN</td>\n",
              "      <td>NaN</td>\n",
              "      <td>NaN</td>\n",
              "      <td>NaN</td>\n",
              "      <td>NaN</td>\n",
              "    </tr>\n",
              "  </tbody>\n",
              "</table>\n",
              "</div>"
            ],
            "text/plain": [
              "          id  product_rk  ...  PRICE_AFTER_DISC AUTORIZATION_FLAG\n",
              "0  307.46366       40369  ...               NaN               NaN\n",
              "1    1.00000       40370  ...               NaN               NaN\n",
              "2    2.00000       40372  ...               NaN               NaN\n",
              "3    3.00000       40373  ...               NaN               NaN\n",
              "4    4.00000       46272  ...               NaN               NaN\n",
              "\n",
              "[5 rows x 10 columns]"
            ]
          },
          "metadata": {
            "tags": []
          },
          "execution_count": 27
        }
      ]
    },
    {
      "cell_type": "code",
      "metadata": {
        "id": "a34Kcb0dOebW"
      },
      "source": [
        ""
      ],
      "execution_count": null,
      "outputs": []
    }
  ]
}